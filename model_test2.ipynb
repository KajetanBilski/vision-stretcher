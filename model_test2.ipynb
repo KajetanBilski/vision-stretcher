{
 "cells": [
  {
   "cell_type": "code",
   "execution_count": 1,
   "metadata": {},
   "outputs": [
    {
     "name": "stderr",
     "output_type": "stream",
     "text": [
      "/home/proto/miniconda3/envs/vision-stretcher/lib/python3.9/site-packages/skimage/io/manage_plugins.py:23: UserWarning: Your installed pillow version is < 8.1.2. Several security issues (CVE-2021-27921, CVE-2021-25290, CVE-2021-25291, CVE-2021-25293, and more) have been fixed in pillow 8.1.2 or higher. We recommend to upgrade this library.\n",
      "  from .collection import imread_collection_wrapper\n"
     ]
    }
   ],
   "source": [
    "from outpainter_net.net import OutpainterNet\n",
    "import torch\n",
    "import numpy as np\n",
    "import skimage\n",
    "import torchvision\n",
    "import json\n",
    "from stacker_net.train import MyDataset\n",
    "from outpainter_net.train import construct_dataset, train\n",
    "import pickle\n",
    "import os\n",
    "from torch.utils.data import DataLoader, random_split\n",
    "from torch import nn\n",
    "from math import floor, ceil\n",
    "from scipy.ndimage.morphology import distance_transform_edt\n",
    "from torchvision.transforms.functional import center_crop, resize\n",
    "from torch.nn.functional import pad\n",
    "from typing import Optional, Callable, Any, List\n",
    "import glob\n",
    "from tqdm import tqdm\n",
    "import sys\n",
    "from PIL import Image\n",
    "import random\n",
    "\n",
    "sys.path.insert(0, \"/mnt/c/Users/proto/repos/image-outpainting\")\n",
    "import outpainting\n",
    "\n",
    "device = torch.device('cuda') if torch.cuda.is_available() else torch.device('cpu')"
   ]
  },
  {
   "cell_type": "code",
   "execution_count": 2,
   "metadata": {},
   "outputs": [],
   "source": [
    "selection_filename = 'data/selected_images.json'\n",
    "with open(selection_filename, 'r') as f:\n",
    "        paths = json.load(f)\n",
    "transforms = torchvision.transforms.Compose([\n",
    "    torchvision.transforms.PILToTensor(),\n",
    "    torchvision.transforms.ConvertImageDtype(torch.float32)\n",
    "])\n",
    "img_ds = MyDataset('data/data_256', paths, transform=transforms)"
   ]
  },
  {
   "cell_type": "code",
   "execution_count": 3,
   "metadata": {},
   "outputs": [
    {
     "ename": "KeyboardInterrupt",
     "evalue": "",
     "output_type": "error",
     "traceback": [
      "\u001b[0;31m---------------------------------------------------------------------------\u001b[0m",
      "\u001b[0;31mKeyboardInterrupt\u001b[0m                         Traceback (most recent call last)",
      "\u001b[1;32m/mnt/c/Users/proto/repos/vision-stretcher/model_test2.ipynb Cell 3\u001b[0m in \u001b[0;36m<cell line: 4>\u001b[0;34m()\u001b[0m\n\u001b[1;32m      <a href='vscode-notebook-cell://wsl%2Bubuntu/mnt/c/Users/proto/repos/vision-stretcher/model_test2.ipynb#W4sdnNjb2RlLXJlbW90ZQ%3D%3D?line=7'>8</a>\u001b[0m \u001b[39melse\u001b[39;00m:\n\u001b[1;32m      <a href='vscode-notebook-cell://wsl%2Bubuntu/mnt/c/Users/proto/repos/vision-stretcher/model_test2.ipynb#W4sdnNjb2RlLXJlbW90ZQ%3D%3D?line=8'>9</a>\u001b[0m     \u001b[39mwith\u001b[39;00m \u001b[39mopen\u001b[39m(fname, \u001b[39m\"\u001b[39m\u001b[39mrb\u001b[39m\u001b[39m\"\u001b[39m) \u001b[39mas\u001b[39;00m f:\n\u001b[0;32m---> <a href='vscode-notebook-cell://wsl%2Bubuntu/mnt/c/Users/proto/repos/vision-stretcher/model_test2.ipynb#W4sdnNjb2RlLXJlbW90ZQ%3D%3D?line=9'>10</a>\u001b[0m         ds \u001b[39m=\u001b[39m pickle\u001b[39m.\u001b[39;49mload(f)\n",
      "File \u001b[0;32m~/miniconda3/envs/vision-stretcher/lib/python3.9/site-packages/torch/storage.py:160\u001b[0m, in \u001b[0;36m_load_from_bytes\u001b[0;34m(b)\u001b[0m\n\u001b[1;32m    156\u001b[0m         \u001b[39melse\u001b[39;00m:\n\u001b[1;32m    157\u001b[0m             \u001b[39mreturn\u001b[39;00m \u001b[39mcls\u001b[39m\u001b[39m.\u001b[39m_new_using_fd(size)\n\u001b[0;32m--> 160\u001b[0m \u001b[39mdef\u001b[39;00m \u001b[39m_load_from_bytes\u001b[39m(b):\n\u001b[1;32m    161\u001b[0m     \u001b[39mreturn\u001b[39;00m torch\u001b[39m.\u001b[39mload(io\u001b[39m.\u001b[39mBytesIO(b))\n\u001b[1;32m    164\u001b[0m _StorageBase\u001b[39m.\u001b[39mtype \u001b[39m=\u001b[39m _type  \u001b[39m# type: ignore[assignment]\u001b[39;00m\n",
      "\u001b[0;31mKeyboardInterrupt\u001b[0m: "
     ]
    }
   ],
   "source": [
    "fname = \"data/chunk8_dataset.pkl\"\n",
    "force_overwrite = False\n",
    "\n",
    "if force_overwrite or not os.path.isfile(fname):\n",
    "    ds = construct_dataset(img_ds, chunk_size=8, sample_size=50000)\n",
    "    with open(fname, \"wb\") as f:\n",
    "        pickle.dump(ds, f)\n",
    "else:\n",
    "    with open(fname, \"rb\") as f:\n",
    "        ds = pickle.load(f)"
   ]
  },
  {
   "cell_type": "code",
   "execution_count": 4,
   "metadata": {},
   "outputs": [],
   "source": [
    "BATCH_SIZE = 128\n",
    "\n",
    "train_len = int(len(ds) * 0.8)\n",
    "val_len = len(ds) - train_len\n",
    "train_ds, val_ds = random_split(ds, (train_len, val_len))\n",
    "train_dl = DataLoader(train_ds, BATCH_SIZE, shuffle=True, pin_memory=True)\n",
    "val_dl = DataLoader(val_ds, BATCH_SIZE, pin_memory=True)"
   ]
  },
  {
   "cell_type": "code",
   "execution_count": 5,
   "metadata": {},
   "outputs": [],
   "source": [
    "model = OutpainterNet(chunk_size=8).to(device)"
   ]
  },
  {
   "cell_type": "code",
   "execution_count": 6,
   "metadata": {},
   "outputs": [
    {
     "name": "stderr",
     "output_type": "stream",
     "text": [
      "100%|██████████| 9688/9688 [00:24<00:00, 393.50it/s]\n",
      "  2%|▏         | 1/50 [00:27<22:30, 27.57s/it]"
     ]
    },
    {
     "name": "stdout",
     "output_type": "stream",
     "text": [
      "Epoch 0: train loss = 0.020, val loss = 0.019\n"
     ]
    },
    {
     "name": "stderr",
     "output_type": "stream",
     "text": [
      "100%|██████████| 9688/9688 [00:22<00:00, 424.32it/s]\n",
      "  4%|▍         | 2/50 [00:53<21:10, 26.47s/it]"
     ]
    },
    {
     "name": "stdout",
     "output_type": "stream",
     "text": [
      "Epoch 1: train loss = 0.018, val loss = 0.018\n"
     ]
    },
    {
     "name": "stderr",
     "output_type": "stream",
     "text": [
      "100%|██████████| 9688/9688 [00:22<00:00, 425.26it/s]\n",
      "  6%|▌         | 3/50 [01:18<20:28, 26.13s/it]"
     ]
    },
    {
     "name": "stdout",
     "output_type": "stream",
     "text": [
      "Epoch 2: train loss = 0.018, val loss = 0.018\n"
     ]
    },
    {
     "name": "stderr",
     "output_type": "stream",
     "text": [
      "100%|██████████| 9688/9688 [00:22<00:00, 421.74it/s]\n",
      "  8%|▊         | 4/50 [01:44<19:57, 26.03s/it]"
     ]
    },
    {
     "name": "stdout",
     "output_type": "stream",
     "text": [
      "Epoch 3: train loss = 0.017, val loss = 0.017\n"
     ]
    },
    {
     "name": "stderr",
     "output_type": "stream",
     "text": [
      "100%|██████████| 9688/9688 [00:22<00:00, 422.46it/s]\n",
      " 10%|█         | 5/50 [02:10<19:27, 25.95s/it]"
     ]
    },
    {
     "name": "stdout",
     "output_type": "stream",
     "text": [
      "Epoch 4: train loss = 0.017, val loss = 0.017\n"
     ]
    },
    {
     "name": "stderr",
     "output_type": "stream",
     "text": [
      "100%|██████████| 9688/9688 [00:22<00:00, 426.40it/s]\n",
      " 12%|█▏        | 6/50 [02:36<19:01, 25.95s/it]"
     ]
    },
    {
     "name": "stdout",
     "output_type": "stream",
     "text": [
      "Epoch 5: train loss = 0.017, val loss = 0.017\n"
     ]
    },
    {
     "name": "stderr",
     "output_type": "stream",
     "text": [
      "100%|██████████| 9688/9688 [00:24<00:00, 395.81it/s]\n",
      " 14%|█▍        | 7/50 [03:03<18:55, 26.40s/it]"
     ]
    },
    {
     "name": "stdout",
     "output_type": "stream",
     "text": [
      "Epoch 6: train loss = 0.017, val loss = 0.017\n"
     ]
    },
    {
     "name": "stderr",
     "output_type": "stream",
     "text": [
      "100%|██████████| 9688/9688 [00:23<00:00, 403.94it/s]\n",
      " 16%|█▌        | 8/50 [03:30<18:36, 26.59s/it]"
     ]
    },
    {
     "name": "stdout",
     "output_type": "stream",
     "text": [
      "Epoch 7: train loss = 0.017, val loss = 0.017\n"
     ]
    },
    {
     "name": "stderr",
     "output_type": "stream",
     "text": [
      "100%|██████████| 9688/9688 [00:23<00:00, 413.44it/s]\n",
      " 18%|█▊        | 9/50 [03:57<18:07, 26.52s/it]"
     ]
    },
    {
     "name": "stdout",
     "output_type": "stream",
     "text": [
      "Epoch 8: train loss = 0.017, val loss = 0.017\n"
     ]
    },
    {
     "name": "stderr",
     "output_type": "stream",
     "text": [
      "100%|██████████| 9688/9688 [00:23<00:00, 411.83it/s]\n",
      " 20%|██        | 10/50 [04:23<17:40, 26.51s/it]"
     ]
    },
    {
     "name": "stdout",
     "output_type": "stream",
     "text": [
      "Epoch 9: train loss = 0.017, val loss = 0.017\n"
     ]
    },
    {
     "name": "stderr",
     "output_type": "stream",
     "text": [
      "100%|██████████| 9688/9688 [00:23<00:00, 417.67it/s]\n",
      " 22%|██▏       | 11/50 [04:50<17:10, 26.43s/it]"
     ]
    },
    {
     "name": "stdout",
     "output_type": "stream",
     "text": [
      "Epoch 10: train loss = 0.017, val loss = 0.017\n"
     ]
    },
    {
     "name": "stderr",
     "output_type": "stream",
     "text": [
      "100%|██████████| 9688/9688 [00:23<00:00, 414.32it/s]\n",
      " 24%|██▍       | 12/50 [05:16<16:43, 26.41s/it]"
     ]
    },
    {
     "name": "stdout",
     "output_type": "stream",
     "text": [
      "Epoch 11: train loss = 0.017, val loss = 0.017\n"
     ]
    },
    {
     "name": "stderr",
     "output_type": "stream",
     "text": [
      "100%|██████████| 9688/9688 [00:23<00:00, 414.47it/s]\n",
      " 26%|██▌       | 13/50 [05:42<16:17, 26.42s/it]"
     ]
    },
    {
     "name": "stdout",
     "output_type": "stream",
     "text": [
      "Epoch 12: train loss = 0.017, val loss = 0.017\n"
     ]
    },
    {
     "name": "stderr",
     "output_type": "stream",
     "text": [
      "100%|██████████| 9688/9688 [00:23<00:00, 417.14it/s]\n",
      " 28%|██▊       | 14/50 [06:09<15:48, 26.35s/it]"
     ]
    },
    {
     "name": "stdout",
     "output_type": "stream",
     "text": [
      "Epoch 13: train loss = 0.017, val loss = 0.017\n"
     ]
    },
    {
     "name": "stderr",
     "output_type": "stream",
     "text": [
      "100%|██████████| 9688/9688 [00:23<00:00, 414.44it/s]\n",
      " 30%|███       | 15/50 [06:35<15:22, 26.36s/it]"
     ]
    },
    {
     "name": "stdout",
     "output_type": "stream",
     "text": [
      "Epoch 14: train loss = 0.017, val loss = 0.017\n"
     ]
    },
    {
     "name": "stderr",
     "output_type": "stream",
     "text": [
      "100%|██████████| 9688/9688 [00:23<00:00, 414.55it/s]\n",
      " 32%|███▏      | 16/50 [07:01<14:56, 26.36s/it]"
     ]
    },
    {
     "name": "stdout",
     "output_type": "stream",
     "text": [
      "Epoch 15: train loss = 0.017, val loss = 0.017\n"
     ]
    },
    {
     "name": "stderr",
     "output_type": "stream",
     "text": [
      "100%|██████████| 9688/9688 [00:23<00:00, 415.05it/s]\n",
      " 34%|███▍      | 17/50 [07:28<14:30, 26.38s/it]"
     ]
    },
    {
     "name": "stdout",
     "output_type": "stream",
     "text": [
      "Epoch 16: train loss = 0.017, val loss = 0.017\n"
     ]
    },
    {
     "name": "stderr",
     "output_type": "stream",
     "text": [
      "100%|██████████| 9688/9688 [00:23<00:00, 411.39it/s]\n",
      " 36%|███▌      | 18/50 [07:54<14:06, 26.44s/it]"
     ]
    },
    {
     "name": "stdout",
     "output_type": "stream",
     "text": [
      "Epoch 17: train loss = 0.017, val loss = 0.017\n"
     ]
    },
    {
     "name": "stderr",
     "output_type": "stream",
     "text": [
      "100%|██████████| 9688/9688 [00:23<00:00, 405.09it/s]\n",
      " 38%|███▊      | 19/50 [08:21<13:44, 26.61s/it]"
     ]
    },
    {
     "name": "stdout",
     "output_type": "stream",
     "text": [
      "Epoch 18: train loss = 0.017, val loss = 0.016\n"
     ]
    },
    {
     "name": "stderr",
     "output_type": "stream",
     "text": [
      "100%|██████████| 9688/9688 [00:23<00:00, 409.05it/s]\n",
      " 40%|████      | 20/50 [08:48<13:19, 26.64s/it]"
     ]
    },
    {
     "name": "stdout",
     "output_type": "stream",
     "text": [
      "Epoch 19: train loss = 0.017, val loss = 0.017\n"
     ]
    },
    {
     "name": "stderr",
     "output_type": "stream",
     "text": [
      "100%|██████████| 9688/9688 [00:23<00:00, 408.17it/s]\n",
      " 42%|████▏     | 21/50 [09:15<12:52, 26.64s/it]"
     ]
    },
    {
     "name": "stdout",
     "output_type": "stream",
     "text": [
      "Epoch 20: train loss = 0.016, val loss = 0.016\n"
     ]
    },
    {
     "name": "stderr",
     "output_type": "stream",
     "text": [
      "100%|██████████| 9688/9688 [00:23<00:00, 411.86it/s]\n",
      " 44%|████▍     | 22/50 [09:41<12:26, 26.65s/it]"
     ]
    },
    {
     "name": "stdout",
     "output_type": "stream",
     "text": [
      "Epoch 21: train loss = 0.016, val loss = 0.016\n"
     ]
    },
    {
     "name": "stderr",
     "output_type": "stream",
     "text": [
      "100%|██████████| 9688/9688 [00:23<00:00, 410.12it/s]\n",
      " 46%|████▌     | 23/50 [10:08<11:58, 26.63s/it]"
     ]
    },
    {
     "name": "stdout",
     "output_type": "stream",
     "text": [
      "Epoch 22: train loss = 0.016, val loss = 0.017\n"
     ]
    },
    {
     "name": "stderr",
     "output_type": "stream",
     "text": [
      "100%|██████████| 9688/9688 [00:23<00:00, 412.87it/s]\n",
      " 48%|████▊     | 24/50 [10:34<11:30, 26.57s/it]"
     ]
    },
    {
     "name": "stdout",
     "output_type": "stream",
     "text": [
      "Epoch 23: train loss = 0.016, val loss = 0.016\n"
     ]
    },
    {
     "name": "stderr",
     "output_type": "stream",
     "text": [
      "100%|██████████| 9688/9688 [00:23<00:00, 411.05it/s]\n",
      " 50%|█████     | 25/50 [11:01<11:03, 26.55s/it]"
     ]
    },
    {
     "name": "stdout",
     "output_type": "stream",
     "text": [
      "Epoch 24: train loss = 0.016, val loss = 0.017\n"
     ]
    },
    {
     "name": "stderr",
     "output_type": "stream",
     "text": [
      "100%|██████████| 9688/9688 [00:23<00:00, 411.88it/s]\n",
      " 52%|█████▏    | 26/50 [11:27<10:36, 26.52s/it]"
     ]
    },
    {
     "name": "stdout",
     "output_type": "stream",
     "text": [
      "Epoch 25: train loss = 0.016, val loss = 0.016\n"
     ]
    },
    {
     "name": "stderr",
     "output_type": "stream",
     "text": [
      "100%|██████████| 9688/9688 [00:23<00:00, 410.32it/s]\n",
      " 54%|█████▍    | 27/50 [11:54<10:10, 26.55s/it]"
     ]
    },
    {
     "name": "stdout",
     "output_type": "stream",
     "text": [
      "Epoch 26: train loss = 0.016, val loss = 0.016\n"
     ]
    },
    {
     "name": "stderr",
     "output_type": "stream",
     "text": [
      "100%|██████████| 9688/9688 [00:23<00:00, 410.20it/s]\n",
      " 56%|█████▌    | 28/50 [12:20<09:44, 26.55s/it]"
     ]
    },
    {
     "name": "stdout",
     "output_type": "stream",
     "text": [
      "Epoch 27: train loss = 0.016, val loss = 0.016\n"
     ]
    },
    {
     "name": "stderr",
     "output_type": "stream",
     "text": [
      "100%|██████████| 9688/9688 [00:23<00:00, 411.57it/s]\n",
      " 58%|█████▊    | 29/50 [12:47<09:17, 26.53s/it]"
     ]
    },
    {
     "name": "stdout",
     "output_type": "stream",
     "text": [
      "Epoch 28: train loss = 0.016, val loss = 0.016\n"
     ]
    },
    {
     "name": "stderr",
     "output_type": "stream",
     "text": [
      "100%|██████████| 9688/9688 [00:23<00:00, 406.00it/s]\n",
      " 60%|██████    | 30/50 [13:14<08:52, 26.61s/it]"
     ]
    },
    {
     "name": "stdout",
     "output_type": "stream",
     "text": [
      "Epoch 29: train loss = 0.016, val loss = 0.016\n"
     ]
    },
    {
     "name": "stderr",
     "output_type": "stream",
     "text": [
      "100%|██████████| 9688/9688 [00:23<00:00, 405.38it/s]\n",
      " 62%|██████▏   | 31/50 [13:41<08:26, 26.66s/it]"
     ]
    },
    {
     "name": "stdout",
     "output_type": "stream",
     "text": [
      "Epoch 30: train loss = 0.016, val loss = 0.016\n"
     ]
    },
    {
     "name": "stderr",
     "output_type": "stream",
     "text": [
      "100%|██████████| 9688/9688 [00:23<00:00, 408.80it/s]\n",
      " 64%|██████▍   | 32/50 [14:07<07:59, 26.65s/it]"
     ]
    },
    {
     "name": "stdout",
     "output_type": "stream",
     "text": [
      "Epoch 31: train loss = 0.016, val loss = 0.016\n"
     ]
    },
    {
     "name": "stderr",
     "output_type": "stream",
     "text": [
      "100%|██████████| 9688/9688 [00:23<00:00, 410.54it/s]\n",
      " 66%|██████▌   | 33/50 [14:34<07:32, 26.61s/it]"
     ]
    },
    {
     "name": "stdout",
     "output_type": "stream",
     "text": [
      "Epoch 32: train loss = 0.016, val loss = 0.017\n"
     ]
    },
    {
     "name": "stderr",
     "output_type": "stream",
     "text": [
      "100%|██████████| 9688/9688 [00:23<00:00, 412.88it/s]\n",
      " 68%|██████▊   | 34/50 [15:00<07:04, 26.53s/it]"
     ]
    },
    {
     "name": "stdout",
     "output_type": "stream",
     "text": [
      "Epoch 33: train loss = 0.016, val loss = 0.016\n"
     ]
    },
    {
     "name": "stderr",
     "output_type": "stream",
     "text": [
      "100%|██████████| 9688/9688 [00:23<00:00, 408.65it/s]\n",
      " 70%|███████   | 35/50 [15:27<06:38, 26.59s/it]"
     ]
    },
    {
     "name": "stdout",
     "output_type": "stream",
     "text": [
      "Epoch 34: train loss = 0.016, val loss = 0.016\n"
     ]
    },
    {
     "name": "stderr",
     "output_type": "stream",
     "text": [
      "100%|██████████| 9688/9688 [00:23<00:00, 409.38it/s]\n",
      " 72%|███████▏  | 36/50 [15:53<06:12, 26.59s/it]"
     ]
    },
    {
     "name": "stdout",
     "output_type": "stream",
     "text": [
      "Epoch 35: train loss = 0.016, val loss = 0.016\n"
     ]
    },
    {
     "name": "stderr",
     "output_type": "stream",
     "text": [
      "100%|██████████| 9688/9688 [00:23<00:00, 412.65it/s]\n",
      " 74%|███████▍  | 37/50 [16:20<05:45, 26.54s/it]"
     ]
    },
    {
     "name": "stdout",
     "output_type": "stream",
     "text": [
      "Epoch 36: train loss = 0.016, val loss = 0.016\n"
     ]
    },
    {
     "name": "stderr",
     "output_type": "stream",
     "text": [
      "100%|██████████| 9688/9688 [00:23<00:00, 412.61it/s]\n",
      " 76%|███████▌  | 38/50 [16:46<05:18, 26.51s/it]"
     ]
    },
    {
     "name": "stdout",
     "output_type": "stream",
     "text": [
      "Epoch 37: train loss = 0.016, val loss = 0.016\n"
     ]
    },
    {
     "name": "stderr",
     "output_type": "stream",
     "text": [
      "100%|██████████| 9688/9688 [00:23<00:00, 411.56it/s]\n",
      " 78%|███████▊  | 39/50 [17:13<04:51, 26.51s/it]"
     ]
    },
    {
     "name": "stdout",
     "output_type": "stream",
     "text": [
      "Epoch 38: train loss = 0.016, val loss = 0.016\n"
     ]
    },
    {
     "name": "stderr",
     "output_type": "stream",
     "text": [
      "100%|██████████| 9688/9688 [00:23<00:00, 410.20it/s]\n",
      " 80%|████████  | 40/50 [17:39<04:25, 26.52s/it]"
     ]
    },
    {
     "name": "stdout",
     "output_type": "stream",
     "text": [
      "Epoch 39: train loss = 0.016, val loss = 0.016\n"
     ]
    },
    {
     "name": "stderr",
     "output_type": "stream",
     "text": [
      "100%|██████████| 9688/9688 [00:23<00:00, 408.81it/s]\n",
      " 82%|████████▏ | 41/50 [18:06<03:59, 26.60s/it]"
     ]
    },
    {
     "name": "stdout",
     "output_type": "stream",
     "text": [
      "Epoch 40: train loss = 0.016, val loss = 0.016\n"
     ]
    },
    {
     "name": "stderr",
     "output_type": "stream",
     "text": [
      "100%|██████████| 9688/9688 [00:23<00:00, 410.51it/s]\n",
      " 84%|████████▍ | 42/50 [18:33<03:32, 26.57s/it]"
     ]
    },
    {
     "name": "stdout",
     "output_type": "stream",
     "text": [
      "Epoch 41: train loss = 0.016, val loss = 0.016\n"
     ]
    },
    {
     "name": "stderr",
     "output_type": "stream",
     "text": [
      "100%|██████████| 9688/9688 [00:23<00:00, 409.01it/s]\n",
      " 86%|████████▌ | 43/50 [18:59<03:06, 26.58s/it]"
     ]
    },
    {
     "name": "stdout",
     "output_type": "stream",
     "text": [
      "Epoch 42: train loss = 0.016, val loss = 0.016\n"
     ]
    },
    {
     "name": "stderr",
     "output_type": "stream",
     "text": [
      "100%|██████████| 9688/9688 [00:23<00:00, 410.39it/s]\n",
      " 88%|████████▊ | 44/50 [19:26<02:39, 26.56s/it]"
     ]
    },
    {
     "name": "stdout",
     "output_type": "stream",
     "text": [
      "Epoch 43: train loss = 0.016, val loss = 0.016\n"
     ]
    },
    {
     "name": "stderr",
     "output_type": "stream",
     "text": [
      "100%|██████████| 9688/9688 [00:23<00:00, 412.62it/s]\n",
      " 90%|█████████ | 45/50 [19:52<02:12, 26.53s/it]"
     ]
    },
    {
     "name": "stdout",
     "output_type": "stream",
     "text": [
      "Epoch 44: train loss = 0.016, val loss = 0.016\n"
     ]
    },
    {
     "name": "stderr",
     "output_type": "stream",
     "text": [
      "100%|██████████| 9688/9688 [00:23<00:00, 407.71it/s]\n",
      " 92%|█████████▏| 46/50 [20:19<01:46, 26.57s/it]"
     ]
    },
    {
     "name": "stdout",
     "output_type": "stream",
     "text": [
      "Epoch 45: train loss = 0.016, val loss = 0.016\n"
     ]
    },
    {
     "name": "stderr",
     "output_type": "stream",
     "text": [
      "100%|██████████| 9688/9688 [00:23<00:00, 410.77it/s]\n",
      " 94%|█████████▍| 47/50 [20:45<01:19, 26.55s/it]"
     ]
    },
    {
     "name": "stdout",
     "output_type": "stream",
     "text": [
      "Epoch 46: train loss = 0.016, val loss = 0.016\n"
     ]
    },
    {
     "name": "stderr",
     "output_type": "stream",
     "text": [
      "100%|██████████| 9688/9688 [00:23<00:00, 410.73it/s]\n",
      " 96%|█████████▌| 48/50 [21:12<00:53, 26.56s/it]"
     ]
    },
    {
     "name": "stdout",
     "output_type": "stream",
     "text": [
      "Epoch 47: train loss = 0.016, val loss = 0.016\n"
     ]
    },
    {
     "name": "stderr",
     "output_type": "stream",
     "text": [
      "100%|██████████| 9688/9688 [00:23<00:00, 412.75it/s]\n",
      " 98%|█████████▊| 49/50 [21:38<00:26, 26.50s/it]"
     ]
    },
    {
     "name": "stdout",
     "output_type": "stream",
     "text": [
      "Epoch 48: train loss = 0.016, val loss = 0.016\n"
     ]
    },
    {
     "name": "stderr",
     "output_type": "stream",
     "text": [
      "100%|██████████| 9688/9688 [00:23<00:00, 407.48it/s]\n",
      "100%|██████████| 50/50 [22:05<00:00, 26.51s/it]"
     ]
    },
    {
     "name": "stdout",
     "output_type": "stream",
     "text": [
      "Epoch 49: train loss = 0.016, val loss = 0.016\n"
     ]
    },
    {
     "name": "stderr",
     "output_type": "stream",
     "text": [
      "\n"
     ]
    }
   ],
   "source": [
    "loss_fn = nn.MSELoss()\n",
    "optimizer = torch.optim.Adam(model.parameters())\n",
    "train(model, loss_fn, optimizer, train_dl, val_dl, device=device, print_metrics=True, epochs=50)\n",
    "torch.save(model.state_dict(), \"outpainter_net/state8.pt\")"
   ]
  },
  {
   "cell_type": "code",
   "execution_count": 4,
   "metadata": {},
   "outputs": [],
   "source": [
    "ds = None\n",
    "train_ds = None\n",
    "val_ds = None\n",
    "train_dl = None\n",
    "val_dl = None"
   ]
  },
  {
   "cell_type": "code",
   "execution_count": 5,
   "metadata": {},
   "outputs": [
    {
     "name": "stderr",
     "output_type": "stream",
     "text": [
      "100%|██████████| 25000/25000 [01:54<00:00, 219.04it/s]\n"
     ]
    }
   ],
   "source": [
    "fname = \"data/chunk12_dataset.pkl\"\n",
    "force_overwrite = False\n",
    "\n",
    "if force_overwrite or not os.path.isfile(fname):\n",
    "    ds = construct_dataset(img_ds, chunk_size=12, sample_size=25000)\n",
    "    with open(fname, \"wb\") as f:\n",
    "        pickle.dump(ds, f)\n",
    "else:\n",
    "    with open(fname, \"rb\") as f:\n",
    "        ds = pickle.load(f)"
   ]
  },
  {
   "cell_type": "code",
   "execution_count": 6,
   "metadata": {},
   "outputs": [],
   "source": [
    "BATCH_SIZE = 128\n",
    "\n",
    "train_len = int(len(ds) * 0.8)\n",
    "val_len = len(ds) - train_len\n",
    "train_ds, val_ds = random_split(ds, (train_len, val_len))\n",
    "train_dl = DataLoader(train_ds, BATCH_SIZE, shuffle=True, pin_memory=True)\n",
    "val_dl = DataLoader(val_ds, BATCH_SIZE, pin_memory=True)"
   ]
  },
  {
   "cell_type": "code",
   "execution_count": 7,
   "metadata": {},
   "outputs": [],
   "source": [
    "model = OutpainterNet(chunk_size=12).to(device)"
   ]
  },
  {
   "cell_type": "code",
   "execution_count": 8,
   "metadata": {},
   "outputs": [
    {
     "name": "stderr",
     "output_type": "stream",
     "text": [
      "100%|██████████| 3282/3282 [00:09<00:00, 344.57it/s]\n",
      "  2%|▏         | 1/50 [00:10<08:36, 10.53s/it]"
     ]
    },
    {
     "name": "stdout",
     "output_type": "stream",
     "text": [
      "Epoch 0: train loss = 0.028, val loss = 0.025\n"
     ]
    },
    {
     "name": "stderr",
     "output_type": "stream",
     "text": [
      "100%|██████████| 3282/3282 [00:08<00:00, 400.20it/s]\n",
      "  4%|▍         | 2/50 [00:19<07:46,  9.73s/it]"
     ]
    },
    {
     "name": "stdout",
     "output_type": "stream",
     "text": [
      "Epoch 1: train loss = 0.024, val loss = 0.024\n"
     ]
    },
    {
     "name": "stderr",
     "output_type": "stream",
     "text": [
      "100%|██████████| 3282/3282 [00:08<00:00, 396.13it/s]\n",
      "  6%|▌         | 3/50 [00:28<07:27,  9.53s/it]"
     ]
    },
    {
     "name": "stdout",
     "output_type": "stream",
     "text": [
      "Epoch 2: train loss = 0.024, val loss = 0.023\n"
     ]
    },
    {
     "name": "stderr",
     "output_type": "stream",
     "text": [
      "100%|██████████| 3282/3282 [00:08<00:00, 397.47it/s]\n",
      "  8%|▊         | 4/50 [00:38<07:14,  9.44s/it]"
     ]
    },
    {
     "name": "stdout",
     "output_type": "stream",
     "text": [
      "Epoch 3: train loss = 0.023, val loss = 0.023\n"
     ]
    },
    {
     "name": "stderr",
     "output_type": "stream",
     "text": [
      "100%|██████████| 3282/3282 [00:08<00:00, 403.70it/s]\n",
      " 10%|█         | 5/50 [00:47<07:00,  9.35s/it]"
     ]
    },
    {
     "name": "stdout",
     "output_type": "stream",
     "text": [
      "Epoch 4: train loss = 0.023, val loss = 0.023\n"
     ]
    },
    {
     "name": "stderr",
     "output_type": "stream",
     "text": [
      "100%|██████████| 3282/3282 [00:08<00:00, 402.93it/s]\n",
      " 12%|█▏        | 6/50 [00:56<06:49,  9.30s/it]"
     ]
    },
    {
     "name": "stdout",
     "output_type": "stream",
     "text": [
      "Epoch 5: train loss = 0.022, val loss = 0.022\n"
     ]
    },
    {
     "name": "stderr",
     "output_type": "stream",
     "text": [
      "100%|██████████| 3282/3282 [00:08<00:00, 408.33it/s]\n",
      " 14%|█▍        | 7/50 [01:05<06:36,  9.23s/it]"
     ]
    },
    {
     "name": "stdout",
     "output_type": "stream",
     "text": [
      "Epoch 6: train loss = 0.022, val loss = 0.022\n"
     ]
    },
    {
     "name": "stderr",
     "output_type": "stream",
     "text": [
      "100%|██████████| 3282/3282 [00:08<00:00, 403.55it/s]\n",
      " 16%|█▌        | 8/50 [01:15<06:27,  9.23s/it]"
     ]
    },
    {
     "name": "stdout",
     "output_type": "stream",
     "text": [
      "Epoch 7: train loss = 0.022, val loss = 0.022\n"
     ]
    },
    {
     "name": "stderr",
     "output_type": "stream",
     "text": [
      "100%|██████████| 3282/3282 [00:08<00:00, 403.68it/s]\n",
      " 18%|█▊        | 9/50 [01:24<06:17,  9.22s/it]"
     ]
    },
    {
     "name": "stdout",
     "output_type": "stream",
     "text": [
      "Epoch 8: train loss = 0.022, val loss = 0.022\n"
     ]
    },
    {
     "name": "stderr",
     "output_type": "stream",
     "text": [
      "100%|██████████| 3282/3282 [00:08<00:00, 405.71it/s]\n",
      " 20%|██        | 10/50 [01:33<06:07,  9.19s/it]"
     ]
    },
    {
     "name": "stdout",
     "output_type": "stream",
     "text": [
      "Epoch 9: train loss = 0.022, val loss = 0.023\n"
     ]
    },
    {
     "name": "stderr",
     "output_type": "stream",
     "text": [
      "100%|██████████| 3282/3282 [00:08<00:00, 399.38it/s]\n",
      " 22%|██▏       | 11/50 [01:42<05:59,  9.23s/it]"
     ]
    },
    {
     "name": "stdout",
     "output_type": "stream",
     "text": [
      "Epoch 10: train loss = 0.022, val loss = 0.022\n"
     ]
    },
    {
     "name": "stderr",
     "output_type": "stream",
     "text": [
      "100%|██████████| 3282/3282 [00:08<00:00, 400.68it/s]\n",
      " 24%|██▍       | 12/50 [01:51<05:51,  9.24s/it]"
     ]
    },
    {
     "name": "stdout",
     "output_type": "stream",
     "text": [
      "Epoch 11: train loss = 0.022, val loss = 0.022\n"
     ]
    },
    {
     "name": "stderr",
     "output_type": "stream",
     "text": [
      "100%|██████████| 3282/3282 [00:08<00:00, 399.57it/s]\n",
      " 26%|██▌       | 13/50 [02:01<05:42,  9.26s/it]"
     ]
    },
    {
     "name": "stdout",
     "output_type": "stream",
     "text": [
      "Epoch 12: train loss = 0.022, val loss = 0.022\n"
     ]
    },
    {
     "name": "stderr",
     "output_type": "stream",
     "text": [
      "100%|██████████| 3282/3282 [00:08<00:00, 406.16it/s]\n",
      " 28%|██▊       | 14/50 [02:10<05:33,  9.26s/it]"
     ]
    },
    {
     "name": "stdout",
     "output_type": "stream",
     "text": [
      "Epoch 13: train loss = 0.022, val loss = 0.023\n"
     ]
    },
    {
     "name": "stderr",
     "output_type": "stream",
     "text": [
      "100%|██████████| 3282/3282 [00:08<00:00, 389.64it/s]\n",
      " 30%|███       | 15/50 [02:19<05:26,  9.34s/it]"
     ]
    },
    {
     "name": "stdout",
     "output_type": "stream",
     "text": [
      "Epoch 14: train loss = 0.022, val loss = 0.022\n"
     ]
    },
    {
     "name": "stderr",
     "output_type": "stream",
     "text": [
      "100%|██████████| 3282/3282 [00:08<00:00, 395.96it/s]\n",
      " 32%|███▏      | 16/50 [02:29<05:18,  9.36s/it]"
     ]
    },
    {
     "name": "stdout",
     "output_type": "stream",
     "text": [
      "Epoch 15: train loss = 0.022, val loss = 0.022\n"
     ]
    },
    {
     "name": "stderr",
     "output_type": "stream",
     "text": [
      "100%|██████████| 3282/3282 [00:08<00:00, 399.34it/s]\n",
      " 34%|███▍      | 17/50 [02:38<05:08,  9.35s/it]"
     ]
    },
    {
     "name": "stdout",
     "output_type": "stream",
     "text": [
      "Epoch 16: train loss = 0.022, val loss = 0.022\n"
     ]
    },
    {
     "name": "stderr",
     "output_type": "stream",
     "text": [
      "100%|██████████| 3282/3282 [00:08<00:00, 389.71it/s]\n",
      " 36%|███▌      | 18/50 [02:48<05:00,  9.39s/it]"
     ]
    },
    {
     "name": "stdout",
     "output_type": "stream",
     "text": [
      "Epoch 17: train loss = 0.022, val loss = 0.022\n"
     ]
    },
    {
     "name": "stderr",
     "output_type": "stream",
     "text": [
      "100%|██████████| 3282/3282 [00:08<00:00, 386.79it/s]\n",
      " 38%|███▊      | 19/50 [02:57<04:53,  9.48s/it]"
     ]
    },
    {
     "name": "stdout",
     "output_type": "stream",
     "text": [
      "Epoch 18: train loss = 0.022, val loss = 0.022\n"
     ]
    },
    {
     "name": "stderr",
     "output_type": "stream",
     "text": [
      "100%|██████████| 3282/3282 [00:08<00:00, 373.89it/s]\n",
      " 40%|████      | 20/50 [03:07<04:47,  9.57s/it]"
     ]
    },
    {
     "name": "stdout",
     "output_type": "stream",
     "text": [
      "Epoch 19: train loss = 0.022, val loss = 0.022\n"
     ]
    },
    {
     "name": "stderr",
     "output_type": "stream",
     "text": [
      "100%|██████████| 3282/3282 [00:08<00:00, 391.01it/s]\n",
      " 42%|████▏     | 21/50 [03:17<04:37,  9.58s/it]"
     ]
    },
    {
     "name": "stdout",
     "output_type": "stream",
     "text": [
      "Epoch 20: train loss = 0.022, val loss = 0.022\n"
     ]
    },
    {
     "name": "stderr",
     "output_type": "stream",
     "text": [
      "100%|██████████| 3282/3282 [00:08<00:00, 381.31it/s]\n",
      " 44%|████▍     | 22/50 [03:27<04:29,  9.63s/it]"
     ]
    },
    {
     "name": "stdout",
     "output_type": "stream",
     "text": [
      "Epoch 21: train loss = 0.022, val loss = 0.022\n"
     ]
    },
    {
     "name": "stderr",
     "output_type": "stream",
     "text": [
      "100%|██████████| 3282/3282 [00:08<00:00, 374.19it/s]\n",
      " 46%|████▌     | 23/50 [03:37<04:22,  9.74s/it]"
     ]
    },
    {
     "name": "stdout",
     "output_type": "stream",
     "text": [
      "Epoch 22: train loss = 0.022, val loss = 0.022\n"
     ]
    },
    {
     "name": "stderr",
     "output_type": "stream",
     "text": [
      "100%|██████████| 3282/3282 [00:08<00:00, 381.78it/s]\n",
      " 48%|████▊     | 24/50 [03:46<04:13,  9.75s/it]"
     ]
    },
    {
     "name": "stdout",
     "output_type": "stream",
     "text": [
      "Epoch 23: train loss = 0.022, val loss = 0.022\n"
     ]
    },
    {
     "name": "stderr",
     "output_type": "stream",
     "text": [
      "100%|██████████| 3282/3282 [00:09<00:00, 364.24it/s]\n",
      " 50%|█████     | 25/50 [03:56<04:06,  9.88s/it]"
     ]
    },
    {
     "name": "stdout",
     "output_type": "stream",
     "text": [
      "Epoch 24: train loss = 0.022, val loss = 0.022\n"
     ]
    },
    {
     "name": "stderr",
     "output_type": "stream",
     "text": [
      "100%|██████████| 3282/3282 [00:08<00:00, 401.24it/s]\n",
      " 52%|█████▏    | 26/50 [04:06<03:53,  9.73s/it]"
     ]
    },
    {
     "name": "stdout",
     "output_type": "stream",
     "text": [
      "Epoch 25: train loss = 0.022, val loss = 0.022\n"
     ]
    },
    {
     "name": "stderr",
     "output_type": "stream",
     "text": [
      "100%|██████████| 3282/3282 [00:08<00:00, 373.81it/s]\n",
      " 54%|█████▍    | 27/50 [04:16<03:44,  9.78s/it]"
     ]
    },
    {
     "name": "stdout",
     "output_type": "stream",
     "text": [
      "Epoch 26: train loss = 0.022, val loss = 0.022\n"
     ]
    },
    {
     "name": "stderr",
     "output_type": "stream",
     "text": [
      "100%|██████████| 3282/3282 [00:08<00:00, 403.66it/s]\n",
      " 56%|█████▌    | 28/50 [04:25<03:31,  9.63s/it]"
     ]
    },
    {
     "name": "stdout",
     "output_type": "stream",
     "text": [
      "Epoch 27: train loss = 0.022, val loss = 0.022\n"
     ]
    },
    {
     "name": "stderr",
     "output_type": "stream",
     "text": [
      "100%|██████████| 3282/3282 [00:08<00:00, 403.53it/s]\n",
      " 58%|█████▊    | 29/50 [04:34<03:19,  9.50s/it]"
     ]
    },
    {
     "name": "stdout",
     "output_type": "stream",
     "text": [
      "Epoch 28: train loss = 0.022, val loss = 0.022\n"
     ]
    },
    {
     "name": "stderr",
     "output_type": "stream",
     "text": [
      "100%|██████████| 3282/3282 [00:08<00:00, 395.79it/s]\n",
      " 60%|██████    | 30/50 [04:44<03:08,  9.44s/it]"
     ]
    },
    {
     "name": "stdout",
     "output_type": "stream",
     "text": [
      "Epoch 29: train loss = 0.022, val loss = 0.022\n"
     ]
    },
    {
     "name": "stderr",
     "output_type": "stream",
     "text": [
      "100%|██████████| 3282/3282 [00:08<00:00, 386.80it/s]\n",
      " 62%|██████▏   | 31/50 [04:53<03:00,  9.49s/it]"
     ]
    },
    {
     "name": "stdout",
     "output_type": "stream",
     "text": [
      "Epoch 30: train loss = 0.022, val loss = 0.022\n"
     ]
    },
    {
     "name": "stderr",
     "output_type": "stream",
     "text": [
      "100%|██████████| 3282/3282 [00:08<00:00, 386.18it/s]\n",
      " 64%|██████▍   | 32/50 [05:03<02:51,  9.54s/it]"
     ]
    },
    {
     "name": "stdout",
     "output_type": "stream",
     "text": [
      "Epoch 31: train loss = 0.022, val loss = 0.022\n"
     ]
    },
    {
     "name": "stderr",
     "output_type": "stream",
     "text": [
      "100%|██████████| 3282/3282 [00:08<00:00, 398.08it/s]\n",
      " 66%|██████▌   | 33/50 [05:12<02:40,  9.45s/it]"
     ]
    },
    {
     "name": "stdout",
     "output_type": "stream",
     "text": [
      "Epoch 32: train loss = 0.022, val loss = 0.022\n"
     ]
    },
    {
     "name": "stderr",
     "output_type": "stream",
     "text": [
      "100%|██████████| 3282/3282 [00:08<00:00, 396.68it/s]\n",
      " 68%|██████▊   | 34/50 [05:21<02:30,  9.41s/it]"
     ]
    },
    {
     "name": "stdout",
     "output_type": "stream",
     "text": [
      "Epoch 33: train loss = 0.022, val loss = 0.022\n"
     ]
    },
    {
     "name": "stderr",
     "output_type": "stream",
     "text": [
      "100%|██████████| 3282/3282 [00:08<00:00, 398.54it/s]\n",
      " 70%|███████   | 35/50 [05:31<02:20,  9.38s/it]"
     ]
    },
    {
     "name": "stdout",
     "output_type": "stream",
     "text": [
      "Epoch 34: train loss = 0.022, val loss = 0.022\n"
     ]
    },
    {
     "name": "stderr",
     "output_type": "stream",
     "text": [
      "100%|██████████| 3282/3282 [00:08<00:00, 385.89it/s]\n",
      " 72%|███████▏  | 36/50 [05:40<02:12,  9.44s/it]"
     ]
    },
    {
     "name": "stdout",
     "output_type": "stream",
     "text": [
      "Epoch 35: train loss = 0.022, val loss = 0.022\n"
     ]
    },
    {
     "name": "stderr",
     "output_type": "stream",
     "text": [
      "100%|██████████| 3282/3282 [00:08<00:00, 390.65it/s]\n",
      " 74%|███████▍  | 37/50 [05:50<02:02,  9.45s/it]"
     ]
    },
    {
     "name": "stdout",
     "output_type": "stream",
     "text": [
      "Epoch 36: train loss = 0.022, val loss = 0.022\n"
     ]
    },
    {
     "name": "stderr",
     "output_type": "stream",
     "text": [
      "100%|██████████| 3282/3282 [00:08<00:00, 379.76it/s]\n",
      " 76%|███████▌  | 38/50 [05:59<01:54,  9.54s/it]"
     ]
    },
    {
     "name": "stdout",
     "output_type": "stream",
     "text": [
      "Epoch 37: train loss = 0.022, val loss = 0.022\n"
     ]
    },
    {
     "name": "stderr",
     "output_type": "stream",
     "text": [
      "100%|██████████| 3282/3282 [00:08<00:00, 382.78it/s]\n",
      " 78%|███████▊  | 39/50 [06:09<01:45,  9.59s/it]"
     ]
    },
    {
     "name": "stdout",
     "output_type": "stream",
     "text": [
      "Epoch 38: train loss = 0.022, val loss = 0.022\n"
     ]
    },
    {
     "name": "stderr",
     "output_type": "stream",
     "text": [
      "100%|██████████| 3282/3282 [00:08<00:00, 365.33it/s]\n",
      " 80%|████████  | 40/50 [06:19<01:37,  9.74s/it]"
     ]
    },
    {
     "name": "stdout",
     "output_type": "stream",
     "text": [
      "Epoch 39: train loss = 0.022, val loss = 0.022\n"
     ]
    },
    {
     "name": "stderr",
     "output_type": "stream",
     "text": [
      "100%|██████████| 3282/3282 [00:08<00:00, 393.50it/s]\n",
      " 82%|████████▏ | 41/50 [06:29<01:26,  9.67s/it]"
     ]
    },
    {
     "name": "stdout",
     "output_type": "stream",
     "text": [
      "Epoch 40: train loss = 0.022, val loss = 0.022\n"
     ]
    },
    {
     "name": "stderr",
     "output_type": "stream",
     "text": [
      "100%|██████████| 3282/3282 [00:08<00:00, 373.22it/s]\n",
      " 84%|████████▍ | 42/50 [06:39<01:18,  9.80s/it]"
     ]
    },
    {
     "name": "stdout",
     "output_type": "stream",
     "text": [
      "Epoch 41: train loss = 0.022, val loss = 0.022\n"
     ]
    },
    {
     "name": "stderr",
     "output_type": "stream",
     "text": [
      "100%|██████████| 3282/3282 [00:08<00:00, 384.01it/s]\n",
      " 86%|████████▌ | 43/50 [06:48<01:08,  9.73s/it]"
     ]
    },
    {
     "name": "stdout",
     "output_type": "stream",
     "text": [
      "Epoch 42: train loss = 0.022, val loss = 0.022\n"
     ]
    },
    {
     "name": "stderr",
     "output_type": "stream",
     "text": [
      "100%|██████████| 3282/3282 [00:08<00:00, 401.27it/s]\n",
      " 88%|████████▊ | 44/50 [06:58<00:57,  9.60s/it]"
     ]
    },
    {
     "name": "stdout",
     "output_type": "stream",
     "text": [
      "Epoch 43: train loss = 0.022, val loss = 0.022\n"
     ]
    },
    {
     "name": "stderr",
     "output_type": "stream",
     "text": [
      "100%|██████████| 3282/3282 [00:08<00:00, 400.71it/s]\n",
      " 90%|█████████ | 45/50 [07:07<00:47,  9.54s/it]"
     ]
    },
    {
     "name": "stdout",
     "output_type": "stream",
     "text": [
      "Epoch 44: train loss = 0.022, val loss = 0.022\n"
     ]
    },
    {
     "name": "stderr",
     "output_type": "stream",
     "text": [
      "100%|██████████| 3282/3282 [00:08<00:00, 397.93it/s]\n",
      " 92%|█████████▏| 46/50 [07:17<00:38,  9.53s/it]"
     ]
    },
    {
     "name": "stdout",
     "output_type": "stream",
     "text": [
      "Epoch 45: train loss = 0.022, val loss = 0.022\n"
     ]
    },
    {
     "name": "stderr",
     "output_type": "stream",
     "text": [
      "100%|██████████| 3282/3282 [00:08<00:00, 393.75it/s]\n",
      " 94%|█████████▍| 47/50 [07:26<00:28,  9.48s/it]"
     ]
    },
    {
     "name": "stdout",
     "output_type": "stream",
     "text": [
      "Epoch 46: train loss = 0.022, val loss = 0.022\n"
     ]
    },
    {
     "name": "stderr",
     "output_type": "stream",
     "text": [
      "100%|██████████| 3282/3282 [00:08<00:00, 390.22it/s]\n",
      " 96%|█████████▌| 48/50 [07:36<00:19,  9.51s/it]"
     ]
    },
    {
     "name": "stdout",
     "output_type": "stream",
     "text": [
      "Epoch 47: train loss = 0.022, val loss = 0.022\n"
     ]
    },
    {
     "name": "stderr",
     "output_type": "stream",
     "text": [
      "100%|██████████| 3282/3282 [00:08<00:00, 388.47it/s]\n",
      " 98%|█████████▊| 49/50 [07:45<00:09,  9.50s/it]"
     ]
    },
    {
     "name": "stdout",
     "output_type": "stream",
     "text": [
      "Epoch 48: train loss = 0.022, val loss = 0.022\n"
     ]
    },
    {
     "name": "stderr",
     "output_type": "stream",
     "text": [
      "100%|██████████| 3282/3282 [00:08<00:00, 404.17it/s]\n",
      "100%|██████████| 50/50 [07:54<00:00,  9.50s/it]"
     ]
    },
    {
     "name": "stdout",
     "output_type": "stream",
     "text": [
      "Epoch 49: train loss = 0.022, val loss = 0.021\n"
     ]
    },
    {
     "name": "stderr",
     "output_type": "stream",
     "text": [
      "\n"
     ]
    }
   ],
   "source": [
    "loss_fn = nn.MSELoss()\n",
    "optimizer = torch.optim.Adam(model.parameters())\n",
    "train(model, loss_fn, optimizer, train_dl, val_dl, device=device, print_metrics=True, epochs=50)\n",
    "torch.save(model.state_dict(), \"outpainter_net/state12.pt\")"
   ]
  },
  {
   "cell_type": "code",
   "execution_count": 4,
   "metadata": {},
   "outputs": [],
   "source": [
    "# def blend_batch(output_batch, input_batch, blend_width=8):\n",
    "#     '''\n",
    "#     Blends an input of arbitrary resolution with its output, using the highest resolution of both.\n",
    "#     Returns: final result + source mask.\n",
    "#     '''\n",
    "#     print('Input size:', input_img.shape)\n",
    "#     print('Output size:', output_img.shape)\n",
    "#     in_factor = input_size / output_size\n",
    "#     if input_img.shape[1] < in_factor * output_img.shape[1]:\n",
    "#         # Output dominates, adapt input\n",
    "#         out_width, out_height = output_img.shape[1], output_img.shape[0]\n",
    "#         in_width, in_height = int(out_width * in_factor), int(out_height * in_factor)\n",
    "#         input_img = skimage.transform.resize(input_img, (in_height, in_width), anti_aliasing=True)\n",
    "#     else:\n",
    "#         # Input dominates, adapt output\n",
    "#         in_width, in_height = input_img.shape[1], input_img.shape[0]\n",
    "#         out_width, out_height = int(in_width / in_factor), int(in_height / in_factor)\n",
    "#         output_img = skimage.transform.resize(output_img, (out_height, out_width), anti_aliasing=True)\n",
    "    \n",
    "#     # Construct source mask\n",
    "#     src_mask = np.zeros((output_size, output_size))\n",
    "#     src_mask[expand_size+1:-expand_size-1, expand_size+1:-expand_size-1] = 1 # 1 extra pixel for safety\n",
    "#     src_mask = distance_transform_edt(src_mask) / blend_width\n",
    "#     src_mask = np.minimum(src_mask, 1)\n",
    "#     src_mask = skimage.transform.resize(src_mask, (out_height, out_width), anti_aliasing=True)\n",
    "#     src_mask = np.tile(src_mask[:, :, np.newaxis], (1, 1, 3))\n",
    "    \n",
    "#     # Pad input\n",
    "#     input_pad = np.zeros((out_height, out_width, 3))\n",
    "#     x1 = (out_width - in_width) // 2\n",
    "#     y1 = (out_height - in_height) // 2\n",
    "#     input_pad[y1:y1+in_height, x1:x1+in_width, :] = input_img\n",
    "    \n",
    "#     # Merge\n",
    "#     blended = input_pad * src_mask + output_img * (1 - src_mask)\n",
    "\n",
    "#     print('Blended size:', blended.shape)\n",
    "\n",
    "#     return blended, src_mask\n",
    "\n",
    "def create_forward_func(model: outpainting.CEGenerator, input_shape, output_shape = [256, 256], blend_width=8):\n",
    "    outpaint_dims = (\n",
    "        floor((output_shape[1] - input_shape[1]) / 2),\n",
    "        ceil((output_shape[1] - input_shape[1]) / 2),\n",
    "        floor((output_shape[0] - input_shape[0]) / 2),\n",
    "        ceil((output_shape[0] - input_shape[0]) / 2)\n",
    "    )\n",
    "\n",
    "    src_mask = np.zeros(output_shape)\n",
    "    src_mask[outpaint_dims[2]+1:-outpaint_dims[3]-1, outpaint_dims[0]+1:-outpaint_dims[1]-1] = 1 # 1 extra pixel for safety\n",
    "    src_mask = distance_transform_edt(src_mask) / blend_width\n",
    "    src_mask = np.minimum(src_mask, 1)\n",
    "    src_mask = skimage.transform.resize(src_mask, output_shape, anti_aliasing=True)\n",
    "    src_mask = torch.tensor(src_mask, device=device)\n",
    "\n",
    "    def outpaint(X_batch: torch.Tensor):\n",
    "        pred_batch = resize(model(resize(X_batch, [128, 128])), output_shape)\n",
    "        padded_batch = pad(X_batch, outpaint_dims)\n",
    "        preds = padded_batch * src_mask + pred_batch * (1 - src_mask)\n",
    "        return preds\n",
    "    \n",
    "    return outpaint\n",
    "\n",
    "def create_forward_opn(model: OutpainterNet, output_shape = [256, 256]):\n",
    "    return lambda img: model.image_outpaint(img, output_shape)\n"
   ]
  },
  {
   "cell_type": "code",
   "execution_count": 6,
   "metadata": {},
   "outputs": [],
   "source": [
    "@torch.no_grad()\n",
    "def model_test(forward_func: Callable, dl: DataLoader, input_size: List[int]):\n",
    "    loss_fn = nn.MSELoss()\n",
    "    total_loss = 0\n",
    "    count = 0\n",
    "    for batch in tqdm(dl):\n",
    "        batch = batch.to(device)\n",
    "        X = center_crop(batch, input_size)\n",
    "        preds = forward_func(X)\n",
    "        loss = loss_fn(preds, batch)\n",
    "        total_loss += loss.detach()\n",
    "        count += 1\n",
    "    return total_loss.item() / count\n",
    "\n",
    "def pil_loader(path: str) -> Image.Image:\n",
    "    # open path as file to avoid ResourceWarning (https://github.com/python-pillow/Pillow/issues/835)\n",
    "    with open(path, \"rb\") as f:\n",
    "        img = Image.open(f)\n",
    "        return img.convert(\"RGB\")\n",
    "\n",
    "class BasicDataset(torchvision.datasets.VisionDataset):\n",
    "    def __init__(self, root: str, transforms: Optional[Callable] = None, transform: Optional[Callable] = None, target_transform: Optional[Callable] = None) -> None:\n",
    "        super().__init__(root, transforms, transform, target_transform)\n",
    "        self.files = sorted(glob.glob(\"%s/**/*.jpg\" % root, recursive=True))\n",
    "    \n",
    "    def __getitem__(self, index: int) -> Any:\n",
    "        return self.transform(pil_loader(self.files[index]))\n",
    "    \n",
    "    def __len__(self) -> int:\n",
    "        return len(self.files)"
   ]
  },
  {
   "cell_type": "code",
   "execution_count": 7,
   "metadata": {},
   "outputs": [],
   "source": [
    "BATCH_SIZE = 256\n",
    "\n",
    "test_ds = BasicDataset(\"data/test_256/\", transform=transforms)\n",
    "test_dl = DataLoader(test_ds, BATCH_SIZE, pin_memory=True)"
   ]
  },
  {
   "cell_type": "code",
   "execution_count": 9,
   "metadata": {},
   "outputs": [],
   "source": [
    "model = OutpainterNet(chunk_size=4).to(device)\n",
    "model.load_state_dict(torch.load(\"outpainter_net/state.pt\"))\n",
    "model.eval()\n",
    "forward = create_forward_opn(model)"
   ]
  },
  {
   "cell_type": "code",
   "execution_count": 10,
   "metadata": {},
   "outputs": [
    {
     "name": "stderr",
     "output_type": "stream",
     "text": [
      "100%|██████████| 1284/1284 [18:45<00:00,  1.14it/s]\n"
     ]
    },
    {
     "data": {
      "text/plain": [
       "0.05175549516053957"
      ]
     },
     "execution_count": 10,
     "metadata": {},
     "output_type": "execute_result"
    }
   ],
   "source": [
    "model_test(forward, test_dl, [171, 171])"
   ]
  },
  {
   "cell_type": "code",
   "execution_count": 21,
   "metadata": {},
   "outputs": [],
   "source": [
    "model = OutpainterNet(chunk_size=4).to(device)\n",
    "model.load_state_dict(torch.load(\"outpainter_net/state.pt\"))\n",
    "model.eval()\n",
    "forward = create_forward_opn(model)"
   ]
  },
  {
   "cell_type": "code",
   "execution_count": 22,
   "metadata": {},
   "outputs": [
    {
     "name": "stderr",
     "output_type": "stream",
     "text": [
      "100%|██████████| 1284/1284 [17:26<00:00,  1.23it/s]\n"
     ]
    },
    {
     "data": {
      "text/plain": [
       "0.04353831935894452"
      ]
     },
     "execution_count": 22,
     "metadata": {},
     "output_type": "execute_result"
    }
   ],
   "source": [
    "model_test(forward, test_dl, [192, 192])"
   ]
  },
  {
   "cell_type": "code",
   "execution_count": 23,
   "metadata": {},
   "outputs": [],
   "source": [
    "model = OutpainterNet(chunk_size=4).to(device)\n",
    "model.load_state_dict(torch.load(\"outpainter_net/state.pt\"))\n",
    "model.eval()\n",
    "forward = create_forward_opn(model)"
   ]
  },
  {
   "cell_type": "code",
   "execution_count": 24,
   "metadata": {},
   "outputs": [
    {
     "name": "stderr",
     "output_type": "stream",
     "text": [
      "100%|██████████| 1284/1284 [15:09<00:00,  1.41it/s]\n"
     ]
    },
    {
     "data": {
      "text/plain": [
       "0.027908393527117104"
      ]
     },
     "execution_count": 24,
     "metadata": {},
     "output_type": "execute_result"
    }
   ],
   "source": [
    "model_test(forward, test_dl, [224, 224])"
   ]
  },
  {
   "cell_type": "code",
   "execution_count": 25,
   "metadata": {},
   "outputs": [],
   "source": [
    "model = OutpainterNet(chunk_size=8).to(device)\n",
    "model.load_state_dict(torch.load(\"outpainter_net/state8.pt\"))\n",
    "model.eval()\n",
    "forward = create_forward_opn(model)"
   ]
  },
  {
   "cell_type": "code",
   "execution_count": 26,
   "metadata": {},
   "outputs": [
    {
     "name": "stderr",
     "output_type": "stream",
     "text": [
      "100%|██████████| 1284/1284 [15:52<00:00,  1.35it/s]\n"
     ]
    },
    {
     "data": {
      "text/plain": [
       "0.055564084157022735"
      ]
     },
     "execution_count": 26,
     "metadata": {},
     "output_type": "execute_result"
    }
   ],
   "source": [
    "model_test(forward, test_dl, [171, 171])"
   ]
  },
  {
   "cell_type": "code",
   "execution_count": 11,
   "metadata": {},
   "outputs": [],
   "source": [
    "model = OutpainterNet(chunk_size=8).to(device)\n",
    "model.load_state_dict(torch.load(\"outpainter_net/state8.pt\"))\n",
    "model.eval()\n",
    "forward = create_forward_opn(model)"
   ]
  },
  {
   "cell_type": "code",
   "execution_count": 12,
   "metadata": {},
   "outputs": [
    {
     "name": "stderr",
     "output_type": "stream",
     "text": [
      "100%|██████████| 1284/1284 [15:09<00:00,  1.41it/s]\n"
     ]
    },
    {
     "data": {
      "text/plain": [
       "0.04676029466765692"
      ]
     },
     "execution_count": 12,
     "metadata": {},
     "output_type": "execute_result"
    }
   ],
   "source": [
    "model_test(forward, test_dl, [192, 192])"
   ]
  },
  {
   "cell_type": "code",
   "execution_count": 7,
   "metadata": {},
   "outputs": [],
   "source": [
    "model = OutpainterNet(chunk_size=8).to(device)\n",
    "model.load_state_dict(torch.load(\"outpainter_net/state8.pt\"))\n",
    "model.eval()\n",
    "forward = create_forward_opn(model)"
   ]
  },
  {
   "cell_type": "code",
   "execution_count": 8,
   "metadata": {},
   "outputs": [
    {
     "name": "stderr",
     "output_type": "stream",
     "text": [
      "100%|██████████| 1284/1284 [18:55<00:00,  1.13it/s]\n"
     ]
    },
    {
     "data": {
      "text/plain": [
       "0.029716571914815457"
      ]
     },
     "execution_count": 8,
     "metadata": {},
     "output_type": "execute_result"
    }
   ],
   "source": [
    "model_test(forward, test_dl, [224, 224])"
   ]
  },
  {
   "cell_type": "code",
   "execution_count": 9,
   "metadata": {},
   "outputs": [],
   "source": [
    "model = OutpainterNet(chunk_size=12).to(device)\n",
    "model.load_state_dict(torch.load(\"outpainter_net/state12.pt\"))\n",
    "model.eval()\n",
    "forward = create_forward_opn(model)"
   ]
  },
  {
   "cell_type": "code",
   "execution_count": 10,
   "metadata": {},
   "outputs": [
    {
     "name": "stderr",
     "output_type": "stream",
     "text": [
      "100%|██████████| 1284/1284 [15:24<00:00,  1.39it/s]\n"
     ]
    },
    {
     "data": {
      "text/plain": [
       "0.055335689556561526"
      ]
     },
     "execution_count": 10,
     "metadata": {},
     "output_type": "execute_result"
    }
   ],
   "source": [
    "model_test(forward, test_dl, [171, 171])"
   ]
  },
  {
   "cell_type": "code",
   "execution_count": 11,
   "metadata": {},
   "outputs": [],
   "source": [
    "model = OutpainterNet(chunk_size=12).to(device)\n",
    "model.load_state_dict(torch.load(\"outpainter_net/state12.pt\"))\n",
    "model.eval()\n",
    "forward = create_forward_opn(model)"
   ]
  },
  {
   "cell_type": "code",
   "execution_count": 12,
   "metadata": {},
   "outputs": [
    {
     "name": "stderr",
     "output_type": "stream",
     "text": [
      "100%|██████████| 1284/1284 [15:20<00:00,  1.39it/s]\n"
     ]
    },
    {
     "data": {
      "text/plain": [
       "0.04602155952810127"
      ]
     },
     "execution_count": 12,
     "metadata": {},
     "output_type": "execute_result"
    }
   ],
   "source": [
    "model_test(forward, test_dl, [192, 192])"
   ]
  },
  {
   "cell_type": "code",
   "execution_count": 13,
   "metadata": {},
   "outputs": [],
   "source": [
    "model = OutpainterNet(chunk_size=12).to(device)\n",
    "model.load_state_dict(torch.load(\"outpainter_net/state12.pt\"))\n",
    "model.eval()\n",
    "forward = create_forward_opn(model)"
   ]
  },
  {
   "cell_type": "code",
   "execution_count": 14,
   "metadata": {},
   "outputs": [
    {
     "name": "stderr",
     "output_type": "stream",
     "text": [
      "100%|██████████| 1284/1284 [14:49<00:00,  1.44it/s]\n"
     ]
    },
    {
     "data": {
      "text/plain": [
       "0.030090911366115105"
      ]
     },
     "execution_count": 14,
     "metadata": {},
     "output_type": "execute_result"
    }
   ],
   "source": [
    "model_test(forward, test_dl, [224, 224])"
   ]
  },
  {
   "cell_type": "code",
   "execution_count": 15,
   "metadata": {},
   "outputs": [],
   "source": [
    "model = outpainting.load_model('generator_final.pt').to(device)\n",
    "model.eval()\n",
    "forward = create_forward_func(model, [171, 171])"
   ]
  },
  {
   "cell_type": "code",
   "execution_count": 16,
   "metadata": {},
   "outputs": [
    {
     "name": "stderr",
     "output_type": "stream",
     "text": [
      "100%|██████████| 1284/1284 [14:42<00:00,  1.45it/s]\n"
     ]
    },
    {
     "data": {
      "text/plain": [
       "0.0475448766177874"
      ]
     },
     "execution_count": 16,
     "metadata": {},
     "output_type": "execute_result"
    }
   ],
   "source": [
    "model_test(forward, test_dl, [171, 171])"
   ]
  },
  {
   "cell_type": "code",
   "execution_count": 17,
   "metadata": {},
   "outputs": [],
   "source": [
    "model = outpainting.load_model('generator_final.pt').to(device)\n",
    "model.eval()\n",
    "forward = create_forward_func(model, [192, 192])"
   ]
  },
  {
   "cell_type": "code",
   "execution_count": 18,
   "metadata": {},
   "outputs": [
    {
     "name": "stderr",
     "output_type": "stream",
     "text": [
      "100%|██████████| 1284/1284 [14:47<00:00,  1.45it/s]\n"
     ]
    },
    {
     "data": {
      "text/plain": [
       "0.03521731834086161"
      ]
     },
     "execution_count": 18,
     "metadata": {},
     "output_type": "execute_result"
    }
   ],
   "source": [
    "model_test(forward, test_dl, [192, 192])"
   ]
  },
  {
   "cell_type": "code",
   "execution_count": 19,
   "metadata": {},
   "outputs": [],
   "source": [
    "model = outpainting.load_model('generator_final.pt').to(device)\n",
    "model.eval()\n",
    "forward = create_forward_func(model, [224, 224])"
   ]
  },
  {
   "cell_type": "code",
   "execution_count": 20,
   "metadata": {},
   "outputs": [
    {
     "name": "stderr",
     "output_type": "stream",
     "text": [
      "100%|██████████| 1284/1284 [14:31<00:00,  1.47it/s]\n"
     ]
    },
    {
     "data": {
      "text/plain": [
       "0.01728973692350489"
      ]
     },
     "execution_count": 20,
     "metadata": {},
     "output_type": "execute_result"
    }
   ],
   "source": [
    "model_test(forward, test_dl, [224, 224])"
   ]
  },
  {
   "attachments": {},
   "cell_type": "markdown",
   "metadata": {},
   "source": [
    "---"
   ]
  },
  {
   "cell_type": "code",
   "execution_count": 10,
   "metadata": {},
   "outputs": [],
   "source": [
    "opn4 = OutpainterNet(chunk_size=4).to(device)\n",
    "opn4.load_state_dict(torch.load(\"outpainter_net/state.pt\"))\n",
    "opn4.eval()\n",
    "forward4 = create_forward_opn(opn4, output_shape=[384, 384])"
   ]
  },
  {
   "cell_type": "code",
   "execution_count": 11,
   "metadata": {},
   "outputs": [],
   "source": [
    "opn8 = OutpainterNet(chunk_size=8).to(device)\n",
    "opn8.load_state_dict(torch.load(\"outpainter_net/state8.pt\"))\n",
    "opn8.eval()\n",
    "forward8 = create_forward_opn(opn8, output_shape=[384, 384])"
   ]
  },
  {
   "cell_type": "code",
   "execution_count": 12,
   "metadata": {},
   "outputs": [],
   "source": [
    "opn12 = OutpainterNet(chunk_size=12).to(device)\n",
    "opn12.load_state_dict(torch.load(\"outpainter_net/state12.pt\"))\n",
    "opn12.eval()\n",
    "forward12 = create_forward_opn(opn12, output_shape=[384, 384])"
   ]
  },
  {
   "cell_type": "code",
   "execution_count": 8,
   "metadata": {},
   "outputs": [],
   "source": [
    "alt = outpainting.load_model('generator_final.pt').to(device)\n",
    "alt.eval()\n",
    "forwardalt = create_forward_func(alt, [256, 256], [384, 384])"
   ]
  },
  {
   "cell_type": "code",
   "execution_count": 15,
   "metadata": {},
   "outputs": [],
   "source": [
    "samples = random.sample(range(len(test_ds)), 10)\n",
    "samples = torch.stack([test_ds[i] for i in samples]).to(device)\n",
    "samples4 = torch.cat([forward4(sample.unsqueeze(0)) for sample in samples], dim=0)\n",
    "samples8 = torch.cat([forward8(sample.unsqueeze(0)) for sample in samples], dim=0)\n",
    "samples12 = torch.cat([forward12(sample.unsqueeze(0)) for sample in samples], dim=0)\n",
    "samplesalt = forwardalt(samples)"
   ]
  },
  {
   "cell_type": "code",
   "execution_count": 54,
   "metadata": {},
   "outputs": [],
   "source": [
    "for i, sample in enumerate(samples4):\n",
    "    torchvision.transforms.functional.to_pil_image(sample).save(\"data/experiments/3/mine4_\" + str(i) + \".png\")\n",
    "for i, sample in enumerate(samples8):\n",
    "    torchvision.transforms.functional.to_pil_image(sample).save(\"data/experiments/3/mine8_\" + str(i) + \".png\")\n",
    "for i, sample in enumerate(samples12):\n",
    "    torchvision.transforms.functional.to_pil_image(sample).save(\"data/experiments/3/mine12_\" + str(i) + \".png\")\n",
    "for i, sample in enumerate(samplesalt):\n",
    "    torchvision.transforms.functional.to_pil_image(sample).save(\"data/experiments/3/ref_\" + str(i) + \".png\")"
   ]
  }
 ],
 "metadata": {
  "kernelspec": {
   "display_name": "vision-stretcher",
   "language": "python",
   "name": "python3"
  },
  "language_info": {
   "codemirror_mode": {
    "name": "ipython",
    "version": 3
   },
   "file_extension": ".py",
   "mimetype": "text/x-python",
   "name": "python",
   "nbconvert_exporter": "python",
   "pygments_lexer": "ipython3",
   "version": "3.9.12"
  },
  "orig_nbformat": 4,
  "vscode": {
   "interpreter": {
    "hash": "083d3712760fdb628befe5d1b12c121e979c76aa443ff9a7fd57a6967e239b12"
   }
  }
 },
 "nbformat": 4,
 "nbformat_minor": 2
}
