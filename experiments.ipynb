{
 "cells": [
  {
   "cell_type": "code",
   "execution_count": 8,
   "metadata": {},
   "outputs": [],
   "source": [
    "import json\n",
    "import torch\n",
    "from torch import nn\n",
    "import torchvision\n",
    "from stacker_net.train import MyDataset\n",
    "import random\n",
    "import numpy as np\n",
    "from main import *\n",
    "from PIL import Image\n",
    "from metrics.foreground_metric3 import foreground_score\n",
    "import pickle\n",
    "from torch.utils.data import DataLoader, random_split\n",
    "from outpainter_net.net import OutpainterNet\n",
    "from outpainter_net.train import train\n",
    "from tqdm import tqdm\n",
    "import sys\n",
    "from torchvision.transforms.functional import center_crop, resize\n",
    "import seaborn as sns\n",
    "import pandas as pd\n",
    "import matplotlib.pyplot as plt\n",
    "\n",
    "sns.set(rc={'figure.figsize':(10,8)})\n",
    "\n",
    "sys.path.insert(0, \"/mnt/c/Users/proto/repos/image-outpainting\")\n",
    "import outpainting\n",
    "\n",
    "device = torch.device('cuda') if torch.cuda.is_available() else torch.device('cpu')"
   ]
  },
  {
   "cell_type": "code",
   "execution_count": 2,
   "metadata": {},
   "outputs": [],
   "source": [
    "selection_filename = 'data/selected_images.json'\n",
    "with open(selection_filename, 'r') as f:\n",
    "        paths = json.load(f)\n",
    "transforms = torchvision.transforms.Compose([\n",
    "    torchvision.transforms.PILToTensor(),\n",
    "    torchvision.transforms.ConvertImageDtype(torch.float32)\n",
    "])\n",
    "img_ds = MyDataset('data/data_256', paths, transform=transforms)"
   ]
  },
  {
   "attachments": {},
   "cell_type": "markdown",
   "metadata": {},
   "source": [
    "1"
   ]
  },
  {
   "cell_type": "code",
   "execution_count": 3,
   "metadata": {},
   "outputs": [],
   "source": [
    "back_to_pil = torchvision.transforms.ToPILImage()\n",
    "images = [np.array(back_to_pil(img_ds[i])) for i in random.sample(range(len(img_ds)), 10)]\n",
    "base_dims = np.array((256, 256))\n",
    "dims = np.array([\n",
    "    [256, 288],\n",
    "    [256, 384],\n",
    "    [288, 256],\n",
    "    [256, 224],\n",
    "    [256, 128],\n",
    "    [224, 256],\n",
    "    [288, 288],\n",
    "    [224, 224]\n",
    "])\n",
    "save_dir = \"data/experiments/1/\"\n",
    "predictor, coi = init_detectron()"
   ]
  },
  {
   "cell_type": "code",
   "execution_count": 10,
   "metadata": {},
   "outputs": [
    {
     "name": "stderr",
     "output_type": "stream",
     "text": [
      "0it [00:00, ?it/s]/home/proto/miniconda3/envs/vision-stretcher/lib/python3.9/site-packages/detectron2/structures/image_list.py:88: UserWarning: __floordiv__ is deprecated, and its behavior will change in a future version of pytorch. It currently rounds toward 0 (like the 'trunc' function NOT 'floor'). This results in incorrect rounding for negative values. To keep the current behavior, use torch.div(a, b, rounding_mode='trunc'), or for actual floor division, use torch.div(a, b, rounding_mode='floor').\n",
      "  max_size = (max_size + (stride - 1)) // stride * stride\n",
      "/home/proto/miniconda3/envs/vision-stretcher/lib/python3.9/site-packages/torch/functional.py:445: UserWarning: torch.meshgrid: in an upcoming release, it will be required to pass the indexing argument. (Triggered internally at  /opt/conda/conda-bld/pytorch_1639180487213/work/aten/src/ATen/native/TensorShape.cpp:2157.)\n",
      "  return _VF.meshgrid(tensors, **kwargs)  # type: ignore[attr-defined]\n",
      "/home/proto/miniconda3/envs/vision-stretcher/lib/python3.9/site-packages/detectron2/structures/image_list.py:88: UserWarning: __floordiv__ is deprecated, and its behavior will change in a future version of pytorch. It currently rounds toward 0 (like the 'trunc' function NOT 'floor'). This results in incorrect rounding for negative values. To keep the current behavior, use torch.div(a, b, rounding_mode='trunc'), or for actual floor division, use torch.div(a, b, rounding_mode='floor').\n",
      "  max_size = (max_size + (stride - 1)) // stride * stride\n",
      "/home/proto/miniconda3/envs/vision-stretcher/lib/python3.9/site-packages/detectron2/structures/image_list.py:88: UserWarning: __floordiv__ is deprecated, and its behavior will change in a future version of pytorch. It currently rounds toward 0 (like the 'trunc' function NOT 'floor'). This results in incorrect rounding for negative values. To keep the current behavior, use torch.div(a, b, rounding_mode='trunc'), or for actual floor division, use torch.div(a, b, rounding_mode='floor').\n",
      "  max_size = (max_size + (stride - 1)) // stride * stride\n",
      "/home/proto/miniconda3/envs/vision-stretcher/lib/python3.9/site-packages/detectron2/structures/image_list.py:88: UserWarning: __floordiv__ is deprecated, and its behavior will change in a future version of pytorch. It currently rounds toward 0 (like the 'trunc' function NOT 'floor'). This results in incorrect rounding for negative values. To keep the current behavior, use torch.div(a, b, rounding_mode='trunc'), or for actual floor division, use torch.div(a, b, rounding_mode='floor').\n",
      "  max_size = (max_size + (stride - 1)) // stride * stride\n",
      "10it [20:22, 122.20s/it]\n"
     ]
    }
   ],
   "source": [
    "\n",
    "for idx, img in tqdm(enumerate(images)):\n",
    "    Image.fromarray(img).save(save_dir + str(idx) + \"_og.png\")\n",
    "    for idx2, dim in enumerate(dims):\n",
    "        mask = create_mask(predictor, coi, img)\n",
    "        output1, mask1 = recompose(img, dim, mask, True)\n",
    "        output2, mask2 = recompose(img, dim, mask)\n",
    "        Image.fromarray(output1.astype(np.uint8)).save(save_dir + str(idx) + \"_\" + str(idx2) + \"_base.png\")\n",
    "        Image.fromarray(output2.astype(np.uint8)).save(save_dir + str(idx) + \"_\" + str(idx2) + \"_mine.png\")"
   ]
  },
  {
   "attachments": {},
   "cell_type": "markdown",
   "metadata": {},
   "source": [
    "2"
   ]
  },
  {
   "cell_type": "code",
   "execution_count": 4,
   "metadata": {},
   "outputs": [],
   "source": [
    "sample = random.sample(range(len(img_ds)), 50)\n",
    "images = [np.array(back_to_pil(img_ds[i])) for i in sample]\n",
    "stats = {}"
   ]
  },
  {
   "cell_type": "code",
   "execution_count": 10,
   "metadata": {},
   "outputs": [],
   "source": [
    "def measure_recomposition(images, target_size, predictor, coi):\n",
    "    stats_unmasked = []\n",
    "    stats_masked = []\n",
    "    for idx, img in enumerate(tqdm(images)):\n",
    "        mask = create_mask(predictor, coi, img)\n",
    "        output1, mask1 = recompose(img, target_size, mask, True)\n",
    "        output2, mask2 = recompose(img, target_size, mask)\n",
    "        stats_unmasked.append(foreground_score(mask, mask1))\n",
    "        stats_masked.append(foreground_score(mask, mask2))\n",
    "    return {\"unmasked\": stats_unmasked, \"masked\": stats_masked}"
   ]
  },
  {
   "cell_type": "code",
   "execution_count": 8,
   "metadata": {},
   "outputs": [
    {
     "name": "stderr",
     "output_type": "stream",
     "text": [
      "0it [00:00, ?it/s]/home/proto/miniconda3/envs/vision-stretcher/lib/python3.9/site-packages/detectron2/structures/image_list.py:88: UserWarning: __floordiv__ is deprecated, and its behavior will change in a future version of pytorch. It currently rounds toward 0 (like the 'trunc' function NOT 'floor'). This results in incorrect rounding for negative values. To keep the current behavior, use torch.div(a, b, rounding_mode='trunc'), or for actual floor division, use torch.div(a, b, rounding_mode='floor').\n",
      "  max_size = (max_size + (stride - 1)) // stride * stride\n",
      "1it [00:27, 27.11s/it]/home/proto/miniconda3/envs/vision-stretcher/lib/python3.9/site-packages/detectron2/structures/image_list.py:88: UserWarning: __floordiv__ is deprecated, and its behavior will change in a future version of pytorch. It currently rounds toward 0 (like the 'trunc' function NOT 'floor'). This results in incorrect rounding for negative values. To keep the current behavior, use torch.div(a, b, rounding_mode='trunc'), or for actual floor division, use torch.div(a, b, rounding_mode='floor').\n",
      "  max_size = (max_size + (stride - 1)) // stride * stride\n",
      "4it [01:48, 27.24s/it]/home/proto/miniconda3/envs/vision-stretcher/lib/python3.9/site-packages/detectron2/structures/image_list.py:88: UserWarning: __floordiv__ is deprecated, and its behavior will change in a future version of pytorch. It currently rounds toward 0 (like the 'trunc' function NOT 'floor'). This results in incorrect rounding for negative values. To keep the current behavior, use torch.div(a, b, rounding_mode='trunc'), or for actual floor division, use torch.div(a, b, rounding_mode='floor').\n",
      "  max_size = (max_size + (stride - 1)) // stride * stride\n",
      "6it [02:42, 26.97s/it]/home/proto/miniconda3/envs/vision-stretcher/lib/python3.9/site-packages/detectron2/structures/image_list.py:88: UserWarning: __floordiv__ is deprecated, and its behavior will change in a future version of pytorch. It currently rounds toward 0 (like the 'trunc' function NOT 'floor'). This results in incorrect rounding for negative values. To keep the current behavior, use torch.div(a, b, rounding_mode='trunc'), or for actual floor division, use torch.div(a, b, rounding_mode='floor').\n",
      "  max_size = (max_size + (stride - 1)) // stride * stride\n",
      "11it [04:56, 26.86s/it]/home/proto/miniconda3/envs/vision-stretcher/lib/python3.9/site-packages/detectron2/structures/image_list.py:88: UserWarning: __floordiv__ is deprecated, and its behavior will change in a future version of pytorch. It currently rounds toward 0 (like the 'trunc' function NOT 'floor'). This results in incorrect rounding for negative values. To keep the current behavior, use torch.div(a, b, rounding_mode='trunc'), or for actual floor division, use torch.div(a, b, rounding_mode='floor').\n",
      "  max_size = (max_size + (stride - 1)) // stride * stride\n",
      "12it [05:23, 26.84s/it]/home/proto/miniconda3/envs/vision-stretcher/lib/python3.9/site-packages/detectron2/structures/image_list.py:88: UserWarning: __floordiv__ is deprecated, and its behavior will change in a future version of pytorch. It currently rounds toward 0 (like the 'trunc' function NOT 'floor'). This results in incorrect rounding for negative values. To keep the current behavior, use torch.div(a, b, rounding_mode='trunc'), or for actual floor division, use torch.div(a, b, rounding_mode='floor').\n",
      "  max_size = (max_size + (stride - 1)) // stride * stride\n",
      "13it [05:50, 26.84s/it]/home/proto/miniconda3/envs/vision-stretcher/lib/python3.9/site-packages/detectron2/structures/image_list.py:88: UserWarning: __floordiv__ is deprecated, and its behavior will change in a future version of pytorch. It currently rounds toward 0 (like the 'trunc' function NOT 'floor'). This results in incorrect rounding for negative values. To keep the current behavior, use torch.div(a, b, rounding_mode='trunc'), or for actual floor division, use torch.div(a, b, rounding_mode='floor').\n",
      "  max_size = (max_size + (stride - 1)) // stride * stride\n",
      "14it [06:17, 26.84s/it]/home/proto/miniconda3/envs/vision-stretcher/lib/python3.9/site-packages/detectron2/structures/image_list.py:88: UserWarning: __floordiv__ is deprecated, and its behavior will change in a future version of pytorch. It currently rounds toward 0 (like the 'trunc' function NOT 'floor'). This results in incorrect rounding for negative values. To keep the current behavior, use torch.div(a, b, rounding_mode='trunc'), or for actual floor division, use torch.div(a, b, rounding_mode='floor').\n",
      "  max_size = (max_size + (stride - 1)) // stride * stride\n",
      "15it [06:43, 26.84s/it]/home/proto/miniconda3/envs/vision-stretcher/lib/python3.9/site-packages/detectron2/structures/image_list.py:88: UserWarning: __floordiv__ is deprecated, and its behavior will change in a future version of pytorch. It currently rounds toward 0 (like the 'trunc' function NOT 'floor'). This results in incorrect rounding for negative values. To keep the current behavior, use torch.div(a, b, rounding_mode='trunc'), or for actual floor division, use torch.div(a, b, rounding_mode='floor').\n",
      "  max_size = (max_size + (stride - 1)) // stride * stride\n",
      "17it [07:37, 26.81s/it]/home/proto/miniconda3/envs/vision-stretcher/lib/python3.9/site-packages/detectron2/structures/image_list.py:88: UserWarning: __floordiv__ is deprecated, and its behavior will change in a future version of pytorch. It currently rounds toward 0 (like the 'trunc' function NOT 'floor'). This results in incorrect rounding for negative values. To keep the current behavior, use torch.div(a, b, rounding_mode='trunc'), or for actual floor division, use torch.div(a, b, rounding_mode='floor').\n",
      "  max_size = (max_size + (stride - 1)) // stride * stride\n",
      "18it [08:04, 26.94s/it]/home/proto/miniconda3/envs/vision-stretcher/lib/python3.9/site-packages/detectron2/structures/image_list.py:88: UserWarning: __floordiv__ is deprecated, and its behavior will change in a future version of pytorch. It currently rounds toward 0 (like the 'trunc' function NOT 'floor'). This results in incorrect rounding for negative values. To keep the current behavior, use torch.div(a, b, rounding_mode='trunc'), or for actual floor division, use torch.div(a, b, rounding_mode='floor').\n",
      "  max_size = (max_size + (stride - 1)) // stride * stride\n",
      "21it [09:26, 27.22s/it]/home/proto/miniconda3/envs/vision-stretcher/lib/python3.9/site-packages/detectron2/structures/image_list.py:88: UserWarning: __floordiv__ is deprecated, and its behavior will change in a future version of pytorch. It currently rounds toward 0 (like the 'trunc' function NOT 'floor'). This results in incorrect rounding for negative values. To keep the current behavior, use torch.div(a, b, rounding_mode='trunc'), or for actual floor division, use torch.div(a, b, rounding_mode='floor').\n",
      "  max_size = (max_size + (stride - 1)) // stride * stride\n",
      "26it [11:39, 26.73s/it]/home/proto/miniconda3/envs/vision-stretcher/lib/python3.9/site-packages/detectron2/structures/image_list.py:88: UserWarning: __floordiv__ is deprecated, and its behavior will change in a future version of pytorch. It currently rounds toward 0 (like the 'trunc' function NOT 'floor'). This results in incorrect rounding for negative values. To keep the current behavior, use torch.div(a, b, rounding_mode='trunc'), or for actual floor division, use torch.div(a, b, rounding_mode='floor').\n",
      "  max_size = (max_size + (stride - 1)) // stride * stride\n",
      "28it [12:33, 26.79s/it]/home/proto/miniconda3/envs/vision-stretcher/lib/python3.9/site-packages/detectron2/structures/image_list.py:88: UserWarning: __floordiv__ is deprecated, and its behavior will change in a future version of pytorch. It currently rounds toward 0 (like the 'trunc' function NOT 'floor'). This results in incorrect rounding for negative values. To keep the current behavior, use torch.div(a, b, rounding_mode='trunc'), or for actual floor division, use torch.div(a, b, rounding_mode='floor').\n",
      "  max_size = (max_size + (stride - 1)) // stride * stride\n",
      "29it [13:00, 26.89s/it]/home/proto/miniconda3/envs/vision-stretcher/lib/python3.9/site-packages/detectron2/structures/image_list.py:88: UserWarning: __floordiv__ is deprecated, and its behavior will change in a future version of pytorch. It currently rounds toward 0 (like the 'trunc' function NOT 'floor'). This results in incorrect rounding for negative values. To keep the current behavior, use torch.div(a, b, rounding_mode='trunc'), or for actual floor division, use torch.div(a, b, rounding_mode='floor').\n",
      "  max_size = (max_size + (stride - 1)) // stride * stride\n",
      "30it [13:27, 26.86s/it]/home/proto/miniconda3/envs/vision-stretcher/lib/python3.9/site-packages/detectron2/structures/image_list.py:88: UserWarning: __floordiv__ is deprecated, and its behavior will change in a future version of pytorch. It currently rounds toward 0 (like the 'trunc' function NOT 'floor'). This results in incorrect rounding for negative values. To keep the current behavior, use torch.div(a, b, rounding_mode='trunc'), or for actual floor division, use torch.div(a, b, rounding_mode='floor').\n",
      "  max_size = (max_size + (stride - 1)) // stride * stride\n",
      "32it [14:21, 26.81s/it]/home/proto/miniconda3/envs/vision-stretcher/lib/python3.9/site-packages/detectron2/structures/image_list.py:88: UserWarning: __floordiv__ is deprecated, and its behavior will change in a future version of pytorch. It currently rounds toward 0 (like the 'trunc' function NOT 'floor'). This results in incorrect rounding for negative values. To keep the current behavior, use torch.div(a, b, rounding_mode='trunc'), or for actual floor division, use torch.div(a, b, rounding_mode='floor').\n",
      "  max_size = (max_size + (stride - 1)) // stride * stride\n",
      "33it [14:48, 26.85s/it]/home/proto/miniconda3/envs/vision-stretcher/lib/python3.9/site-packages/detectron2/structures/image_list.py:88: UserWarning: __floordiv__ is deprecated, and its behavior will change in a future version of pytorch. It currently rounds toward 0 (like the 'trunc' function NOT 'floor'). This results in incorrect rounding for negative values. To keep the current behavior, use torch.div(a, b, rounding_mode='trunc'), or for actual floor division, use torch.div(a, b, rounding_mode='floor').\n",
      "  max_size = (max_size + (stride - 1)) // stride * stride\n",
      "34it [15:14, 26.84s/it]/home/proto/miniconda3/envs/vision-stretcher/lib/python3.9/site-packages/detectron2/structures/image_list.py:88: UserWarning: __floordiv__ is deprecated, and its behavior will change in a future version of pytorch. It currently rounds toward 0 (like the 'trunc' function NOT 'floor'). This results in incorrect rounding for negative values. To keep the current behavior, use torch.div(a, b, rounding_mode='trunc'), or for actual floor division, use torch.div(a, b, rounding_mode='floor').\n",
      "  max_size = (max_size + (stride - 1)) // stride * stride\n",
      "35it [15:41, 26.83s/it]/home/proto/miniconda3/envs/vision-stretcher/lib/python3.9/site-packages/detectron2/structures/image_list.py:88: UserWarning: __floordiv__ is deprecated, and its behavior will change in a future version of pytorch. It currently rounds toward 0 (like the 'trunc' function NOT 'floor'). This results in incorrect rounding for negative values. To keep the current behavior, use torch.div(a, b, rounding_mode='trunc'), or for actual floor division, use torch.div(a, b, rounding_mode='floor').\n",
      "  max_size = (max_size + (stride - 1)) // stride * stride\n",
      "36it [16:08, 26.87s/it]/home/proto/miniconda3/envs/vision-stretcher/lib/python3.9/site-packages/detectron2/structures/image_list.py:88: UserWarning: __floordiv__ is deprecated, and its behavior will change in a future version of pytorch. It currently rounds toward 0 (like the 'trunc' function NOT 'floor'). This results in incorrect rounding for negative values. To keep the current behavior, use torch.div(a, b, rounding_mode='trunc'), or for actual floor division, use torch.div(a, b, rounding_mode='floor').\n",
      "  max_size = (max_size + (stride - 1)) // stride * stride\n",
      "37it [16:35, 26.89s/it]/home/proto/miniconda3/envs/vision-stretcher/lib/python3.9/site-packages/detectron2/structures/image_list.py:88: UserWarning: __floordiv__ is deprecated, and its behavior will change in a future version of pytorch. It currently rounds toward 0 (like the 'trunc' function NOT 'floor'). This results in incorrect rounding for negative values. To keep the current behavior, use torch.div(a, b, rounding_mode='trunc'), or for actual floor division, use torch.div(a, b, rounding_mode='floor').\n",
      "  max_size = (max_size + (stride - 1)) // stride * stride\n",
      "38it [17:02, 26.88s/it]/home/proto/miniconda3/envs/vision-stretcher/lib/python3.9/site-packages/detectron2/structures/image_list.py:88: UserWarning: __floordiv__ is deprecated, and its behavior will change in a future version of pytorch. It currently rounds toward 0 (like the 'trunc' function NOT 'floor'). This results in incorrect rounding for negative values. To keep the current behavior, use torch.div(a, b, rounding_mode='trunc'), or for actual floor division, use torch.div(a, b, rounding_mode='floor').\n",
      "  max_size = (max_size + (stride - 1)) // stride * stride\n",
      "39it [17:29, 26.92s/it]/home/proto/miniconda3/envs/vision-stretcher/lib/python3.9/site-packages/detectron2/structures/image_list.py:88: UserWarning: __floordiv__ is deprecated, and its behavior will change in a future version of pytorch. It currently rounds toward 0 (like the 'trunc' function NOT 'floor'). This results in incorrect rounding for negative values. To keep the current behavior, use torch.div(a, b, rounding_mode='trunc'), or for actual floor division, use torch.div(a, b, rounding_mode='floor').\n",
      "  max_size = (max_size + (stride - 1)) // stride * stride\n",
      "41it [18:23, 27.06s/it]/home/proto/miniconda3/envs/vision-stretcher/lib/python3.9/site-packages/detectron2/structures/image_list.py:88: UserWarning: __floordiv__ is deprecated, and its behavior will change in a future version of pytorch. It currently rounds toward 0 (like the 'trunc' function NOT 'floor'). This results in incorrect rounding for negative values. To keep the current behavior, use torch.div(a, b, rounding_mode='trunc'), or for actual floor division, use torch.div(a, b, rounding_mode='floor').\n",
      "  max_size = (max_size + (stride - 1)) // stride * stride\n",
      "42it [18:50, 27.05s/it]/home/proto/miniconda3/envs/vision-stretcher/lib/python3.9/site-packages/detectron2/structures/image_list.py:88: UserWarning: __floordiv__ is deprecated, and its behavior will change in a future version of pytorch. It currently rounds toward 0 (like the 'trunc' function NOT 'floor'). This results in incorrect rounding for negative values. To keep the current behavior, use torch.div(a, b, rounding_mode='trunc'), or for actual floor division, use torch.div(a, b, rounding_mode='floor').\n",
      "  max_size = (max_size + (stride - 1)) // stride * stride\n",
      "44it [19:44, 26.86s/it]/home/proto/miniconda3/envs/vision-stretcher/lib/python3.9/site-packages/detectron2/structures/image_list.py:88: UserWarning: __floordiv__ is deprecated, and its behavior will change in a future version of pytorch. It currently rounds toward 0 (like the 'trunc' function NOT 'floor'). This results in incorrect rounding for negative values. To keep the current behavior, use torch.div(a, b, rounding_mode='trunc'), or for actual floor division, use torch.div(a, b, rounding_mode='floor').\n",
      "  max_size = (max_size + (stride - 1)) // stride * stride\n",
      "46it [20:39, 27.09s/it]/home/proto/miniconda3/envs/vision-stretcher/lib/python3.9/site-packages/detectron2/structures/image_list.py:88: UserWarning: __floordiv__ is deprecated, and its behavior will change in a future version of pytorch. It currently rounds toward 0 (like the 'trunc' function NOT 'floor'). This results in incorrect rounding for negative values. To keep the current behavior, use torch.div(a, b, rounding_mode='trunc'), or for actual floor division, use torch.div(a, b, rounding_mode='floor').\n",
      "  max_size = (max_size + (stride - 1)) // stride * stride\n",
      "47it [21:06, 27.17s/it]/home/proto/miniconda3/envs/vision-stretcher/lib/python3.9/site-packages/detectron2/structures/image_list.py:88: UserWarning: __floordiv__ is deprecated, and its behavior will change in a future version of pytorch. It currently rounds toward 0 (like the 'trunc' function NOT 'floor'). This results in incorrect rounding for negative values. To keep the current behavior, use torch.div(a, b, rounding_mode='trunc'), or for actual floor division, use torch.div(a, b, rounding_mode='floor').\n",
      "  max_size = (max_size + (stride - 1)) // stride * stride\n",
      "48it [21:32, 26.96s/it]/home/proto/miniconda3/envs/vision-stretcher/lib/python3.9/site-packages/detectron2/structures/image_list.py:88: UserWarning: __floordiv__ is deprecated, and its behavior will change in a future version of pytorch. It currently rounds toward 0 (like the 'trunc' function NOT 'floor'). This results in incorrect rounding for negative values. To keep the current behavior, use torch.div(a, b, rounding_mode='trunc'), or for actual floor division, use torch.div(a, b, rounding_mode='floor').\n",
      "  max_size = (max_size + (stride - 1)) // stride * stride\n",
      "49it [21:59, 26.93s/it]/home/proto/miniconda3/envs/vision-stretcher/lib/python3.9/site-packages/detectron2/structures/image_list.py:88: UserWarning: __floordiv__ is deprecated, and its behavior will change in a future version of pytorch. It currently rounds toward 0 (like the 'trunc' function NOT 'floor'). This results in incorrect rounding for negative values. To keep the current behavior, use torch.div(a, b, rounding_mode='trunc'), or for actual floor division, use torch.div(a, b, rounding_mode='floor').\n",
      "  max_size = (max_size + (stride - 1)) // stride * stride\n",
      "50it [22:26, 26.93s/it]\n"
     ]
    }
   ],
   "source": [
    "stats[.5] = measure_recomposition(images, [256, 128], predictor, coi)"
   ]
  },
  {
   "cell_type": "code",
   "execution_count": 11,
   "metadata": {},
   "outputs": [
    {
     "name": "stderr",
     "output_type": "stream",
     "text": [
      "  0%|          | 0/50 [00:00<?, ?it/s]/home/proto/miniconda3/envs/vision-stretcher/lib/python3.9/site-packages/detectron2/structures/image_list.py:88: UserWarning: __floordiv__ is deprecated, and its behavior will change in a future version of pytorch. It currently rounds toward 0 (like the 'trunc' function NOT 'floor'). This results in incorrect rounding for negative values. To keep the current behavior, use torch.div(a, b, rounding_mode='trunc'), or for actual floor division, use torch.div(a, b, rounding_mode='floor').\n",
      "  max_size = (max_size + (stride - 1)) // stride * stride\n",
      "  2%|▏         | 1/50 [00:15<12:51, 15.74s/it]/home/proto/miniconda3/envs/vision-stretcher/lib/python3.9/site-packages/detectron2/structures/image_list.py:88: UserWarning: __floordiv__ is deprecated, and its behavior will change in a future version of pytorch. It currently rounds toward 0 (like the 'trunc' function NOT 'floor'). This results in incorrect rounding for negative values. To keep the current behavior, use torch.div(a, b, rounding_mode='trunc'), or for actual floor division, use torch.div(a, b, rounding_mode='floor').\n",
      "  max_size = (max_size + (stride - 1)) // stride * stride\n",
      "  4%|▍         | 2/50 [00:31<12:36, 15.76s/it]/home/proto/miniconda3/envs/vision-stretcher/lib/python3.9/site-packages/detectron2/structures/image_list.py:88: UserWarning: __floordiv__ is deprecated, and its behavior will change in a future version of pytorch. It currently rounds toward 0 (like the 'trunc' function NOT 'floor'). This results in incorrect rounding for negative values. To keep the current behavior, use torch.div(a, b, rounding_mode='trunc'), or for actual floor division, use torch.div(a, b, rounding_mode='floor').\n",
      "  max_size = (max_size + (stride - 1)) // stride * stride\n",
      "  8%|▊         | 4/50 [01:02<11:52, 15.50s/it]/home/proto/miniconda3/envs/vision-stretcher/lib/python3.9/site-packages/detectron2/structures/image_list.py:88: UserWarning: __floordiv__ is deprecated, and its behavior will change in a future version of pytorch. It currently rounds toward 0 (like the 'trunc' function NOT 'floor'). This results in incorrect rounding for negative values. To keep the current behavior, use torch.div(a, b, rounding_mode='trunc'), or for actual floor division, use torch.div(a, b, rounding_mode='floor').\n",
      "  max_size = (max_size + (stride - 1)) // stride * stride\n",
      " 12%|█▏        | 6/50 [01:33<11:24, 15.55s/it]/home/proto/miniconda3/envs/vision-stretcher/lib/python3.9/site-packages/detectron2/structures/image_list.py:88: UserWarning: __floordiv__ is deprecated, and its behavior will change in a future version of pytorch. It currently rounds toward 0 (like the 'trunc' function NOT 'floor'). This results in incorrect rounding for negative values. To keep the current behavior, use torch.div(a, b, rounding_mode='trunc'), or for actual floor division, use torch.div(a, b, rounding_mode='floor').\n",
      "  max_size = (max_size + (stride - 1)) // stride * stride\n",
      " 22%|██▏       | 11/50 [02:51<10:09, 15.62s/it]/home/proto/miniconda3/envs/vision-stretcher/lib/python3.9/site-packages/detectron2/structures/image_list.py:88: UserWarning: __floordiv__ is deprecated, and its behavior will change in a future version of pytorch. It currently rounds toward 0 (like the 'trunc' function NOT 'floor'). This results in incorrect rounding for negative values. To keep the current behavior, use torch.div(a, b, rounding_mode='trunc'), or for actual floor division, use torch.div(a, b, rounding_mode='floor').\n",
      "  max_size = (max_size + (stride - 1)) // stride * stride\n",
      " 24%|██▍       | 12/50 [03:07<09:52, 15.60s/it]/home/proto/miniconda3/envs/vision-stretcher/lib/python3.9/site-packages/detectron2/structures/image_list.py:88: UserWarning: __floordiv__ is deprecated, and its behavior will change in a future version of pytorch. It currently rounds toward 0 (like the 'trunc' function NOT 'floor'). This results in incorrect rounding for negative values. To keep the current behavior, use torch.div(a, b, rounding_mode='trunc'), or for actual floor division, use torch.div(a, b, rounding_mode='floor').\n",
      "  max_size = (max_size + (stride - 1)) // stride * stride\n",
      " 26%|██▌       | 13/50 [03:22<09:37, 15.62s/it]/home/proto/miniconda3/envs/vision-stretcher/lib/python3.9/site-packages/detectron2/structures/image_list.py:88: UserWarning: __floordiv__ is deprecated, and its behavior will change in a future version of pytorch. It currently rounds toward 0 (like the 'trunc' function NOT 'floor'). This results in incorrect rounding for negative values. To keep the current behavior, use torch.div(a, b, rounding_mode='trunc'), or for actual floor division, use torch.div(a, b, rounding_mode='floor').\n",
      "  max_size = (max_size + (stride - 1)) // stride * stride\n",
      " 28%|██▊       | 14/50 [03:38<09:21, 15.60s/it]/home/proto/miniconda3/envs/vision-stretcher/lib/python3.9/site-packages/detectron2/structures/image_list.py:88: UserWarning: __floordiv__ is deprecated, and its behavior will change in a future version of pytorch. It currently rounds toward 0 (like the 'trunc' function NOT 'floor'). This results in incorrect rounding for negative values. To keep the current behavior, use torch.div(a, b, rounding_mode='trunc'), or for actual floor division, use torch.div(a, b, rounding_mode='floor').\n",
      "  max_size = (max_size + (stride - 1)) // stride * stride\n",
      " 30%|███       | 15/50 [03:54<09:07, 15.64s/it]/home/proto/miniconda3/envs/vision-stretcher/lib/python3.9/site-packages/detectron2/structures/image_list.py:88: UserWarning: __floordiv__ is deprecated, and its behavior will change in a future version of pytorch. It currently rounds toward 0 (like the 'trunc' function NOT 'floor'). This results in incorrect rounding for negative values. To keep the current behavior, use torch.div(a, b, rounding_mode='trunc'), or for actual floor division, use torch.div(a, b, rounding_mode='floor').\n",
      "  max_size = (max_size + (stride - 1)) // stride * stride\n",
      " 34%|███▍      | 17/50 [04:24<08:31, 15.49s/it]/home/proto/miniconda3/envs/vision-stretcher/lib/python3.9/site-packages/detectron2/structures/image_list.py:88: UserWarning: __floordiv__ is deprecated, and its behavior will change in a future version of pytorch. It currently rounds toward 0 (like the 'trunc' function NOT 'floor'). This results in incorrect rounding for negative values. To keep the current behavior, use torch.div(a, b, rounding_mode='trunc'), or for actual floor division, use torch.div(a, b, rounding_mode='floor').\n",
      "  max_size = (max_size + (stride - 1)) // stride * stride\n",
      " 36%|███▌      | 18/50 [04:40<08:14, 15.47s/it]/home/proto/miniconda3/envs/vision-stretcher/lib/python3.9/site-packages/detectron2/structures/image_list.py:88: UserWarning: __floordiv__ is deprecated, and its behavior will change in a future version of pytorch. It currently rounds toward 0 (like the 'trunc' function NOT 'floor'). This results in incorrect rounding for negative values. To keep the current behavior, use torch.div(a, b, rounding_mode='trunc'), or for actual floor division, use torch.div(a, b, rounding_mode='floor').\n",
      "  max_size = (max_size + (stride - 1)) // stride * stride\n",
      " 42%|████▏     | 21/50 [05:27<07:32, 15.60s/it]/home/proto/miniconda3/envs/vision-stretcher/lib/python3.9/site-packages/detectron2/structures/image_list.py:88: UserWarning: __floordiv__ is deprecated, and its behavior will change in a future version of pytorch. It currently rounds toward 0 (like the 'trunc' function NOT 'floor'). This results in incorrect rounding for negative values. To keep the current behavior, use torch.div(a, b, rounding_mode='trunc'), or for actual floor division, use torch.div(a, b, rounding_mode='floor').\n",
      "  max_size = (max_size + (stride - 1)) // stride * stride\n",
      " 52%|█████▏    | 26/50 [06:45<06:15, 15.65s/it]/home/proto/miniconda3/envs/vision-stretcher/lib/python3.9/site-packages/detectron2/structures/image_list.py:88: UserWarning: __floordiv__ is deprecated, and its behavior will change in a future version of pytorch. It currently rounds toward 0 (like the 'trunc' function NOT 'floor'). This results in incorrect rounding for negative values. To keep the current behavior, use torch.div(a, b, rounding_mode='trunc'), or for actual floor division, use torch.div(a, b, rounding_mode='floor').\n",
      "  max_size = (max_size + (stride - 1)) // stride * stride\n",
      " 54%|█████▍    | 27/50 [07:01<05:59, 15.64s/it]/home/proto/miniconda3/envs/vision-stretcher/lib/python3.9/site-packages/detectron2/structures/image_list.py:88: UserWarning: __floordiv__ is deprecated, and its behavior will change in a future version of pytorch. It currently rounds toward 0 (like the 'trunc' function NOT 'floor'). This results in incorrect rounding for negative values. To keep the current behavior, use torch.div(a, b, rounding_mode='trunc'), or for actual floor division, use torch.div(a, b, rounding_mode='floor').\n",
      "  max_size = (max_size + (stride - 1)) // stride * stride\n",
      " 56%|█████▌    | 28/50 [07:16<05:44, 15.64s/it]/home/proto/miniconda3/envs/vision-stretcher/lib/python3.9/site-packages/detectron2/structures/image_list.py:88: UserWarning: __floordiv__ is deprecated, and its behavior will change in a future version of pytorch. It currently rounds toward 0 (like the 'trunc' function NOT 'floor'). This results in incorrect rounding for negative values. To keep the current behavior, use torch.div(a, b, rounding_mode='trunc'), or for actual floor division, use torch.div(a, b, rounding_mode='floor').\n",
      "  max_size = (max_size + (stride - 1)) // stride * stride\n",
      " 58%|█████▊    | 29/50 [07:32<05:29, 15.68s/it]/home/proto/miniconda3/envs/vision-stretcher/lib/python3.9/site-packages/detectron2/structures/image_list.py:88: UserWarning: __floordiv__ is deprecated, and its behavior will change in a future version of pytorch. It currently rounds toward 0 (like the 'trunc' function NOT 'floor'). This results in incorrect rounding for negative values. To keep the current behavior, use torch.div(a, b, rounding_mode='trunc'), or for actual floor division, use torch.div(a, b, rounding_mode='floor').\n",
      "  max_size = (max_size + (stride - 1)) // stride * stride\n",
      " 60%|██████    | 30/50 [07:48<05:14, 15.72s/it]/home/proto/miniconda3/envs/vision-stretcher/lib/python3.9/site-packages/detectron2/structures/image_list.py:88: UserWarning: __floordiv__ is deprecated, and its behavior will change in a future version of pytorch. It currently rounds toward 0 (like the 'trunc' function NOT 'floor'). This results in incorrect rounding for negative values. To keep the current behavior, use torch.div(a, b, rounding_mode='trunc'), or for actual floor division, use torch.div(a, b, rounding_mode='floor').\n",
      "  max_size = (max_size + (stride - 1)) // stride * stride\n",
      " 64%|██████▍   | 32/50 [08:19<04:42, 15.70s/it]/home/proto/miniconda3/envs/vision-stretcher/lib/python3.9/site-packages/detectron2/structures/image_list.py:88: UserWarning: __floordiv__ is deprecated, and its behavior will change in a future version of pytorch. It currently rounds toward 0 (like the 'trunc' function NOT 'floor'). This results in incorrect rounding for negative values. To keep the current behavior, use torch.div(a, b, rounding_mode='trunc'), or for actual floor division, use torch.div(a, b, rounding_mode='floor').\n",
      "  max_size = (max_size + (stride - 1)) // stride * stride\n",
      " 66%|██████▌   | 33/50 [08:35<04:27, 15.72s/it]/home/proto/miniconda3/envs/vision-stretcher/lib/python3.9/site-packages/detectron2/structures/image_list.py:88: UserWarning: __floordiv__ is deprecated, and its behavior will change in a future version of pytorch. It currently rounds toward 0 (like the 'trunc' function NOT 'floor'). This results in incorrect rounding for negative values. To keep the current behavior, use torch.div(a, b, rounding_mode='trunc'), or for actual floor division, use torch.div(a, b, rounding_mode='floor').\n",
      "  max_size = (max_size + (stride - 1)) // stride * stride\n",
      " 68%|██████▊   | 34/50 [08:51<04:10, 15.67s/it]/home/proto/miniconda3/envs/vision-stretcher/lib/python3.9/site-packages/detectron2/structures/image_list.py:88: UserWarning: __floordiv__ is deprecated, and its behavior will change in a future version of pytorch. It currently rounds toward 0 (like the 'trunc' function NOT 'floor'). This results in incorrect rounding for negative values. To keep the current behavior, use torch.div(a, b, rounding_mode='trunc'), or for actual floor division, use torch.div(a, b, rounding_mode='floor').\n",
      "  max_size = (max_size + (stride - 1)) // stride * stride\n",
      " 70%|███████   | 35/50 [09:06<03:55, 15.73s/it]/home/proto/miniconda3/envs/vision-stretcher/lib/python3.9/site-packages/detectron2/structures/image_list.py:88: UserWarning: __floordiv__ is deprecated, and its behavior will change in a future version of pytorch. It currently rounds toward 0 (like the 'trunc' function NOT 'floor'). This results in incorrect rounding for negative values. To keep the current behavior, use torch.div(a, b, rounding_mode='trunc'), or for actual floor division, use torch.div(a, b, rounding_mode='floor').\n",
      "  max_size = (max_size + (stride - 1)) // stride * stride\n",
      " 72%|███████▏  | 36/50 [09:22<03:40, 15.73s/it]/home/proto/miniconda3/envs/vision-stretcher/lib/python3.9/site-packages/detectron2/structures/image_list.py:88: UserWarning: __floordiv__ is deprecated, and its behavior will change in a future version of pytorch. It currently rounds toward 0 (like the 'trunc' function NOT 'floor'). This results in incorrect rounding for negative values. To keep the current behavior, use torch.div(a, b, rounding_mode='trunc'), or for actual floor division, use torch.div(a, b, rounding_mode='floor').\n",
      "  max_size = (max_size + (stride - 1)) // stride * stride\n",
      " 74%|███████▍  | 37/50 [09:38<03:23, 15.67s/it]/home/proto/miniconda3/envs/vision-stretcher/lib/python3.9/site-packages/detectron2/structures/image_list.py:88: UserWarning: __floordiv__ is deprecated, and its behavior will change in a future version of pytorch. It currently rounds toward 0 (like the 'trunc' function NOT 'floor'). This results in incorrect rounding for negative values. To keep the current behavior, use torch.div(a, b, rounding_mode='trunc'), or for actual floor division, use torch.div(a, b, rounding_mode='floor').\n",
      "  max_size = (max_size + (stride - 1)) // stride * stride\n",
      " 76%|███████▌  | 38/50 [09:53<03:08, 15.68s/it]/home/proto/miniconda3/envs/vision-stretcher/lib/python3.9/site-packages/detectron2/structures/image_list.py:88: UserWarning: __floordiv__ is deprecated, and its behavior will change in a future version of pytorch. It currently rounds toward 0 (like the 'trunc' function NOT 'floor'). This results in incorrect rounding for negative values. To keep the current behavior, use torch.div(a, b, rounding_mode='trunc'), or for actual floor division, use torch.div(a, b, rounding_mode='floor').\n",
      "  max_size = (max_size + (stride - 1)) // stride * stride\n",
      " 78%|███████▊  | 39/50 [10:09<02:53, 15.77s/it]/home/proto/miniconda3/envs/vision-stretcher/lib/python3.9/site-packages/detectron2/structures/image_list.py:88: UserWarning: __floordiv__ is deprecated, and its behavior will change in a future version of pytorch. It currently rounds toward 0 (like the 'trunc' function NOT 'floor'). This results in incorrect rounding for negative values. To keep the current behavior, use torch.div(a, b, rounding_mode='trunc'), or for actual floor division, use torch.div(a, b, rounding_mode='floor').\n",
      "  max_size = (max_size + (stride - 1)) // stride * stride\n",
      " 82%|████████▏ | 41/50 [10:41<02:20, 15.66s/it]/home/proto/miniconda3/envs/vision-stretcher/lib/python3.9/site-packages/detectron2/structures/image_list.py:88: UserWarning: __floordiv__ is deprecated, and its behavior will change in a future version of pytorch. It currently rounds toward 0 (like the 'trunc' function NOT 'floor'). This results in incorrect rounding for negative values. To keep the current behavior, use torch.div(a, b, rounding_mode='trunc'), or for actual floor division, use torch.div(a, b, rounding_mode='floor').\n",
      "  max_size = (max_size + (stride - 1)) // stride * stride\n",
      " 84%|████████▍ | 42/50 [10:56<02:04, 15.61s/it]/home/proto/miniconda3/envs/vision-stretcher/lib/python3.9/site-packages/detectron2/structures/image_list.py:88: UserWarning: __floordiv__ is deprecated, and its behavior will change in a future version of pytorch. It currently rounds toward 0 (like the 'trunc' function NOT 'floor'). This results in incorrect rounding for negative values. To keep the current behavior, use torch.div(a, b, rounding_mode='trunc'), or for actual floor division, use torch.div(a, b, rounding_mode='floor').\n",
      "  max_size = (max_size + (stride - 1)) // stride * stride\n",
      " 88%|████████▊ | 44/50 [11:31<01:39, 16.64s/it]/home/proto/miniconda3/envs/vision-stretcher/lib/python3.9/site-packages/detectron2/structures/image_list.py:88: UserWarning: __floordiv__ is deprecated, and its behavior will change in a future version of pytorch. It currently rounds toward 0 (like the 'trunc' function NOT 'floor'). This results in incorrect rounding for negative values. To keep the current behavior, use torch.div(a, b, rounding_mode='trunc'), or for actual floor division, use torch.div(a, b, rounding_mode='floor').\n",
      "  max_size = (max_size + (stride - 1)) // stride * stride\n",
      " 92%|█████████▏| 46/50 [12:04<01:06, 16.54s/it]/home/proto/miniconda3/envs/vision-stretcher/lib/python3.9/site-packages/detectron2/structures/image_list.py:88: UserWarning: __floordiv__ is deprecated, and its behavior will change in a future version of pytorch. It currently rounds toward 0 (like the 'trunc' function NOT 'floor'). This results in incorrect rounding for negative values. To keep the current behavior, use torch.div(a, b, rounding_mode='trunc'), or for actual floor division, use torch.div(a, b, rounding_mode='floor').\n",
      "  max_size = (max_size + (stride - 1)) // stride * stride\n",
      " 94%|█████████▍| 47/50 [12:19<00:48, 16.32s/it]/home/proto/miniconda3/envs/vision-stretcher/lib/python3.9/site-packages/detectron2/structures/image_list.py:88: UserWarning: __floordiv__ is deprecated, and its behavior will change in a future version of pytorch. It currently rounds toward 0 (like the 'trunc' function NOT 'floor'). This results in incorrect rounding for negative values. To keep the current behavior, use torch.div(a, b, rounding_mode='trunc'), or for actual floor division, use torch.div(a, b, rounding_mode='floor').\n",
      "  max_size = (max_size + (stride - 1)) // stride * stride\n",
      " 96%|█████████▌| 48/50 [12:35<00:32, 16.11s/it]/home/proto/miniconda3/envs/vision-stretcher/lib/python3.9/site-packages/detectron2/structures/image_list.py:88: UserWarning: __floordiv__ is deprecated, and its behavior will change in a future version of pytorch. It currently rounds toward 0 (like the 'trunc' function NOT 'floor'). This results in incorrect rounding for negative values. To keep the current behavior, use torch.div(a, b, rounding_mode='trunc'), or for actual floor division, use torch.div(a, b, rounding_mode='floor').\n",
      "  max_size = (max_size + (stride - 1)) // stride * stride\n",
      " 98%|█████████▊| 49/50 [12:51<00:15, 15.98s/it]/home/proto/miniconda3/envs/vision-stretcher/lib/python3.9/site-packages/detectron2/structures/image_list.py:88: UserWarning: __floordiv__ is deprecated, and its behavior will change in a future version of pytorch. It currently rounds toward 0 (like the 'trunc' function NOT 'floor'). This results in incorrect rounding for negative values. To keep the current behavior, use torch.div(a, b, rounding_mode='trunc'), or for actual floor division, use torch.div(a, b, rounding_mode='floor').\n",
      "  max_size = (max_size + (stride - 1)) // stride * stride\n",
      "100%|██████████| 50/50 [13:06<00:00, 15.74s/it]\n"
     ]
    }
   ],
   "source": [
    "stats[.75] = measure_recomposition(images, [256, 192], predictor, coi)"
   ]
  },
  {
   "cell_type": "code",
   "execution_count": 12,
   "metadata": {},
   "outputs": [
    {
     "name": "stderr",
     "output_type": "stream",
     "text": [
      "  0%|          | 0/50 [00:00<?, ?it/s]/home/proto/miniconda3/envs/vision-stretcher/lib/python3.9/site-packages/detectron2/structures/image_list.py:88: UserWarning: __floordiv__ is deprecated, and its behavior will change in a future version of pytorch. It currently rounds toward 0 (like the 'trunc' function NOT 'floor'). This results in incorrect rounding for negative values. To keep the current behavior, use torch.div(a, b, rounding_mode='trunc'), or for actual floor division, use torch.div(a, b, rounding_mode='floor').\n",
      "  max_size = (max_size + (stride - 1)) // stride * stride\n",
      "  2%|▏         | 1/50 [00:08<07:11,  8.82s/it]/home/proto/miniconda3/envs/vision-stretcher/lib/python3.9/site-packages/detectron2/structures/image_list.py:88: UserWarning: __floordiv__ is deprecated, and its behavior will change in a future version of pytorch. It currently rounds toward 0 (like the 'trunc' function NOT 'floor'). This results in incorrect rounding for negative values. To keep the current behavior, use torch.div(a, b, rounding_mode='trunc'), or for actual floor division, use torch.div(a, b, rounding_mode='floor').\n",
      "  max_size = (max_size + (stride - 1)) // stride * stride\n",
      "  4%|▍         | 2/50 [00:17<06:52,  8.59s/it]/home/proto/miniconda3/envs/vision-stretcher/lib/python3.9/site-packages/detectron2/structures/image_list.py:88: UserWarning: __floordiv__ is deprecated, and its behavior will change in a future version of pytorch. It currently rounds toward 0 (like the 'trunc' function NOT 'floor'). This results in incorrect rounding for negative values. To keep the current behavior, use torch.div(a, b, rounding_mode='trunc'), or for actual floor division, use torch.div(a, b, rounding_mode='floor').\n",
      "  max_size = (max_size + (stride - 1)) // stride * stride\n",
      "  8%|▊         | 4/50 [00:34<06:29,  8.47s/it]/home/proto/miniconda3/envs/vision-stretcher/lib/python3.9/site-packages/detectron2/structures/image_list.py:88: UserWarning: __floordiv__ is deprecated, and its behavior will change in a future version of pytorch. It currently rounds toward 0 (like the 'trunc' function NOT 'floor'). This results in incorrect rounding for negative values. To keep the current behavior, use torch.div(a, b, rounding_mode='trunc'), or for actual floor division, use torch.div(a, b, rounding_mode='floor').\n",
      "  max_size = (max_size + (stride - 1)) // stride * stride\n",
      " 12%|█▏        | 6/50 [00:50<06:12,  8.46s/it]/home/proto/miniconda3/envs/vision-stretcher/lib/python3.9/site-packages/detectron2/structures/image_list.py:88: UserWarning: __floordiv__ is deprecated, and its behavior will change in a future version of pytorch. It currently rounds toward 0 (like the 'trunc' function NOT 'floor'). This results in incorrect rounding for negative values. To keep the current behavior, use torch.div(a, b, rounding_mode='trunc'), or for actual floor division, use torch.div(a, b, rounding_mode='floor').\n",
      "  max_size = (max_size + (stride - 1)) // stride * stride\n",
      " 16%|█▌        | 8/50 [01:07<05:54,  8.44s/it]/home/proto/miniconda3/envs/vision-stretcher/lib/python3.9/site-packages/detectron2/structures/image_list.py:88: UserWarning: __floordiv__ is deprecated, and its behavior will change in a future version of pytorch. It currently rounds toward 0 (like the 'trunc' function NOT 'floor'). This results in incorrect rounding for negative values. To keep the current behavior, use torch.div(a, b, rounding_mode='trunc'), or for actual floor division, use torch.div(a, b, rounding_mode='floor').\n",
      "  max_size = (max_size + (stride - 1)) // stride * stride\n",
      " 22%|██▏       | 11/50 [01:33<05:30,  8.48s/it]/home/proto/miniconda3/envs/vision-stretcher/lib/python3.9/site-packages/detectron2/structures/image_list.py:88: UserWarning: __floordiv__ is deprecated, and its behavior will change in a future version of pytorch. It currently rounds toward 0 (like the 'trunc' function NOT 'floor'). This results in incorrect rounding for negative values. To keep the current behavior, use torch.div(a, b, rounding_mode='trunc'), or for actual floor division, use torch.div(a, b, rounding_mode='floor').\n",
      "  max_size = (max_size + (stride - 1)) // stride * stride\n",
      " 24%|██▍       | 12/50 [01:41<05:23,  8.51s/it]/home/proto/miniconda3/envs/vision-stretcher/lib/python3.9/site-packages/detectron2/structures/image_list.py:88: UserWarning: __floordiv__ is deprecated, and its behavior will change in a future version of pytorch. It currently rounds toward 0 (like the 'trunc' function NOT 'floor'). This results in incorrect rounding for negative values. To keep the current behavior, use torch.div(a, b, rounding_mode='trunc'), or for actual floor division, use torch.div(a, b, rounding_mode='floor').\n",
      "  max_size = (max_size + (stride - 1)) // stride * stride\n",
      " 26%|██▌       | 13/50 [01:50<05:14,  8.51s/it]/home/proto/miniconda3/envs/vision-stretcher/lib/python3.9/site-packages/detectron2/structures/image_list.py:88: UserWarning: __floordiv__ is deprecated, and its behavior will change in a future version of pytorch. It currently rounds toward 0 (like the 'trunc' function NOT 'floor'). This results in incorrect rounding for negative values. To keep the current behavior, use torch.div(a, b, rounding_mode='trunc'), or for actual floor division, use torch.div(a, b, rounding_mode='floor').\n",
      "  max_size = (max_size + (stride - 1)) // stride * stride\n",
      " 28%|██▊       | 14/50 [01:59<05:09,  8.59s/it]/home/proto/miniconda3/envs/vision-stretcher/lib/python3.9/site-packages/detectron2/structures/image_list.py:88: UserWarning: __floordiv__ is deprecated, and its behavior will change in a future version of pytorch. It currently rounds toward 0 (like the 'trunc' function NOT 'floor'). This results in incorrect rounding for negative values. To keep the current behavior, use torch.div(a, b, rounding_mode='trunc'), or for actual floor division, use torch.div(a, b, rounding_mode='floor').\n",
      "  max_size = (max_size + (stride - 1)) // stride * stride\n",
      " 30%|███       | 15/50 [02:07<04:59,  8.55s/it]/home/proto/miniconda3/envs/vision-stretcher/lib/python3.9/site-packages/detectron2/structures/image_list.py:88: UserWarning: __floordiv__ is deprecated, and its behavior will change in a future version of pytorch. It currently rounds toward 0 (like the 'trunc' function NOT 'floor'). This results in incorrect rounding for negative values. To keep the current behavior, use torch.div(a, b, rounding_mode='trunc'), or for actual floor division, use torch.div(a, b, rounding_mode='floor').\n",
      "  max_size = (max_size + (stride - 1)) // stride * stride\n",
      " 34%|███▍      | 17/50 [02:24<04:43,  8.58s/it]/home/proto/miniconda3/envs/vision-stretcher/lib/python3.9/site-packages/detectron2/structures/image_list.py:88: UserWarning: __floordiv__ is deprecated, and its behavior will change in a future version of pytorch. It currently rounds toward 0 (like the 'trunc' function NOT 'floor'). This results in incorrect rounding for negative values. To keep the current behavior, use torch.div(a, b, rounding_mode='trunc'), or for actual floor division, use torch.div(a, b, rounding_mode='floor').\n",
      "  max_size = (max_size + (stride - 1)) // stride * stride\n",
      " 36%|███▌      | 18/50 [02:33<04:33,  8.54s/it]/home/proto/miniconda3/envs/vision-stretcher/lib/python3.9/site-packages/detectron2/structures/image_list.py:88: UserWarning: __floordiv__ is deprecated, and its behavior will change in a future version of pytorch. It currently rounds toward 0 (like the 'trunc' function NOT 'floor'). This results in incorrect rounding for negative values. To keep the current behavior, use torch.div(a, b, rounding_mode='trunc'), or for actual floor division, use torch.div(a, b, rounding_mode='floor').\n",
      "  max_size = (max_size + (stride - 1)) // stride * stride\n",
      " 42%|████▏     | 21/50 [02:58<04:05,  8.48s/it]/home/proto/miniconda3/envs/vision-stretcher/lib/python3.9/site-packages/detectron2/structures/image_list.py:88: UserWarning: __floordiv__ is deprecated, and its behavior will change in a future version of pytorch. It currently rounds toward 0 (like the 'trunc' function NOT 'floor'). This results in incorrect rounding for negative values. To keep the current behavior, use torch.div(a, b, rounding_mode='trunc'), or for actual floor division, use torch.div(a, b, rounding_mode='floor').\n",
      "  max_size = (max_size + (stride - 1)) // stride * stride\n",
      " 52%|█████▏    | 26/50 [03:41<03:23,  8.49s/it]/home/proto/miniconda3/envs/vision-stretcher/lib/python3.9/site-packages/detectron2/structures/image_list.py:88: UserWarning: __floordiv__ is deprecated, and its behavior will change in a future version of pytorch. It currently rounds toward 0 (like the 'trunc' function NOT 'floor'). This results in incorrect rounding for negative values. To keep the current behavior, use torch.div(a, b, rounding_mode='trunc'), or for actual floor division, use torch.div(a, b, rounding_mode='floor').\n",
      "  max_size = (max_size + (stride - 1)) // stride * stride\n",
      " 54%|█████▍    | 27/50 [03:49<03:15,  8.48s/it]/home/proto/miniconda3/envs/vision-stretcher/lib/python3.9/site-packages/detectron2/structures/image_list.py:88: UserWarning: __floordiv__ is deprecated, and its behavior will change in a future version of pytorch. It currently rounds toward 0 (like the 'trunc' function NOT 'floor'). This results in incorrect rounding for negative values. To keep the current behavior, use torch.div(a, b, rounding_mode='trunc'), or for actual floor division, use torch.div(a, b, rounding_mode='floor').\n",
      "  max_size = (max_size + (stride - 1)) // stride * stride\n",
      " 56%|█████▌    | 28/50 [03:58<03:06,  8.48s/it]/home/proto/miniconda3/envs/vision-stretcher/lib/python3.9/site-packages/detectron2/structures/image_list.py:88: UserWarning: __floordiv__ is deprecated, and its behavior will change in a future version of pytorch. It currently rounds toward 0 (like the 'trunc' function NOT 'floor'). This results in incorrect rounding for negative values. To keep the current behavior, use torch.div(a, b, rounding_mode='trunc'), or for actual floor division, use torch.div(a, b, rounding_mode='floor').\n",
      "  max_size = (max_size + (stride - 1)) // stride * stride\n",
      " 58%|█████▊    | 29/50 [04:06<02:57,  8.47s/it]/home/proto/miniconda3/envs/vision-stretcher/lib/python3.9/site-packages/detectron2/structures/image_list.py:88: UserWarning: __floordiv__ is deprecated, and its behavior will change in a future version of pytorch. It currently rounds toward 0 (like the 'trunc' function NOT 'floor'). This results in incorrect rounding for negative values. To keep the current behavior, use torch.div(a, b, rounding_mode='trunc'), or for actual floor division, use torch.div(a, b, rounding_mode='floor').\n",
      "  max_size = (max_size + (stride - 1)) // stride * stride\n",
      " 60%|██████    | 30/50 [04:15<02:49,  8.48s/it]/home/proto/miniconda3/envs/vision-stretcher/lib/python3.9/site-packages/detectron2/structures/image_list.py:88: UserWarning: __floordiv__ is deprecated, and its behavior will change in a future version of pytorch. It currently rounds toward 0 (like the 'trunc' function NOT 'floor'). This results in incorrect rounding for negative values. To keep the current behavior, use torch.div(a, b, rounding_mode='trunc'), or for actual floor division, use torch.div(a, b, rounding_mode='floor').\n",
      "  max_size = (max_size + (stride - 1)) // stride * stride\n",
      " 64%|██████▍   | 32/50 [04:31<02:32,  8.46s/it]/home/proto/miniconda3/envs/vision-stretcher/lib/python3.9/site-packages/detectron2/structures/image_list.py:88: UserWarning: __floordiv__ is deprecated, and its behavior will change in a future version of pytorch. It currently rounds toward 0 (like the 'trunc' function NOT 'floor'). This results in incorrect rounding for negative values. To keep the current behavior, use torch.div(a, b, rounding_mode='trunc'), or for actual floor division, use torch.div(a, b, rounding_mode='floor').\n",
      "  max_size = (max_size + (stride - 1)) // stride * stride\n",
      " 66%|██████▌   | 33/50 [04:40<02:24,  8.53s/it]/home/proto/miniconda3/envs/vision-stretcher/lib/python3.9/site-packages/detectron2/structures/image_list.py:88: UserWarning: __floordiv__ is deprecated, and its behavior will change in a future version of pytorch. It currently rounds toward 0 (like the 'trunc' function NOT 'floor'). This results in incorrect rounding for negative values. To keep the current behavior, use torch.div(a, b, rounding_mode='trunc'), or for actual floor division, use torch.div(a, b, rounding_mode='floor').\n",
      "  max_size = (max_size + (stride - 1)) // stride * stride\n",
      " 68%|██████▊   | 34/50 [04:49<02:16,  8.52s/it]/home/proto/miniconda3/envs/vision-stretcher/lib/python3.9/site-packages/detectron2/structures/image_list.py:88: UserWarning: __floordiv__ is deprecated, and its behavior will change in a future version of pytorch. It currently rounds toward 0 (like the 'trunc' function NOT 'floor'). This results in incorrect rounding for negative values. To keep the current behavior, use torch.div(a, b, rounding_mode='trunc'), or for actual floor division, use torch.div(a, b, rounding_mode='floor').\n",
      "  max_size = (max_size + (stride - 1)) // stride * stride\n",
      " 70%|███████   | 35/50 [04:57<02:07,  8.51s/it]/home/proto/miniconda3/envs/vision-stretcher/lib/python3.9/site-packages/detectron2/structures/image_list.py:88: UserWarning: __floordiv__ is deprecated, and its behavior will change in a future version of pytorch. It currently rounds toward 0 (like the 'trunc' function NOT 'floor'). This results in incorrect rounding for negative values. To keep the current behavior, use torch.div(a, b, rounding_mode='trunc'), or for actual floor division, use torch.div(a, b, rounding_mode='floor').\n",
      "  max_size = (max_size + (stride - 1)) // stride * stride\n",
      " 72%|███████▏  | 36/50 [05:06<01:59,  8.53s/it]/home/proto/miniconda3/envs/vision-stretcher/lib/python3.9/site-packages/detectron2/structures/image_list.py:88: UserWarning: __floordiv__ is deprecated, and its behavior will change in a future version of pytorch. It currently rounds toward 0 (like the 'trunc' function NOT 'floor'). This results in incorrect rounding for negative values. To keep the current behavior, use torch.div(a, b, rounding_mode='trunc'), or for actual floor division, use torch.div(a, b, rounding_mode='floor').\n",
      "  max_size = (max_size + (stride - 1)) // stride * stride\n",
      " 74%|███████▍  | 37/50 [05:14<01:51,  8.58s/it]/home/proto/miniconda3/envs/vision-stretcher/lib/python3.9/site-packages/detectron2/structures/image_list.py:88: UserWarning: __floordiv__ is deprecated, and its behavior will change in a future version of pytorch. It currently rounds toward 0 (like the 'trunc' function NOT 'floor'). This results in incorrect rounding for negative values. To keep the current behavior, use torch.div(a, b, rounding_mode='trunc'), or for actual floor division, use torch.div(a, b, rounding_mode='floor').\n",
      "  max_size = (max_size + (stride - 1)) // stride * stride\n",
      " 76%|███████▌  | 38/50 [05:23<01:42,  8.56s/it]/home/proto/miniconda3/envs/vision-stretcher/lib/python3.9/site-packages/detectron2/structures/image_list.py:88: UserWarning: __floordiv__ is deprecated, and its behavior will change in a future version of pytorch. It currently rounds toward 0 (like the 'trunc' function NOT 'floor'). This results in incorrect rounding for negative values. To keep the current behavior, use torch.div(a, b, rounding_mode='trunc'), or for actual floor division, use torch.div(a, b, rounding_mode='floor').\n",
      "  max_size = (max_size + (stride - 1)) // stride * stride\n",
      " 78%|███████▊  | 39/50 [05:31<01:33,  8.54s/it]/home/proto/miniconda3/envs/vision-stretcher/lib/python3.9/site-packages/detectron2/structures/image_list.py:88: UserWarning: __floordiv__ is deprecated, and its behavior will change in a future version of pytorch. It currently rounds toward 0 (like the 'trunc' function NOT 'floor'). This results in incorrect rounding for negative values. To keep the current behavior, use torch.div(a, b, rounding_mode='trunc'), or for actual floor division, use torch.div(a, b, rounding_mode='floor').\n",
      "  max_size = (max_size + (stride - 1)) // stride * stride\n",
      " 82%|████████▏ | 41/50 [05:48<01:16,  8.54s/it]/home/proto/miniconda3/envs/vision-stretcher/lib/python3.9/site-packages/detectron2/structures/image_list.py:88: UserWarning: __floordiv__ is deprecated, and its behavior will change in a future version of pytorch. It currently rounds toward 0 (like the 'trunc' function NOT 'floor'). This results in incorrect rounding for negative values. To keep the current behavior, use torch.div(a, b, rounding_mode='trunc'), or for actual floor division, use torch.div(a, b, rounding_mode='floor').\n",
      "  max_size = (max_size + (stride - 1)) // stride * stride\n",
      " 84%|████████▍ | 42/50 [05:57<01:08,  8.53s/it]/home/proto/miniconda3/envs/vision-stretcher/lib/python3.9/site-packages/detectron2/structures/image_list.py:88: UserWarning: __floordiv__ is deprecated, and its behavior will change in a future version of pytorch. It currently rounds toward 0 (like the 'trunc' function NOT 'floor'). This results in incorrect rounding for negative values. To keep the current behavior, use torch.div(a, b, rounding_mode='trunc'), or for actual floor division, use torch.div(a, b, rounding_mode='floor').\n",
      "  max_size = (max_size + (stride - 1)) // stride * stride\n",
      " 88%|████████▊ | 44/50 [06:14<00:51,  8.54s/it]/home/proto/miniconda3/envs/vision-stretcher/lib/python3.9/site-packages/detectron2/structures/image_list.py:88: UserWarning: __floordiv__ is deprecated, and its behavior will change in a future version of pytorch. It currently rounds toward 0 (like the 'trunc' function NOT 'floor'). This results in incorrect rounding for negative values. To keep the current behavior, use torch.div(a, b, rounding_mode='trunc'), or for actual floor division, use torch.div(a, b, rounding_mode='floor').\n",
      "  max_size = (max_size + (stride - 1)) // stride * stride\n",
      " 92%|█████████▏| 46/50 [06:31<00:34,  8.53s/it]/home/proto/miniconda3/envs/vision-stretcher/lib/python3.9/site-packages/detectron2/structures/image_list.py:88: UserWarning: __floordiv__ is deprecated, and its behavior will change in a future version of pytorch. It currently rounds toward 0 (like the 'trunc' function NOT 'floor'). This results in incorrect rounding for negative values. To keep the current behavior, use torch.div(a, b, rounding_mode='trunc'), or for actual floor division, use torch.div(a, b, rounding_mode='floor').\n",
      "  max_size = (max_size + (stride - 1)) // stride * stride\n",
      " 94%|█████████▍| 47/50 [06:40<00:25,  8.52s/it]/home/proto/miniconda3/envs/vision-stretcher/lib/python3.9/site-packages/detectron2/structures/image_list.py:88: UserWarning: __floordiv__ is deprecated, and its behavior will change in a future version of pytorch. It currently rounds toward 0 (like the 'trunc' function NOT 'floor'). This results in incorrect rounding for negative values. To keep the current behavior, use torch.div(a, b, rounding_mode='trunc'), or for actual floor division, use torch.div(a, b, rounding_mode='floor').\n",
      "  max_size = (max_size + (stride - 1)) // stride * stride\n",
      " 96%|█████████▌| 48/50 [06:48<00:17,  8.62s/it]/home/proto/miniconda3/envs/vision-stretcher/lib/python3.9/site-packages/detectron2/structures/image_list.py:88: UserWarning: __floordiv__ is deprecated, and its behavior will change in a future version of pytorch. It currently rounds toward 0 (like the 'trunc' function NOT 'floor'). This results in incorrect rounding for negative values. To keep the current behavior, use torch.div(a, b, rounding_mode='trunc'), or for actual floor division, use torch.div(a, b, rounding_mode='floor').\n",
      "  max_size = (max_size + (stride - 1)) // stride * stride\n",
      " 98%|█████████▊| 49/50 [06:57<00:08,  8.68s/it]/home/proto/miniconda3/envs/vision-stretcher/lib/python3.9/site-packages/detectron2/structures/image_list.py:88: UserWarning: __floordiv__ is deprecated, and its behavior will change in a future version of pytorch. It currently rounds toward 0 (like the 'trunc' function NOT 'floor'). This results in incorrect rounding for negative values. To keep the current behavior, use torch.div(a, b, rounding_mode='trunc'), or for actual floor division, use torch.div(a, b, rounding_mode='floor').\n",
      "  max_size = (max_size + (stride - 1)) // stride * stride\n",
      "100%|██████████| 50/50 [07:06<00:00,  8.53s/it]\n"
     ]
    }
   ],
   "source": [
    "stats[.875] = measure_recomposition(images, [256, 224], predictor, coi)"
   ]
  },
  {
   "cell_type": "code",
   "execution_count": 13,
   "metadata": {},
   "outputs": [
    {
     "name": "stderr",
     "output_type": "stream",
     "text": [
      "  0%|          | 0/50 [00:00<?, ?it/s]/home/proto/miniconda3/envs/vision-stretcher/lib/python3.9/site-packages/detectron2/structures/image_list.py:88: UserWarning: __floordiv__ is deprecated, and its behavior will change in a future version of pytorch. It currently rounds toward 0 (like the 'trunc' function NOT 'floor'). This results in incorrect rounding for negative values. To keep the current behavior, use torch.div(a, b, rounding_mode='trunc'), or for actual floor division, use torch.div(a, b, rounding_mode='floor').\n",
      "  max_size = (max_size + (stride - 1)) // stride * stride\n",
      "  2%|▏         | 1/50 [00:09<08:05,  9.90s/it]/home/proto/miniconda3/envs/vision-stretcher/lib/python3.9/site-packages/detectron2/structures/image_list.py:88: UserWarning: __floordiv__ is deprecated, and its behavior will change in a future version of pytorch. It currently rounds toward 0 (like the 'trunc' function NOT 'floor'). This results in incorrect rounding for negative values. To keep the current behavior, use torch.div(a, b, rounding_mode='trunc'), or for actual floor division, use torch.div(a, b, rounding_mode='floor').\n",
      "  max_size = (max_size + (stride - 1)) // stride * stride\n",
      "  4%|▍         | 2/50 [00:18<07:13,  9.04s/it]/home/proto/miniconda3/envs/vision-stretcher/lib/python3.9/site-packages/detectron2/structures/image_list.py:88: UserWarning: __floordiv__ is deprecated, and its behavior will change in a future version of pytorch. It currently rounds toward 0 (like the 'trunc' function NOT 'floor'). This results in incorrect rounding for negative values. To keep the current behavior, use torch.div(a, b, rounding_mode='trunc'), or for actual floor division, use torch.div(a, b, rounding_mode='floor').\n",
      "  max_size = (max_size + (stride - 1)) // stride * stride\n",
      "  8%|▊         | 4/50 [00:35<06:38,  8.66s/it]/home/proto/miniconda3/envs/vision-stretcher/lib/python3.9/site-packages/detectron2/structures/image_list.py:88: UserWarning: __floordiv__ is deprecated, and its behavior will change in a future version of pytorch. It currently rounds toward 0 (like the 'trunc' function NOT 'floor'). This results in incorrect rounding for negative values. To keep the current behavior, use torch.div(a, b, rounding_mode='trunc'), or for actual floor division, use torch.div(a, b, rounding_mode='floor').\n",
      "  max_size = (max_size + (stride - 1)) // stride * stride\n",
      " 12%|█▏        | 6/50 [00:52<06:18,  8.61s/it]/home/proto/miniconda3/envs/vision-stretcher/lib/python3.9/site-packages/detectron2/structures/image_list.py:88: UserWarning: __floordiv__ is deprecated, and its behavior will change in a future version of pytorch. It currently rounds toward 0 (like the 'trunc' function NOT 'floor'). This results in incorrect rounding for negative values. To keep the current behavior, use torch.div(a, b, rounding_mode='trunc'), or for actual floor division, use torch.div(a, b, rounding_mode='floor').\n",
      "  max_size = (max_size + (stride - 1)) // stride * stride\n",
      " 16%|█▌        | 8/50 [01:09<06:00,  8.58s/it]/home/proto/miniconda3/envs/vision-stretcher/lib/python3.9/site-packages/detectron2/structures/image_list.py:88: UserWarning: __floordiv__ is deprecated, and its behavior will change in a future version of pytorch. It currently rounds toward 0 (like the 'trunc' function NOT 'floor'). This results in incorrect rounding for negative values. To keep the current behavior, use torch.div(a, b, rounding_mode='trunc'), or for actual floor division, use torch.div(a, b, rounding_mode='floor').\n",
      "  max_size = (max_size + (stride - 1)) // stride * stride\n",
      " 22%|██▏       | 11/50 [01:34<05:32,  8.53s/it]/home/proto/miniconda3/envs/vision-stretcher/lib/python3.9/site-packages/detectron2/structures/image_list.py:88: UserWarning: __floordiv__ is deprecated, and its behavior will change in a future version of pytorch. It currently rounds toward 0 (like the 'trunc' function NOT 'floor'). This results in incorrect rounding for negative values. To keep the current behavior, use torch.div(a, b, rounding_mode='trunc'), or for actual floor division, use torch.div(a, b, rounding_mode='floor').\n",
      "  max_size = (max_size + (stride - 1)) // stride * stride\n",
      " 24%|██▍       | 12/50 [01:43<05:23,  8.52s/it]/home/proto/miniconda3/envs/vision-stretcher/lib/python3.9/site-packages/detectron2/structures/image_list.py:88: UserWarning: __floordiv__ is deprecated, and its behavior will change in a future version of pytorch. It currently rounds toward 0 (like the 'trunc' function NOT 'floor'). This results in incorrect rounding for negative values. To keep the current behavior, use torch.div(a, b, rounding_mode='trunc'), or for actual floor division, use torch.div(a, b, rounding_mode='floor').\n",
      "  max_size = (max_size + (stride - 1)) // stride * stride\n",
      " 26%|██▌       | 13/50 [01:52<05:16,  8.54s/it]/home/proto/miniconda3/envs/vision-stretcher/lib/python3.9/site-packages/detectron2/structures/image_list.py:88: UserWarning: __floordiv__ is deprecated, and its behavior will change in a future version of pytorch. It currently rounds toward 0 (like the 'trunc' function NOT 'floor'). This results in incorrect rounding for negative values. To keep the current behavior, use torch.div(a, b, rounding_mode='trunc'), or for actual floor division, use torch.div(a, b, rounding_mode='floor').\n",
      "  max_size = (max_size + (stride - 1)) // stride * stride\n",
      " 28%|██▊       | 14/50 [02:00<05:09,  8.60s/it]/home/proto/miniconda3/envs/vision-stretcher/lib/python3.9/site-packages/detectron2/structures/image_list.py:88: UserWarning: __floordiv__ is deprecated, and its behavior will change in a future version of pytorch. It currently rounds toward 0 (like the 'trunc' function NOT 'floor'). This results in incorrect rounding for negative values. To keep the current behavior, use torch.div(a, b, rounding_mode='trunc'), or for actual floor division, use torch.div(a, b, rounding_mode='floor').\n",
      "  max_size = (max_size + (stride - 1)) // stride * stride\n",
      " 30%|███       | 15/50 [02:09<05:01,  8.62s/it]/home/proto/miniconda3/envs/vision-stretcher/lib/python3.9/site-packages/detectron2/structures/image_list.py:88: UserWarning: __floordiv__ is deprecated, and its behavior will change in a future version of pytorch. It currently rounds toward 0 (like the 'trunc' function NOT 'floor'). This results in incorrect rounding for negative values. To keep the current behavior, use torch.div(a, b, rounding_mode='trunc'), or for actual floor division, use torch.div(a, b, rounding_mode='floor').\n",
      "  max_size = (max_size + (stride - 1)) // stride * stride\n",
      " 34%|███▍      | 17/50 [02:26<04:45,  8.65s/it]/home/proto/miniconda3/envs/vision-stretcher/lib/python3.9/site-packages/detectron2/structures/image_list.py:88: UserWarning: __floordiv__ is deprecated, and its behavior will change in a future version of pytorch. It currently rounds toward 0 (like the 'trunc' function NOT 'floor'). This results in incorrect rounding for negative values. To keep the current behavior, use torch.div(a, b, rounding_mode='trunc'), or for actual floor division, use torch.div(a, b, rounding_mode='floor').\n",
      "  max_size = (max_size + (stride - 1)) // stride * stride\n",
      " 36%|███▌      | 18/50 [02:35<04:36,  8.63s/it]/home/proto/miniconda3/envs/vision-stretcher/lib/python3.9/site-packages/detectron2/structures/image_list.py:88: UserWarning: __floordiv__ is deprecated, and its behavior will change in a future version of pytorch. It currently rounds toward 0 (like the 'trunc' function NOT 'floor'). This results in incorrect rounding for negative values. To keep the current behavior, use torch.div(a, b, rounding_mode='trunc'), or for actual floor division, use torch.div(a, b, rounding_mode='floor').\n",
      "  max_size = (max_size + (stride - 1)) // stride * stride\n",
      " 42%|████▏     | 21/50 [03:01<04:08,  8.56s/it]/home/proto/miniconda3/envs/vision-stretcher/lib/python3.9/site-packages/detectron2/structures/image_list.py:88: UserWarning: __floordiv__ is deprecated, and its behavior will change in a future version of pytorch. It currently rounds toward 0 (like the 'trunc' function NOT 'floor'). This results in incorrect rounding for negative values. To keep the current behavior, use torch.div(a, b, rounding_mode='trunc'), or for actual floor division, use torch.div(a, b, rounding_mode='floor').\n",
      "  max_size = (max_size + (stride - 1)) // stride * stride\n",
      " 52%|█████▏    | 26/50 [03:43<03:25,  8.54s/it]/home/proto/miniconda3/envs/vision-stretcher/lib/python3.9/site-packages/detectron2/structures/image_list.py:88: UserWarning: __floordiv__ is deprecated, and its behavior will change in a future version of pytorch. It currently rounds toward 0 (like the 'trunc' function NOT 'floor'). This results in incorrect rounding for negative values. To keep the current behavior, use torch.div(a, b, rounding_mode='trunc'), or for actual floor division, use torch.div(a, b, rounding_mode='floor').\n",
      "  max_size = (max_size + (stride - 1)) // stride * stride\n",
      " 54%|█████▍    | 27/50 [03:52<03:16,  8.54s/it]/home/proto/miniconda3/envs/vision-stretcher/lib/python3.9/site-packages/detectron2/structures/image_list.py:88: UserWarning: __floordiv__ is deprecated, and its behavior will change in a future version of pytorch. It currently rounds toward 0 (like the 'trunc' function NOT 'floor'). This results in incorrect rounding for negative values. To keep the current behavior, use torch.div(a, b, rounding_mode='trunc'), or for actual floor division, use torch.div(a, b, rounding_mode='floor').\n",
      "  max_size = (max_size + (stride - 1)) // stride * stride\n",
      " 56%|█████▌    | 28/50 [04:00<03:07,  8.54s/it]/home/proto/miniconda3/envs/vision-stretcher/lib/python3.9/site-packages/detectron2/structures/image_list.py:88: UserWarning: __floordiv__ is deprecated, and its behavior will change in a future version of pytorch. It currently rounds toward 0 (like the 'trunc' function NOT 'floor'). This results in incorrect rounding for negative values. To keep the current behavior, use torch.div(a, b, rounding_mode='trunc'), or for actual floor division, use torch.div(a, b, rounding_mode='floor').\n",
      "  max_size = (max_size + (stride - 1)) // stride * stride\n",
      " 58%|█████▊    | 29/50 [04:09<02:59,  8.55s/it]/home/proto/miniconda3/envs/vision-stretcher/lib/python3.9/site-packages/detectron2/structures/image_list.py:88: UserWarning: __floordiv__ is deprecated, and its behavior will change in a future version of pytorch. It currently rounds toward 0 (like the 'trunc' function NOT 'floor'). This results in incorrect rounding for negative values. To keep the current behavior, use torch.div(a, b, rounding_mode='trunc'), or for actual floor division, use torch.div(a, b, rounding_mode='floor').\n",
      "  max_size = (max_size + (stride - 1)) // stride * stride\n",
      " 60%|██████    | 30/50 [04:17<02:50,  8.50s/it]/home/proto/miniconda3/envs/vision-stretcher/lib/python3.9/site-packages/detectron2/structures/image_list.py:88: UserWarning: __floordiv__ is deprecated, and its behavior will change in a future version of pytorch. It currently rounds toward 0 (like the 'trunc' function NOT 'floor'). This results in incorrect rounding for negative values. To keep the current behavior, use torch.div(a, b, rounding_mode='trunc'), or for actual floor division, use torch.div(a, b, rounding_mode='floor').\n",
      "  max_size = (max_size + (stride - 1)) // stride * stride\n",
      " 64%|██████▍   | 32/50 [04:34<02:33,  8.52s/it]/home/proto/miniconda3/envs/vision-stretcher/lib/python3.9/site-packages/detectron2/structures/image_list.py:88: UserWarning: __floordiv__ is deprecated, and its behavior will change in a future version of pytorch. It currently rounds toward 0 (like the 'trunc' function NOT 'floor'). This results in incorrect rounding for negative values. To keep the current behavior, use torch.div(a, b, rounding_mode='trunc'), or for actual floor division, use torch.div(a, b, rounding_mode='floor').\n",
      "  max_size = (max_size + (stride - 1)) // stride * stride\n",
      " 66%|██████▌   | 33/50 [04:43<02:25,  8.55s/it]/home/proto/miniconda3/envs/vision-stretcher/lib/python3.9/site-packages/detectron2/structures/image_list.py:88: UserWarning: __floordiv__ is deprecated, and its behavior will change in a future version of pytorch. It currently rounds toward 0 (like the 'trunc' function NOT 'floor'). This results in incorrect rounding for negative values. To keep the current behavior, use torch.div(a, b, rounding_mode='trunc'), or for actual floor division, use torch.div(a, b, rounding_mode='floor').\n",
      "  max_size = (max_size + (stride - 1)) // stride * stride\n",
      " 68%|██████▊   | 34/50 [04:52<02:16,  8.55s/it]/home/proto/miniconda3/envs/vision-stretcher/lib/python3.9/site-packages/detectron2/structures/image_list.py:88: UserWarning: __floordiv__ is deprecated, and its behavior will change in a future version of pytorch. It currently rounds toward 0 (like the 'trunc' function NOT 'floor'). This results in incorrect rounding for negative values. To keep the current behavior, use torch.div(a, b, rounding_mode='trunc'), or for actual floor division, use torch.div(a, b, rounding_mode='floor').\n",
      "  max_size = (max_size + (stride - 1)) // stride * stride\n",
      " 70%|███████   | 35/50 [05:00<02:08,  8.57s/it]/home/proto/miniconda3/envs/vision-stretcher/lib/python3.9/site-packages/detectron2/structures/image_list.py:88: UserWarning: __floordiv__ is deprecated, and its behavior will change in a future version of pytorch. It currently rounds toward 0 (like the 'trunc' function NOT 'floor'). This results in incorrect rounding for negative values. To keep the current behavior, use torch.div(a, b, rounding_mode='trunc'), or for actual floor division, use torch.div(a, b, rounding_mode='floor').\n",
      "  max_size = (max_size + (stride - 1)) // stride * stride\n",
      " 72%|███████▏  | 36/50 [05:09<02:00,  8.60s/it]/home/proto/miniconda3/envs/vision-stretcher/lib/python3.9/site-packages/detectron2/structures/image_list.py:88: UserWarning: __floordiv__ is deprecated, and its behavior will change in a future version of pytorch. It currently rounds toward 0 (like the 'trunc' function NOT 'floor'). This results in incorrect rounding for negative values. To keep the current behavior, use torch.div(a, b, rounding_mode='trunc'), or for actual floor division, use torch.div(a, b, rounding_mode='floor').\n",
      "  max_size = (max_size + (stride - 1)) // stride * stride\n",
      " 74%|███████▍  | 37/50 [05:17<01:52,  8.62s/it]/home/proto/miniconda3/envs/vision-stretcher/lib/python3.9/site-packages/detectron2/structures/image_list.py:88: UserWarning: __floordiv__ is deprecated, and its behavior will change in a future version of pytorch. It currently rounds toward 0 (like the 'trunc' function NOT 'floor'). This results in incorrect rounding for negative values. To keep the current behavior, use torch.div(a, b, rounding_mode='trunc'), or for actual floor division, use torch.div(a, b, rounding_mode='floor').\n",
      "  max_size = (max_size + (stride - 1)) // stride * stride\n",
      " 76%|███████▌  | 38/50 [05:26<01:43,  8.61s/it]/home/proto/miniconda3/envs/vision-stretcher/lib/python3.9/site-packages/detectron2/structures/image_list.py:88: UserWarning: __floordiv__ is deprecated, and its behavior will change in a future version of pytorch. It currently rounds toward 0 (like the 'trunc' function NOT 'floor'). This results in incorrect rounding for negative values. To keep the current behavior, use torch.div(a, b, rounding_mode='trunc'), or for actual floor division, use torch.div(a, b, rounding_mode='floor').\n",
      "  max_size = (max_size + (stride - 1)) // stride * stride\n",
      " 78%|███████▊  | 39/50 [05:35<01:34,  8.59s/it]/home/proto/miniconda3/envs/vision-stretcher/lib/python3.9/site-packages/detectron2/structures/image_list.py:88: UserWarning: __floordiv__ is deprecated, and its behavior will change in a future version of pytorch. It currently rounds toward 0 (like the 'trunc' function NOT 'floor'). This results in incorrect rounding for negative values. To keep the current behavior, use torch.div(a, b, rounding_mode='trunc'), or for actual floor division, use torch.div(a, b, rounding_mode='floor').\n",
      "  max_size = (max_size + (stride - 1)) // stride * stride\n",
      " 82%|████████▏ | 41/50 [05:52<01:17,  8.61s/it]/home/proto/miniconda3/envs/vision-stretcher/lib/python3.9/site-packages/detectron2/structures/image_list.py:88: UserWarning: __floordiv__ is deprecated, and its behavior will change in a future version of pytorch. It currently rounds toward 0 (like the 'trunc' function NOT 'floor'). This results in incorrect rounding for negative values. To keep the current behavior, use torch.div(a, b, rounding_mode='trunc'), or for actual floor division, use torch.div(a, b, rounding_mode='floor').\n",
      "  max_size = (max_size + (stride - 1)) // stride * stride\n",
      " 84%|████████▍ | 42/50 [06:00<01:08,  8.61s/it]/home/proto/miniconda3/envs/vision-stretcher/lib/python3.9/site-packages/detectron2/structures/image_list.py:88: UserWarning: __floordiv__ is deprecated, and its behavior will change in a future version of pytorch. It currently rounds toward 0 (like the 'trunc' function NOT 'floor'). This results in incorrect rounding for negative values. To keep the current behavior, use torch.div(a, b, rounding_mode='trunc'), or for actual floor division, use torch.div(a, b, rounding_mode='floor').\n",
      "  max_size = (max_size + (stride - 1)) // stride * stride\n",
      " 88%|████████▊ | 44/50 [06:18<00:51,  8.61s/it]/home/proto/miniconda3/envs/vision-stretcher/lib/python3.9/site-packages/detectron2/structures/image_list.py:88: UserWarning: __floordiv__ is deprecated, and its behavior will change in a future version of pytorch. It currently rounds toward 0 (like the 'trunc' function NOT 'floor'). This results in incorrect rounding for negative values. To keep the current behavior, use torch.div(a, b, rounding_mode='trunc'), or for actual floor division, use torch.div(a, b, rounding_mode='floor').\n",
      "  max_size = (max_size + (stride - 1)) // stride * stride\n",
      " 92%|█████████▏| 46/50 [06:35<00:34,  8.57s/it]/home/proto/miniconda3/envs/vision-stretcher/lib/python3.9/site-packages/detectron2/structures/image_list.py:88: UserWarning: __floordiv__ is deprecated, and its behavior will change in a future version of pytorch. It currently rounds toward 0 (like the 'trunc' function NOT 'floor'). This results in incorrect rounding for negative values. To keep the current behavior, use torch.div(a, b, rounding_mode='trunc'), or for actual floor division, use torch.div(a, b, rounding_mode='floor').\n",
      "  max_size = (max_size + (stride - 1)) // stride * stride\n",
      " 94%|█████████▍| 47/50 [06:43<00:25,  8.57s/it]/home/proto/miniconda3/envs/vision-stretcher/lib/python3.9/site-packages/detectron2/structures/image_list.py:88: UserWarning: __floordiv__ is deprecated, and its behavior will change in a future version of pytorch. It currently rounds toward 0 (like the 'trunc' function NOT 'floor'). This results in incorrect rounding for negative values. To keep the current behavior, use torch.div(a, b, rounding_mode='trunc'), or for actual floor division, use torch.div(a, b, rounding_mode='floor').\n",
      "  max_size = (max_size + (stride - 1)) // stride * stride\n",
      " 96%|█████████▌| 48/50 [06:52<00:17,  8.57s/it]/home/proto/miniconda3/envs/vision-stretcher/lib/python3.9/site-packages/detectron2/structures/image_list.py:88: UserWarning: __floordiv__ is deprecated, and its behavior will change in a future version of pytorch. It currently rounds toward 0 (like the 'trunc' function NOT 'floor'). This results in incorrect rounding for negative values. To keep the current behavior, use torch.div(a, b, rounding_mode='trunc'), or for actual floor division, use torch.div(a, b, rounding_mode='floor').\n",
      "  max_size = (max_size + (stride - 1)) // stride * stride\n",
      " 98%|█████████▊| 49/50 [07:02<00:08,  8.97s/it]/home/proto/miniconda3/envs/vision-stretcher/lib/python3.9/site-packages/detectron2/structures/image_list.py:88: UserWarning: __floordiv__ is deprecated, and its behavior will change in a future version of pytorch. It currently rounds toward 0 (like the 'trunc' function NOT 'floor'). This results in incorrect rounding for negative values. To keep the current behavior, use torch.div(a, b, rounding_mode='trunc'), or for actual floor division, use torch.div(a, b, rounding_mode='floor').\n",
      "  max_size = (max_size + (stride - 1)) // stride * stride\n",
      "100%|██████████| 50/50 [07:10<00:00,  8.62s/it]\n"
     ]
    }
   ],
   "source": [
    "stats[1.125] = measure_recomposition(images, [256, 288], predictor, coi)"
   ]
  },
  {
   "cell_type": "code",
   "execution_count": 14,
   "metadata": {},
   "outputs": [
    {
     "name": "stderr",
     "output_type": "stream",
     "text": [
      "  0%|          | 0/50 [00:00<?, ?it/s]/home/proto/miniconda3/envs/vision-stretcher/lib/python3.9/site-packages/detectron2/structures/image_list.py:88: UserWarning: __floordiv__ is deprecated, and its behavior will change in a future version of pytorch. It currently rounds toward 0 (like the 'trunc' function NOT 'floor'). This results in incorrect rounding for negative values. To keep the current behavior, use torch.div(a, b, rounding_mode='trunc'), or for actual floor division, use torch.div(a, b, rounding_mode='floor').\n",
      "  max_size = (max_size + (stride - 1)) // stride * stride\n",
      "  2%|▏         | 1/50 [00:16<13:10, 16.14s/it]/home/proto/miniconda3/envs/vision-stretcher/lib/python3.9/site-packages/detectron2/structures/image_list.py:88: UserWarning: __floordiv__ is deprecated, and its behavior will change in a future version of pytorch. It currently rounds toward 0 (like the 'trunc' function NOT 'floor'). This results in incorrect rounding for negative values. To keep the current behavior, use torch.div(a, b, rounding_mode='trunc'), or for actual floor division, use torch.div(a, b, rounding_mode='floor').\n",
      "  max_size = (max_size + (stride - 1)) // stride * stride\n",
      "  4%|▍         | 2/50 [00:32<13:00, 16.25s/it]/home/proto/miniconda3/envs/vision-stretcher/lib/python3.9/site-packages/detectron2/structures/image_list.py:88: UserWarning: __floordiv__ is deprecated, and its behavior will change in a future version of pytorch. It currently rounds toward 0 (like the 'trunc' function NOT 'floor'). This results in incorrect rounding for negative values. To keep the current behavior, use torch.div(a, b, rounding_mode='trunc'), or for actual floor division, use torch.div(a, b, rounding_mode='floor').\n",
      "  max_size = (max_size + (stride - 1)) // stride * stride\n",
      "  8%|▊         | 4/50 [01:04<12:14, 15.97s/it]/home/proto/miniconda3/envs/vision-stretcher/lib/python3.9/site-packages/detectron2/structures/image_list.py:88: UserWarning: __floordiv__ is deprecated, and its behavior will change in a future version of pytorch. It currently rounds toward 0 (like the 'trunc' function NOT 'floor'). This results in incorrect rounding for negative values. To keep the current behavior, use torch.div(a, b, rounding_mode='trunc'), or for actual floor division, use torch.div(a, b, rounding_mode='floor').\n",
      "  max_size = (max_size + (stride - 1)) // stride * stride\n",
      " 12%|█▏        | 6/50 [01:35<11:37, 15.85s/it]/home/proto/miniconda3/envs/vision-stretcher/lib/python3.9/site-packages/detectron2/structures/image_list.py:88: UserWarning: __floordiv__ is deprecated, and its behavior will change in a future version of pytorch. It currently rounds toward 0 (like the 'trunc' function NOT 'floor'). This results in incorrect rounding for negative values. To keep the current behavior, use torch.div(a, b, rounding_mode='trunc'), or for actual floor division, use torch.div(a, b, rounding_mode='floor').\n",
      "  max_size = (max_size + (stride - 1)) // stride * stride\n",
      " 16%|█▌        | 8/50 [02:07<11:03, 15.80s/it]/home/proto/miniconda3/envs/vision-stretcher/lib/python3.9/site-packages/detectron2/structures/image_list.py:88: UserWarning: __floordiv__ is deprecated, and its behavior will change in a future version of pytorch. It currently rounds toward 0 (like the 'trunc' function NOT 'floor'). This results in incorrect rounding for negative values. To keep the current behavior, use torch.div(a, b, rounding_mode='trunc'), or for actual floor division, use torch.div(a, b, rounding_mode='floor').\n",
      "  max_size = (max_size + (stride - 1)) // stride * stride\n",
      " 22%|██▏       | 11/50 [02:54<10:18, 15.85s/it]/home/proto/miniconda3/envs/vision-stretcher/lib/python3.9/site-packages/detectron2/structures/image_list.py:88: UserWarning: __floordiv__ is deprecated, and its behavior will change in a future version of pytorch. It currently rounds toward 0 (like the 'trunc' function NOT 'floor'). This results in incorrect rounding for negative values. To keep the current behavior, use torch.div(a, b, rounding_mode='trunc'), or for actual floor division, use torch.div(a, b, rounding_mode='floor').\n",
      "  max_size = (max_size + (stride - 1)) // stride * stride\n",
      " 24%|██▍       | 12/50 [03:10<10:01, 15.84s/it]/home/proto/miniconda3/envs/vision-stretcher/lib/python3.9/site-packages/detectron2/structures/image_list.py:88: UserWarning: __floordiv__ is deprecated, and its behavior will change in a future version of pytorch. It currently rounds toward 0 (like the 'trunc' function NOT 'floor'). This results in incorrect rounding for negative values. To keep the current behavior, use torch.div(a, b, rounding_mode='trunc'), or for actual floor division, use torch.div(a, b, rounding_mode='floor').\n",
      "  max_size = (max_size + (stride - 1)) // stride * stride\n",
      " 26%|██▌       | 13/50 [03:26<09:46, 15.84s/it]/home/proto/miniconda3/envs/vision-stretcher/lib/python3.9/site-packages/detectron2/structures/image_list.py:88: UserWarning: __floordiv__ is deprecated, and its behavior will change in a future version of pytorch. It currently rounds toward 0 (like the 'trunc' function NOT 'floor'). This results in incorrect rounding for negative values. To keep the current behavior, use torch.div(a, b, rounding_mode='trunc'), or for actual floor division, use torch.div(a, b, rounding_mode='floor').\n",
      "  max_size = (max_size + (stride - 1)) // stride * stride\n",
      " 28%|██▊       | 14/50 [03:42<09:29, 15.82s/it]/home/proto/miniconda3/envs/vision-stretcher/lib/python3.9/site-packages/detectron2/structures/image_list.py:88: UserWarning: __floordiv__ is deprecated, and its behavior will change in a future version of pytorch. It currently rounds toward 0 (like the 'trunc' function NOT 'floor'). This results in incorrect rounding for negative values. To keep the current behavior, use torch.div(a, b, rounding_mode='trunc'), or for actual floor division, use torch.div(a, b, rounding_mode='floor').\n",
      "  max_size = (max_size + (stride - 1)) // stride * stride\n",
      " 30%|███       | 15/50 [03:58<09:14, 15.83s/it]/home/proto/miniconda3/envs/vision-stretcher/lib/python3.9/site-packages/detectron2/structures/image_list.py:88: UserWarning: __floordiv__ is deprecated, and its behavior will change in a future version of pytorch. It currently rounds toward 0 (like the 'trunc' function NOT 'floor'). This results in incorrect rounding for negative values. To keep the current behavior, use torch.div(a, b, rounding_mode='trunc'), or for actual floor division, use torch.div(a, b, rounding_mode='floor').\n",
      "  max_size = (max_size + (stride - 1)) // stride * stride\n",
      " 34%|███▍      | 17/50 [04:29<08:41, 15.80s/it]/home/proto/miniconda3/envs/vision-stretcher/lib/python3.9/site-packages/detectron2/structures/image_list.py:88: UserWarning: __floordiv__ is deprecated, and its behavior will change in a future version of pytorch. It currently rounds toward 0 (like the 'trunc' function NOT 'floor'). This results in incorrect rounding for negative values. To keep the current behavior, use torch.div(a, b, rounding_mode='trunc'), or for actual floor division, use torch.div(a, b, rounding_mode='floor').\n",
      "  max_size = (max_size + (stride - 1)) // stride * stride\n",
      " 36%|███▌      | 18/50 [04:45<08:25, 15.80s/it]/home/proto/miniconda3/envs/vision-stretcher/lib/python3.9/site-packages/detectron2/structures/image_list.py:88: UserWarning: __floordiv__ is deprecated, and its behavior will change in a future version of pytorch. It currently rounds toward 0 (like the 'trunc' function NOT 'floor'). This results in incorrect rounding for negative values. To keep the current behavior, use torch.div(a, b, rounding_mode='trunc'), or for actual floor division, use torch.div(a, b, rounding_mode='floor').\n",
      "  max_size = (max_size + (stride - 1)) // stride * stride\n",
      " 42%|████▏     | 21/50 [05:33<07:40, 15.90s/it]/home/proto/miniconda3/envs/vision-stretcher/lib/python3.9/site-packages/detectron2/structures/image_list.py:88: UserWarning: __floordiv__ is deprecated, and its behavior will change in a future version of pytorch. It currently rounds toward 0 (like the 'trunc' function NOT 'floor'). This results in incorrect rounding for negative values. To keep the current behavior, use torch.div(a, b, rounding_mode='trunc'), or for actual floor division, use torch.div(a, b, rounding_mode='floor').\n",
      "  max_size = (max_size + (stride - 1)) // stride * stride\n",
      " 52%|█████▏    | 26/50 [06:52<06:20, 15.87s/it]/home/proto/miniconda3/envs/vision-stretcher/lib/python3.9/site-packages/detectron2/structures/image_list.py:88: UserWarning: __floordiv__ is deprecated, and its behavior will change in a future version of pytorch. It currently rounds toward 0 (like the 'trunc' function NOT 'floor'). This results in incorrect rounding for negative values. To keep the current behavior, use torch.div(a, b, rounding_mode='trunc'), or for actual floor division, use torch.div(a, b, rounding_mode='floor').\n",
      "  max_size = (max_size + (stride - 1)) // stride * stride\n",
      " 54%|█████▍    | 27/50 [07:08<06:05, 15.90s/it]/home/proto/miniconda3/envs/vision-stretcher/lib/python3.9/site-packages/detectron2/structures/image_list.py:88: UserWarning: __floordiv__ is deprecated, and its behavior will change in a future version of pytorch. It currently rounds toward 0 (like the 'trunc' function NOT 'floor'). This results in incorrect rounding for negative values. To keep the current behavior, use torch.div(a, b, rounding_mode='trunc'), or for actual floor division, use torch.div(a, b, rounding_mode='floor').\n",
      "  max_size = (max_size + (stride - 1)) // stride * stride\n",
      " 56%|█████▌    | 28/50 [07:24<05:49, 15.89s/it]/home/proto/miniconda3/envs/vision-stretcher/lib/python3.9/site-packages/detectron2/structures/image_list.py:88: UserWarning: __floordiv__ is deprecated, and its behavior will change in a future version of pytorch. It currently rounds toward 0 (like the 'trunc' function NOT 'floor'). This results in incorrect rounding for negative values. To keep the current behavior, use torch.div(a, b, rounding_mode='trunc'), or for actual floor division, use torch.div(a, b, rounding_mode='floor').\n",
      "  max_size = (max_size + (stride - 1)) // stride * stride\n",
      " 58%|█████▊    | 29/50 [07:40<05:35, 15.99s/it]/home/proto/miniconda3/envs/vision-stretcher/lib/python3.9/site-packages/detectron2/structures/image_list.py:88: UserWarning: __floordiv__ is deprecated, and its behavior will change in a future version of pytorch. It currently rounds toward 0 (like the 'trunc' function NOT 'floor'). This results in incorrect rounding for negative values. To keep the current behavior, use torch.div(a, b, rounding_mode='trunc'), or for actual floor division, use torch.div(a, b, rounding_mode='floor').\n",
      "  max_size = (max_size + (stride - 1)) // stride * stride\n",
      " 60%|██████    | 30/50 [07:56<05:19, 15.95s/it]/home/proto/miniconda3/envs/vision-stretcher/lib/python3.9/site-packages/detectron2/structures/image_list.py:88: UserWarning: __floordiv__ is deprecated, and its behavior will change in a future version of pytorch. It currently rounds toward 0 (like the 'trunc' function NOT 'floor'). This results in incorrect rounding for negative values. To keep the current behavior, use torch.div(a, b, rounding_mode='trunc'), or for actual floor division, use torch.div(a, b, rounding_mode='floor').\n",
      "  max_size = (max_size + (stride - 1)) // stride * stride\n",
      " 64%|██████▍   | 32/50 [08:28<04:46, 15.91s/it]/home/proto/miniconda3/envs/vision-stretcher/lib/python3.9/site-packages/detectron2/structures/image_list.py:88: UserWarning: __floordiv__ is deprecated, and its behavior will change in a future version of pytorch. It currently rounds toward 0 (like the 'trunc' function NOT 'floor'). This results in incorrect rounding for negative values. To keep the current behavior, use torch.div(a, b, rounding_mode='trunc'), or for actual floor division, use torch.div(a, b, rounding_mode='floor').\n",
      "  max_size = (max_size + (stride - 1)) // stride * stride\n",
      " 66%|██████▌   | 33/50 [08:44<04:30, 15.91s/it]/home/proto/miniconda3/envs/vision-stretcher/lib/python3.9/site-packages/detectron2/structures/image_list.py:88: UserWarning: __floordiv__ is deprecated, and its behavior will change in a future version of pytorch. It currently rounds toward 0 (like the 'trunc' function NOT 'floor'). This results in incorrect rounding for negative values. To keep the current behavior, use torch.div(a, b, rounding_mode='trunc'), or for actual floor division, use torch.div(a, b, rounding_mode='floor').\n",
      "  max_size = (max_size + (stride - 1)) // stride * stride\n",
      " 68%|██████▊   | 34/50 [09:00<04:15, 15.96s/it]/home/proto/miniconda3/envs/vision-stretcher/lib/python3.9/site-packages/detectron2/structures/image_list.py:88: UserWarning: __floordiv__ is deprecated, and its behavior will change in a future version of pytorch. It currently rounds toward 0 (like the 'trunc' function NOT 'floor'). This results in incorrect rounding for negative values. To keep the current behavior, use torch.div(a, b, rounding_mode='trunc'), or for actual floor division, use torch.div(a, b, rounding_mode='floor').\n",
      "  max_size = (max_size + (stride - 1)) // stride * stride\n",
      " 70%|███████   | 35/50 [09:16<03:59, 15.94s/it]/home/proto/miniconda3/envs/vision-stretcher/lib/python3.9/site-packages/detectron2/structures/image_list.py:88: UserWarning: __floordiv__ is deprecated, and its behavior will change in a future version of pytorch. It currently rounds toward 0 (like the 'trunc' function NOT 'floor'). This results in incorrect rounding for negative values. To keep the current behavior, use torch.div(a, b, rounding_mode='trunc'), or for actual floor division, use torch.div(a, b, rounding_mode='floor').\n",
      "  max_size = (max_size + (stride - 1)) // stride * stride\n",
      " 72%|███████▏  | 36/50 [09:32<03:43, 15.96s/it]/home/proto/miniconda3/envs/vision-stretcher/lib/python3.9/site-packages/detectron2/structures/image_list.py:88: UserWarning: __floordiv__ is deprecated, and its behavior will change in a future version of pytorch. It currently rounds toward 0 (like the 'trunc' function NOT 'floor'). This results in incorrect rounding for negative values. To keep the current behavior, use torch.div(a, b, rounding_mode='trunc'), or for actual floor division, use torch.div(a, b, rounding_mode='floor').\n",
      "  max_size = (max_size + (stride - 1)) // stride * stride\n",
      " 74%|███████▍  | 37/50 [09:48<03:27, 15.95s/it]/home/proto/miniconda3/envs/vision-stretcher/lib/python3.9/site-packages/detectron2/structures/image_list.py:88: UserWarning: __floordiv__ is deprecated, and its behavior will change in a future version of pytorch. It currently rounds toward 0 (like the 'trunc' function NOT 'floor'). This results in incorrect rounding for negative values. To keep the current behavior, use torch.div(a, b, rounding_mode='trunc'), or for actual floor division, use torch.div(a, b, rounding_mode='floor').\n",
      "  max_size = (max_size + (stride - 1)) // stride * stride\n",
      " 76%|███████▌  | 38/50 [10:03<03:11, 15.96s/it]/home/proto/miniconda3/envs/vision-stretcher/lib/python3.9/site-packages/detectron2/structures/image_list.py:88: UserWarning: __floordiv__ is deprecated, and its behavior will change in a future version of pytorch. It currently rounds toward 0 (like the 'trunc' function NOT 'floor'). This results in incorrect rounding for negative values. To keep the current behavior, use torch.div(a, b, rounding_mode='trunc'), or for actual floor division, use torch.div(a, b, rounding_mode='floor').\n",
      "  max_size = (max_size + (stride - 1)) // stride * stride\n",
      " 78%|███████▊  | 39/50 [10:19<02:54, 15.91s/it]/home/proto/miniconda3/envs/vision-stretcher/lib/python3.9/site-packages/detectron2/structures/image_list.py:88: UserWarning: __floordiv__ is deprecated, and its behavior will change in a future version of pytorch. It currently rounds toward 0 (like the 'trunc' function NOT 'floor'). This results in incorrect rounding for negative values. To keep the current behavior, use torch.div(a, b, rounding_mode='trunc'), or for actual floor division, use torch.div(a, b, rounding_mode='floor').\n",
      "  max_size = (max_size + (stride - 1)) // stride * stride\n",
      " 82%|████████▏ | 41/50 [10:51<02:23, 15.96s/it]/home/proto/miniconda3/envs/vision-stretcher/lib/python3.9/site-packages/detectron2/structures/image_list.py:88: UserWarning: __floordiv__ is deprecated, and its behavior will change in a future version of pytorch. It currently rounds toward 0 (like the 'trunc' function NOT 'floor'). This results in incorrect rounding for negative values. To keep the current behavior, use torch.div(a, b, rounding_mode='trunc'), or for actual floor division, use torch.div(a, b, rounding_mode='floor').\n",
      "  max_size = (max_size + (stride - 1)) // stride * stride\n",
      " 84%|████████▍ | 42/50 [11:07<02:07, 15.95s/it]/home/proto/miniconda3/envs/vision-stretcher/lib/python3.9/site-packages/detectron2/structures/image_list.py:88: UserWarning: __floordiv__ is deprecated, and its behavior will change in a future version of pytorch. It currently rounds toward 0 (like the 'trunc' function NOT 'floor'). This results in incorrect rounding for negative values. To keep the current behavior, use torch.div(a, b, rounding_mode='trunc'), or for actual floor division, use torch.div(a, b, rounding_mode='floor').\n",
      "  max_size = (max_size + (stride - 1)) // stride * stride\n",
      " 88%|████████▊ | 44/50 [11:41<01:38, 16.39s/it]/home/proto/miniconda3/envs/vision-stretcher/lib/python3.9/site-packages/detectron2/structures/image_list.py:88: UserWarning: __floordiv__ is deprecated, and its behavior will change in a future version of pytorch. It currently rounds toward 0 (like the 'trunc' function NOT 'floor'). This results in incorrect rounding for negative values. To keep the current behavior, use torch.div(a, b, rounding_mode='trunc'), or for actual floor division, use torch.div(a, b, rounding_mode='floor').\n",
      "  max_size = (max_size + (stride - 1)) // stride * stride\n",
      " 92%|█████████▏| 46/50 [12:13<01:04, 16.19s/it]/home/proto/miniconda3/envs/vision-stretcher/lib/python3.9/site-packages/detectron2/structures/image_list.py:88: UserWarning: __floordiv__ is deprecated, and its behavior will change in a future version of pytorch. It currently rounds toward 0 (like the 'trunc' function NOT 'floor'). This results in incorrect rounding for negative values. To keep the current behavior, use torch.div(a, b, rounding_mode='trunc'), or for actual floor division, use torch.div(a, b, rounding_mode='floor').\n",
      "  max_size = (max_size + (stride - 1)) // stride * stride\n",
      " 94%|█████████▍| 47/50 [12:29<00:48, 16.12s/it]/home/proto/miniconda3/envs/vision-stretcher/lib/python3.9/site-packages/detectron2/structures/image_list.py:88: UserWarning: __floordiv__ is deprecated, and its behavior will change in a future version of pytorch. It currently rounds toward 0 (like the 'trunc' function NOT 'floor'). This results in incorrect rounding for negative values. To keep the current behavior, use torch.div(a, b, rounding_mode='trunc'), or for actual floor division, use torch.div(a, b, rounding_mode='floor').\n",
      "  max_size = (max_size + (stride - 1)) // stride * stride\n",
      " 96%|█████████▌| 48/50 [12:45<00:32, 16.35s/it]/home/proto/miniconda3/envs/vision-stretcher/lib/python3.9/site-packages/detectron2/structures/image_list.py:88: UserWarning: __floordiv__ is deprecated, and its behavior will change in a future version of pytorch. It currently rounds toward 0 (like the 'trunc' function NOT 'floor'). This results in incorrect rounding for negative values. To keep the current behavior, use torch.div(a, b, rounding_mode='trunc'), or for actual floor division, use torch.div(a, b, rounding_mode='floor').\n",
      "  max_size = (max_size + (stride - 1)) // stride * stride\n",
      " 98%|█████████▊| 49/50 [13:01<00:16, 16.11s/it]/home/proto/miniconda3/envs/vision-stretcher/lib/python3.9/site-packages/detectron2/structures/image_list.py:88: UserWarning: __floordiv__ is deprecated, and its behavior will change in a future version of pytorch. It currently rounds toward 0 (like the 'trunc' function NOT 'floor'). This results in incorrect rounding for negative values. To keep the current behavior, use torch.div(a, b, rounding_mode='trunc'), or for actual floor division, use torch.div(a, b, rounding_mode='floor').\n",
      "  max_size = (max_size + (stride - 1)) // stride * stride\n",
      "100%|██████████| 50/50 [13:17<00:00, 15.94s/it]\n"
     ]
    }
   ],
   "source": [
    "stats[1.25] = measure_recomposition(images, [256, 320], predictor, coi)"
   ]
  },
  {
   "cell_type": "code",
   "execution_count": 15,
   "metadata": {},
   "outputs": [
    {
     "name": "stderr",
     "output_type": "stream",
     "text": [
      "  0%|          | 0/50 [00:00<?, ?it/s]/home/proto/miniconda3/envs/vision-stretcher/lib/python3.9/site-packages/detectron2/structures/image_list.py:88: UserWarning: __floordiv__ is deprecated, and its behavior will change in a future version of pytorch. It currently rounds toward 0 (like the 'trunc' function NOT 'floor'). This results in incorrect rounding for negative values. To keep the current behavior, use torch.div(a, b, rounding_mode='trunc'), or for actual floor division, use torch.div(a, b, rounding_mode='floor').\n",
      "  max_size = (max_size + (stride - 1)) // stride * stride\n",
      "  2%|▏         | 1/50 [00:27<22:30, 27.57s/it]/home/proto/miniconda3/envs/vision-stretcher/lib/python3.9/site-packages/detectron2/structures/image_list.py:88: UserWarning: __floordiv__ is deprecated, and its behavior will change in a future version of pytorch. It currently rounds toward 0 (like the 'trunc' function NOT 'floor'). This results in incorrect rounding for negative values. To keep the current behavior, use torch.div(a, b, rounding_mode='trunc'), or for actual floor division, use torch.div(a, b, rounding_mode='floor').\n",
      "  max_size = (max_size + (stride - 1)) // stride * stride\n",
      "  4%|▍         | 2/50 [00:55<22:01, 27.54s/it]/home/proto/miniconda3/envs/vision-stretcher/lib/python3.9/site-packages/detectron2/structures/image_list.py:88: UserWarning: __floordiv__ is deprecated, and its behavior will change in a future version of pytorch. It currently rounds toward 0 (like the 'trunc' function NOT 'floor'). This results in incorrect rounding for negative values. To keep the current behavior, use torch.div(a, b, rounding_mode='trunc'), or for actual floor division, use torch.div(a, b, rounding_mode='floor').\n",
      "  max_size = (max_size + (stride - 1)) // stride * stride\n",
      "  8%|▊         | 4/50 [01:50<21:05, 27.51s/it]/home/proto/miniconda3/envs/vision-stretcher/lib/python3.9/site-packages/detectron2/structures/image_list.py:88: UserWarning: __floordiv__ is deprecated, and its behavior will change in a future version of pytorch. It currently rounds toward 0 (like the 'trunc' function NOT 'floor'). This results in incorrect rounding for negative values. To keep the current behavior, use torch.div(a, b, rounding_mode='trunc'), or for actual floor division, use torch.div(a, b, rounding_mode='floor').\n",
      "  max_size = (max_size + (stride - 1)) // stride * stride\n",
      " 12%|█▏        | 6/50 [02:45<20:10, 27.51s/it]/home/proto/miniconda3/envs/vision-stretcher/lib/python3.9/site-packages/detectron2/structures/image_list.py:88: UserWarning: __floordiv__ is deprecated, and its behavior will change in a future version of pytorch. It currently rounds toward 0 (like the 'trunc' function NOT 'floor'). This results in incorrect rounding for negative values. To keep the current behavior, use torch.div(a, b, rounding_mode='trunc'), or for actual floor division, use torch.div(a, b, rounding_mode='floor').\n",
      "  max_size = (max_size + (stride - 1)) // stride * stride\n",
      " 16%|█▌        | 8/50 [03:40<19:16, 27.54s/it]/home/proto/miniconda3/envs/vision-stretcher/lib/python3.9/site-packages/detectron2/structures/image_list.py:88: UserWarning: __floordiv__ is deprecated, and its behavior will change in a future version of pytorch. It currently rounds toward 0 (like the 'trunc' function NOT 'floor'). This results in incorrect rounding for negative values. To keep the current behavior, use torch.div(a, b, rounding_mode='trunc'), or for actual floor division, use torch.div(a, b, rounding_mode='floor').\n",
      "  max_size = (max_size + (stride - 1)) // stride * stride\n",
      " 22%|██▏       | 11/50 [05:03<17:55, 27.59s/it]/home/proto/miniconda3/envs/vision-stretcher/lib/python3.9/site-packages/detectron2/structures/image_list.py:88: UserWarning: __floordiv__ is deprecated, and its behavior will change in a future version of pytorch. It currently rounds toward 0 (like the 'trunc' function NOT 'floor'). This results in incorrect rounding for negative values. To keep the current behavior, use torch.div(a, b, rounding_mode='trunc'), or for actual floor division, use torch.div(a, b, rounding_mode='floor').\n",
      "  max_size = (max_size + (stride - 1)) // stride * stride\n",
      " 24%|██▍       | 12/50 [05:30<17:27, 27.57s/it]/home/proto/miniconda3/envs/vision-stretcher/lib/python3.9/site-packages/detectron2/structures/image_list.py:88: UserWarning: __floordiv__ is deprecated, and its behavior will change in a future version of pytorch. It currently rounds toward 0 (like the 'trunc' function NOT 'floor'). This results in incorrect rounding for negative values. To keep the current behavior, use torch.div(a, b, rounding_mode='trunc'), or for actual floor division, use torch.div(a, b, rounding_mode='floor').\n",
      "  max_size = (max_size + (stride - 1)) // stride * stride\n",
      " 26%|██▌       | 13/50 [05:58<16:59, 27.55s/it]/home/proto/miniconda3/envs/vision-stretcher/lib/python3.9/site-packages/detectron2/structures/image_list.py:88: UserWarning: __floordiv__ is deprecated, and its behavior will change in a future version of pytorch. It currently rounds toward 0 (like the 'trunc' function NOT 'floor'). This results in incorrect rounding for negative values. To keep the current behavior, use torch.div(a, b, rounding_mode='trunc'), or for actual floor division, use torch.div(a, b, rounding_mode='floor').\n",
      "  max_size = (max_size + (stride - 1)) // stride * stride\n",
      " 28%|██▊       | 14/50 [06:25<16:34, 27.63s/it]/home/proto/miniconda3/envs/vision-stretcher/lib/python3.9/site-packages/detectron2/structures/image_list.py:88: UserWarning: __floordiv__ is deprecated, and its behavior will change in a future version of pytorch. It currently rounds toward 0 (like the 'trunc' function NOT 'floor'). This results in incorrect rounding for negative values. To keep the current behavior, use torch.div(a, b, rounding_mode='trunc'), or for actual floor division, use torch.div(a, b, rounding_mode='floor').\n",
      "  max_size = (max_size + (stride - 1)) // stride * stride\n",
      " 30%|███       | 15/50 [06:53<16:09, 27.69s/it]/home/proto/miniconda3/envs/vision-stretcher/lib/python3.9/site-packages/detectron2/structures/image_list.py:88: UserWarning: __floordiv__ is deprecated, and its behavior will change in a future version of pytorch. It currently rounds toward 0 (like the 'trunc' function NOT 'floor'). This results in incorrect rounding for negative values. To keep the current behavior, use torch.div(a, b, rounding_mode='trunc'), or for actual floor division, use torch.div(a, b, rounding_mode='floor').\n",
      "  max_size = (max_size + (stride - 1)) // stride * stride\n",
      " 34%|███▍      | 17/50 [07:49<15:15, 27.76s/it]/home/proto/miniconda3/envs/vision-stretcher/lib/python3.9/site-packages/detectron2/structures/image_list.py:88: UserWarning: __floordiv__ is deprecated, and its behavior will change in a future version of pytorch. It currently rounds toward 0 (like the 'trunc' function NOT 'floor'). This results in incorrect rounding for negative values. To keep the current behavior, use torch.div(a, b, rounding_mode='trunc'), or for actual floor division, use torch.div(a, b, rounding_mode='floor').\n",
      "  max_size = (max_size + (stride - 1)) // stride * stride\n",
      " 36%|███▌      | 18/50 [08:17<14:47, 27.74s/it]/home/proto/miniconda3/envs/vision-stretcher/lib/python3.9/site-packages/detectron2/structures/image_list.py:88: UserWarning: __floordiv__ is deprecated, and its behavior will change in a future version of pytorch. It currently rounds toward 0 (like the 'trunc' function NOT 'floor'). This results in incorrect rounding for negative values. To keep the current behavior, use torch.div(a, b, rounding_mode='trunc'), or for actual floor division, use torch.div(a, b, rounding_mode='floor').\n",
      "  max_size = (max_size + (stride - 1)) // stride * stride\n",
      " 42%|████▏     | 21/50 [09:40<13:24, 27.75s/it]/home/proto/miniconda3/envs/vision-stretcher/lib/python3.9/site-packages/detectron2/structures/image_list.py:88: UserWarning: __floordiv__ is deprecated, and its behavior will change in a future version of pytorch. It currently rounds toward 0 (like the 'trunc' function NOT 'floor'). This results in incorrect rounding for negative values. To keep the current behavior, use torch.div(a, b, rounding_mode='trunc'), or for actual floor division, use torch.div(a, b, rounding_mode='floor').\n",
      "  max_size = (max_size + (stride - 1)) // stride * stride\n",
      " 52%|█████▏    | 26/50 [11:59<11:08, 27.83s/it]/home/proto/miniconda3/envs/vision-stretcher/lib/python3.9/site-packages/detectron2/structures/image_list.py:88: UserWarning: __floordiv__ is deprecated, and its behavior will change in a future version of pytorch. It currently rounds toward 0 (like the 'trunc' function NOT 'floor'). This results in incorrect rounding for negative values. To keep the current behavior, use torch.div(a, b, rounding_mode='trunc'), or for actual floor division, use torch.div(a, b, rounding_mode='floor').\n",
      "  max_size = (max_size + (stride - 1)) // stride * stride\n",
      " 54%|█████▍    | 27/50 [12:27<10:39, 27.81s/it]/home/proto/miniconda3/envs/vision-stretcher/lib/python3.9/site-packages/detectron2/structures/image_list.py:88: UserWarning: __floordiv__ is deprecated, and its behavior will change in a future version of pytorch. It currently rounds toward 0 (like the 'trunc' function NOT 'floor'). This results in incorrect rounding for negative values. To keep the current behavior, use torch.div(a, b, rounding_mode='trunc'), or for actual floor division, use torch.div(a, b, rounding_mode='floor').\n",
      "  max_size = (max_size + (stride - 1)) // stride * stride\n",
      " 56%|█████▌    | 28/50 [12:55<10:13, 27.87s/it]/home/proto/miniconda3/envs/vision-stretcher/lib/python3.9/site-packages/detectron2/structures/image_list.py:88: UserWarning: __floordiv__ is deprecated, and its behavior will change in a future version of pytorch. It currently rounds toward 0 (like the 'trunc' function NOT 'floor'). This results in incorrect rounding for negative values. To keep the current behavior, use torch.div(a, b, rounding_mode='trunc'), or for actual floor division, use torch.div(a, b, rounding_mode='floor').\n",
      "  max_size = (max_size + (stride - 1)) // stride * stride\n",
      " 58%|█████▊    | 29/50 [13:23<09:45, 27.90s/it]/home/proto/miniconda3/envs/vision-stretcher/lib/python3.9/site-packages/detectron2/structures/image_list.py:88: UserWarning: __floordiv__ is deprecated, and its behavior will change in a future version of pytorch. It currently rounds toward 0 (like the 'trunc' function NOT 'floor'). This results in incorrect rounding for negative values. To keep the current behavior, use torch.div(a, b, rounding_mode='trunc'), or for actual floor division, use torch.div(a, b, rounding_mode='floor').\n",
      "  max_size = (max_size + (stride - 1)) // stride * stride\n",
      " 60%|██████    | 30/50 [13:50<09:17, 27.89s/it]/home/proto/miniconda3/envs/vision-stretcher/lib/python3.9/site-packages/detectron2/structures/image_list.py:88: UserWarning: __floordiv__ is deprecated, and its behavior will change in a future version of pytorch. It currently rounds toward 0 (like the 'trunc' function NOT 'floor'). This results in incorrect rounding for negative values. To keep the current behavior, use torch.div(a, b, rounding_mode='trunc'), or for actual floor division, use torch.div(a, b, rounding_mode='floor').\n",
      "  max_size = (max_size + (stride - 1)) // stride * stride\n",
      " 64%|██████▍   | 32/50 [14:47<08:23, 27.97s/it]/home/proto/miniconda3/envs/vision-stretcher/lib/python3.9/site-packages/detectron2/structures/image_list.py:88: UserWarning: __floordiv__ is deprecated, and its behavior will change in a future version of pytorch. It currently rounds toward 0 (like the 'trunc' function NOT 'floor'). This results in incorrect rounding for negative values. To keep the current behavior, use torch.div(a, b, rounding_mode='trunc'), or for actual floor division, use torch.div(a, b, rounding_mode='floor').\n",
      "  max_size = (max_size + (stride - 1)) // stride * stride\n",
      " 66%|██████▌   | 33/50 [15:14<07:52, 27.81s/it]/home/proto/miniconda3/envs/vision-stretcher/lib/python3.9/site-packages/detectron2/structures/image_list.py:88: UserWarning: __floordiv__ is deprecated, and its behavior will change in a future version of pytorch. It currently rounds toward 0 (like the 'trunc' function NOT 'floor'). This results in incorrect rounding for negative values. To keep the current behavior, use torch.div(a, b, rounding_mode='trunc'), or for actual floor division, use torch.div(a, b, rounding_mode='floor').\n",
      "  max_size = (max_size + (stride - 1)) // stride * stride\n",
      " 68%|██████▊   | 34/50 [15:42<07:25, 27.85s/it]/home/proto/miniconda3/envs/vision-stretcher/lib/python3.9/site-packages/detectron2/structures/image_list.py:88: UserWarning: __floordiv__ is deprecated, and its behavior will change in a future version of pytorch. It currently rounds toward 0 (like the 'trunc' function NOT 'floor'). This results in incorrect rounding for negative values. To keep the current behavior, use torch.div(a, b, rounding_mode='trunc'), or for actual floor division, use torch.div(a, b, rounding_mode='floor').\n",
      "  max_size = (max_size + (stride - 1)) // stride * stride\n",
      " 70%|███████   | 35/50 [16:10<06:56, 27.77s/it]/home/proto/miniconda3/envs/vision-stretcher/lib/python3.9/site-packages/detectron2/structures/image_list.py:88: UserWarning: __floordiv__ is deprecated, and its behavior will change in a future version of pytorch. It currently rounds toward 0 (like the 'trunc' function NOT 'floor'). This results in incorrect rounding for negative values. To keep the current behavior, use torch.div(a, b, rounding_mode='trunc'), or for actual floor division, use torch.div(a, b, rounding_mode='floor').\n",
      "  max_size = (max_size + (stride - 1)) // stride * stride\n",
      " 72%|███████▏  | 36/50 [16:37<06:25, 27.56s/it]/home/proto/miniconda3/envs/vision-stretcher/lib/python3.9/site-packages/detectron2/structures/image_list.py:88: UserWarning: __floordiv__ is deprecated, and its behavior will change in a future version of pytorch. It currently rounds toward 0 (like the 'trunc' function NOT 'floor'). This results in incorrect rounding for negative values. To keep the current behavior, use torch.div(a, b, rounding_mode='trunc'), or for actual floor division, use torch.div(a, b, rounding_mode='floor').\n",
      "  max_size = (max_size + (stride - 1)) // stride * stride\n",
      " 74%|███████▍  | 37/50 [17:04<05:55, 27.36s/it]/home/proto/miniconda3/envs/vision-stretcher/lib/python3.9/site-packages/detectron2/structures/image_list.py:88: UserWarning: __floordiv__ is deprecated, and its behavior will change in a future version of pytorch. It currently rounds toward 0 (like the 'trunc' function NOT 'floor'). This results in incorrect rounding for negative values. To keep the current behavior, use torch.div(a, b, rounding_mode='trunc'), or for actual floor division, use torch.div(a, b, rounding_mode='floor').\n",
      "  max_size = (max_size + (stride - 1)) // stride * stride\n",
      " 76%|███████▌  | 38/50 [17:31<05:26, 27.20s/it]/home/proto/miniconda3/envs/vision-stretcher/lib/python3.9/site-packages/detectron2/structures/image_list.py:88: UserWarning: __floordiv__ is deprecated, and its behavior will change in a future version of pytorch. It currently rounds toward 0 (like the 'trunc' function NOT 'floor'). This results in incorrect rounding for negative values. To keep the current behavior, use torch.div(a, b, rounding_mode='trunc'), or for actual floor division, use torch.div(a, b, rounding_mode='floor').\n",
      "  max_size = (max_size + (stride - 1)) // stride * stride\n",
      " 78%|███████▊  | 39/50 [17:57<04:57, 27.08s/it]/home/proto/miniconda3/envs/vision-stretcher/lib/python3.9/site-packages/detectron2/structures/image_list.py:88: UserWarning: __floordiv__ is deprecated, and its behavior will change in a future version of pytorch. It currently rounds toward 0 (like the 'trunc' function NOT 'floor'). This results in incorrect rounding for negative values. To keep the current behavior, use torch.div(a, b, rounding_mode='trunc'), or for actual floor division, use torch.div(a, b, rounding_mode='floor').\n",
      "  max_size = (max_size + (stride - 1)) // stride * stride\n",
      " 82%|████████▏ | 41/50 [18:51<04:02, 26.98s/it]/home/proto/miniconda3/envs/vision-stretcher/lib/python3.9/site-packages/detectron2/structures/image_list.py:88: UserWarning: __floordiv__ is deprecated, and its behavior will change in a future version of pytorch. It currently rounds toward 0 (like the 'trunc' function NOT 'floor'). This results in incorrect rounding for negative values. To keep the current behavior, use torch.div(a, b, rounding_mode='trunc'), or for actual floor division, use torch.div(a, b, rounding_mode='floor').\n",
      "  max_size = (max_size + (stride - 1)) // stride * stride\n",
      " 84%|████████▍ | 42/50 [19:18<03:35, 26.96s/it]/home/proto/miniconda3/envs/vision-stretcher/lib/python3.9/site-packages/detectron2/structures/image_list.py:88: UserWarning: __floordiv__ is deprecated, and its behavior will change in a future version of pytorch. It currently rounds toward 0 (like the 'trunc' function NOT 'floor'). This results in incorrect rounding for negative values. To keep the current behavior, use torch.div(a, b, rounding_mode='trunc'), or for actual floor division, use torch.div(a, b, rounding_mode='floor').\n",
      "  max_size = (max_size + (stride - 1)) // stride * stride\n",
      " 88%|████████▊ | 44/50 [20:12<02:41, 26.95s/it]/home/proto/miniconda3/envs/vision-stretcher/lib/python3.9/site-packages/detectron2/structures/image_list.py:88: UserWarning: __floordiv__ is deprecated, and its behavior will change in a future version of pytorch. It currently rounds toward 0 (like the 'trunc' function NOT 'floor'). This results in incorrect rounding for negative values. To keep the current behavior, use torch.div(a, b, rounding_mode='trunc'), or for actual floor division, use torch.div(a, b, rounding_mode='floor').\n",
      "  max_size = (max_size + (stride - 1)) // stride * stride\n",
      " 92%|█████████▏| 46/50 [21:06<01:47, 26.93s/it]/home/proto/miniconda3/envs/vision-stretcher/lib/python3.9/site-packages/detectron2/structures/image_list.py:88: UserWarning: __floordiv__ is deprecated, and its behavior will change in a future version of pytorch. It currently rounds toward 0 (like the 'trunc' function NOT 'floor'). This results in incorrect rounding for negative values. To keep the current behavior, use torch.div(a, b, rounding_mode='trunc'), or for actual floor division, use torch.div(a, b, rounding_mode='floor').\n",
      "  max_size = (max_size + (stride - 1)) // stride * stride\n",
      " 94%|█████████▍| 47/50 [21:33<01:20, 26.92s/it]/home/proto/miniconda3/envs/vision-stretcher/lib/python3.9/site-packages/detectron2/structures/image_list.py:88: UserWarning: __floordiv__ is deprecated, and its behavior will change in a future version of pytorch. It currently rounds toward 0 (like the 'trunc' function NOT 'floor'). This results in incorrect rounding for negative values. To keep the current behavior, use torch.div(a, b, rounding_mode='trunc'), or for actual floor division, use torch.div(a, b, rounding_mode='floor').\n",
      "  max_size = (max_size + (stride - 1)) // stride * stride\n",
      " 96%|█████████▌| 48/50 [21:59<00:53, 26.89s/it]/home/proto/miniconda3/envs/vision-stretcher/lib/python3.9/site-packages/detectron2/structures/image_list.py:88: UserWarning: __floordiv__ is deprecated, and its behavior will change in a future version of pytorch. It currently rounds toward 0 (like the 'trunc' function NOT 'floor'). This results in incorrect rounding for negative values. To keep the current behavior, use torch.div(a, b, rounding_mode='trunc'), or for actual floor division, use torch.div(a, b, rounding_mode='floor').\n",
      "  max_size = (max_size + (stride - 1)) // stride * stride\n",
      " 98%|█████████▊| 49/50 [22:26<00:26, 26.90s/it]/home/proto/miniconda3/envs/vision-stretcher/lib/python3.9/site-packages/detectron2/structures/image_list.py:88: UserWarning: __floordiv__ is deprecated, and its behavior will change in a future version of pytorch. It currently rounds toward 0 (like the 'trunc' function NOT 'floor'). This results in incorrect rounding for negative values. To keep the current behavior, use torch.div(a, b, rounding_mode='trunc'), or for actual floor division, use torch.div(a, b, rounding_mode='floor').\n",
      "  max_size = (max_size + (stride - 1)) // stride * stride\n",
      "100%|██████████| 50/50 [22:53<00:00, 27.47s/it]\n"
     ]
    }
   ],
   "source": [
    "stats[1.5] = measure_recomposition(images, [256, 384], predictor, coi)"
   ]
  },
  {
   "cell_type": "code",
   "execution_count": 16,
   "metadata": {},
   "outputs": [
    {
     "data": {
      "text/plain": [
       "{0.5: {'unmasked': [0.6804364770070148,\n",
       "   0.0,\n",
       "   1.0,\n",
       "   0.47024163387849305,\n",
       "   1.0,\n",
       "   0.3838262221887777,\n",
       "   1.0,\n",
       "   0.0,\n",
       "   1.0,\n",
       "   1.0,\n",
       "   0.6330809101132525,\n",
       "   0.0,\n",
       "   0.8223708547591251,\n",
       "   0.8124484793580118,\n",
       "   0.0,\n",
       "   1.0,\n",
       "   0.9426751592356688,\n",
       "   0.44747682801235833,\n",
       "   1.0,\n",
       "   1.0,\n",
       "   0.7089901972549899,\n",
       "   1.0,\n",
       "   1.0,\n",
       "   1.0,\n",
       "   1.0,\n",
       "   0.7335905943617657,\n",
       "   0.0,\n",
       "   0.7873652837143498,\n",
       "   0.8827815919962204,\n",
       "   0.48605593516605755,\n",
       "   1.0,\n",
       "   0.4862661543337538,\n",
       "   0.0,\n",
       "   0.563116749967961,\n",
       "   0.42681698248980576,\n",
       "   0.5920299969893532,\n",
       "   0.4107040641099027,\n",
       "   0.5208900808783472,\n",
       "   0.7460650577124869,\n",
       "   1.0,\n",
       "   0.575,\n",
       "   0.6811279826464208,\n",
       "   1.0,\n",
       "   0.9178522257916475,\n",
       "   1.0,\n",
       "   0.4479889042995839,\n",
       "   0.3583297227210287,\n",
       "   0.5236292174977346,\n",
       "   0.4125797547325952,\n",
       "   0.4523760543098128],\n",
       "  'masked': [1.0,\n",
       "   0.0,\n",
       "   1.0,\n",
       "   0.0,\n",
       "   1.0,\n",
       "   0.3799444339800339,\n",
       "   1.0,\n",
       "   0.0,\n",
       "   1.0,\n",
       "   1.0,\n",
       "   1.0,\n",
       "   0.5913631022326674,\n",
       "   1.0,\n",
       "   1.0,\n",
       "   1.0,\n",
       "   1.0,\n",
       "   1.0,\n",
       "   1.0,\n",
       "   1.0,\n",
       "   1.0,\n",
       "   1.0,\n",
       "   1.0,\n",
       "   1.0,\n",
       "   1.0,\n",
       "   1.0,\n",
       "   0.0,\n",
       "   0.0,\n",
       "   0.8591850218145759,\n",
       "   1.0,\n",
       "   0.6744167401587429,\n",
       "   1.0,\n",
       "   1.0,\n",
       "   1.0,\n",
       "   1.0,\n",
       "   0.9636600260286315,\n",
       "   0.6889757278881612,\n",
       "   1.0,\n",
       "   0.6462774989623034,\n",
       "   1.0,\n",
       "   1.0,\n",
       "   1.0,\n",
       "   1.0,\n",
       "   1.0,\n",
       "   1.0,\n",
       "   1.0,\n",
       "   1.0,\n",
       "   1.0,\n",
       "   1.0,\n",
       "   0.0,\n",
       "   1.0]},\n",
       " 0.75: {'unmasked': [0.8717848791893998,\n",
       "   0.8566260682534049,\n",
       "   1.0,\n",
       "   0.6948470117675934,\n",
       "   1.0,\n",
       "   0.6690462592804112,\n",
       "   1.0,\n",
       "   0.0,\n",
       "   1.0,\n",
       "   1.0,\n",
       "   0.8091008948345692,\n",
       "   0.7494002711817265,\n",
       "   0.9366702427297323,\n",
       "   0.9622175517257484,\n",
       "   0.3863524791359843,\n",
       "   1.0,\n",
       "   0.9904458598726115,\n",
       "   0.7632754994742377,\n",
       "   1.0,\n",
       "   1.0,\n",
       "   0.8816306691602024,\n",
       "   1.0,\n",
       "   1.0,\n",
       "   1.0,\n",
       "   1.0,\n",
       "   0.8960031324279244,\n",
       "   0.6464810636533734,\n",
       "   0.9489932829093003,\n",
       "   1.0,\n",
       "   0.7217912834866054,\n",
       "   1.0,\n",
       "   0.657935955681996,\n",
       "   0.0,\n",
       "   0.9636169346631387,\n",
       "   0.5666932719846002,\n",
       "   0.7929133219816752,\n",
       "   0.7580351728320194,\n",
       "   0.8146005275248872,\n",
       "   0.8188346883468836,\n",
       "   1.0,\n",
       "   0.8716452742123687,\n",
       "   0.8275488069414316,\n",
       "   1.0,\n",
       "   0.9998439815898276,\n",
       "   1.0,\n",
       "   0.6289655172413793,\n",
       "   0.5952702087886541,\n",
       "   0.6648473993168104,\n",
       "   0.0,\n",
       "   0.6834698592732619],\n",
       "  'masked': [1.0,\n",
       "   0.0,\n",
       "   1.0,\n",
       "   1.0,\n",
       "   1.0,\n",
       "   0.6451495258935084,\n",
       "   1.0,\n",
       "   0.0,\n",
       "   1.0,\n",
       "   1.0,\n",
       "   1.0,\n",
       "   0.9452157197778727,\n",
       "   1.0,\n",
       "   1.0,\n",
       "   1.0,\n",
       "   1.0,\n",
       "   1.0,\n",
       "   1.0,\n",
       "   1.0,\n",
       "   1.0,\n",
       "   1.0,\n",
       "   1.0,\n",
       "   1.0,\n",
       "   1.0,\n",
       "   1.0,\n",
       "   1.0,\n",
       "   0.0,\n",
       "   1.0,\n",
       "   1.0,\n",
       "   0.9430155301023112,\n",
       "   1.0,\n",
       "   1.0,\n",
       "   1.0,\n",
       "   1.0,\n",
       "   1.0,\n",
       "   0.8549460576458591,\n",
       "   1.0,\n",
       "   1.0,\n",
       "   1.0,\n",
       "   1.0,\n",
       "   1.0,\n",
       "   1.0,\n",
       "   1.0,\n",
       "   1.0,\n",
       "   1.0,\n",
       "   1.0,\n",
       "   1.0,\n",
       "   1.0,\n",
       "   1.0,\n",
       "   1.0]},\n",
       " 0.875: {'unmasked': [0.9816835541699143,\n",
       "   0.9546337786890177,\n",
       "   1.0,\n",
       "   0.8288037999300305,\n",
       "   1.0,\n",
       "   0.8285463772351676,\n",
       "   1.0,\n",
       "   0.9459407182811438,\n",
       "   1.0,\n",
       "   1.0,\n",
       "   0.8886468384210454,\n",
       "   0.8751274389172087,\n",
       "   0.9589536391273248,\n",
       "   0.9903160128634608,\n",
       "   0.492409402546523,\n",
       "   1.0,\n",
       "   1.0,\n",
       "   0.8294954721862872,\n",
       "   1.0,\n",
       "   1.0,\n",
       "   0.9989698155969918,\n",
       "   1.0,\n",
       "   1.0,\n",
       "   1.0,\n",
       "   1.0,\n",
       "   0.9750637407027791,\n",
       "   0.7940422828011365,\n",
       "   0.9995101880877743,\n",
       "   1.0,\n",
       "   0.8498726706819192,\n",
       "   1.0,\n",
       "   0.7780478569562773,\n",
       "   0.0,\n",
       "   1.0,\n",
       "   0.7206417624521073,\n",
       "   0.8818191609672034,\n",
       "   1.0,\n",
       "   0.9412043010752689,\n",
       "   1.0,\n",
       "   1.0,\n",
       "   1.0,\n",
       "   0.8275488069414316,\n",
       "   1.0,\n",
       "   1.0,\n",
       "   1.0,\n",
       "   0.8515219005196734,\n",
       "   0.7629897561859621,\n",
       "   0.7952493466116932,\n",
       "   0.9487682467255368,\n",
       "   0.8405639913232104],\n",
       "  'masked': [1.0,\n",
       "   1.0,\n",
       "   1.0,\n",
       "   1.0,\n",
       "   1.0,\n",
       "   0.8298201707990402,\n",
       "   1.0,\n",
       "   1.0,\n",
       "   1.0,\n",
       "   1.0,\n",
       "   1.0,\n",
       "   1.0,\n",
       "   1.0,\n",
       "   1.0,\n",
       "   1.0,\n",
       "   1.0,\n",
       "   1.0,\n",
       "   1.0,\n",
       "   1.0,\n",
       "   1.0,\n",
       "   1.0,\n",
       "   1.0,\n",
       "   1.0,\n",
       "   1.0,\n",
       "   1.0,\n",
       "   1.0,\n",
       "   1.0,\n",
       "   1.0,\n",
       "   1.0,\n",
       "   1.0,\n",
       "   1.0,\n",
       "   1.0,\n",
       "   1.0,\n",
       "   1.0,\n",
       "   1.0,\n",
       "   0.9661482661977249,\n",
       "   1.0,\n",
       "   1.0,\n",
       "   1.0,\n",
       "   1.0,\n",
       "   1.0,\n",
       "   1.0,\n",
       "   1.0,\n",
       "   1.0,\n",
       "   1.0,\n",
       "   1.0,\n",
       "   1.0,\n",
       "   1.0,\n",
       "   1.0,\n",
       "   1.0]},\n",
       " 1.125: {'unmasked': [0.9820130118637581,\n",
       "   0.9510420145702421,\n",
       "   1.0,\n",
       "   0.8411237004650988,\n",
       "   1.0,\n",
       "   0.8459711700586573,\n",
       "   1.0,\n",
       "   0.9520605068125874,\n",
       "   1.0,\n",
       "   1.0,\n",
       "   0.8909789680455896,\n",
       "   0.8655889446581058,\n",
       "   0.9617830086580087,\n",
       "   0.9874747540262936,\n",
       "   0.6150605581885202,\n",
       "   1.0,\n",
       "   1.0,\n",
       "   0.6232890704800818,\n",
       "   1.0,\n",
       "   1.0,\n",
       "   0.998470786134659,\n",
       "   1.0,\n",
       "   1.0,\n",
       "   1.0,\n",
       "   1.0,\n",
       "   0.9753117251623873,\n",
       "   0.8196126571485489,\n",
       "   0.9983381559719796,\n",
       "   1.0,\n",
       "   0.8563409409853017,\n",
       "   1.0,\n",
       "   0.8132875895857987,\n",
       "   0.7650793560539652,\n",
       "   0.9803509639149777,\n",
       "   0.7623501781665047,\n",
       "   0.8770061534597513,\n",
       "   1.0,\n",
       "   0.9238450433108758,\n",
       "   1.0,\n",
       "   1.0,\n",
       "   1.0,\n",
       "   0.8487155090390105,\n",
       "   1.0,\n",
       "   1.0,\n",
       "   1.0,\n",
       "   0.8454011741682974,\n",
       "   0.8158878937345339,\n",
       "   0.8263474797120129,\n",
       "   0.9514812292918272,\n",
       "   0.8455368161250514],\n",
       "  'masked': [1.0,\n",
       "   0.9895698681847709,\n",
       "   1.0,\n",
       "   0.9986682440013496,\n",
       "   1.0,\n",
       "   0.8322035942588348,\n",
       "   1.0,\n",
       "   0.974805957126749,\n",
       "   1.0,\n",
       "   1.0,\n",
       "   0.998448529982158,\n",
       "   0.9567215897036985,\n",
       "   0.9996300662118781,\n",
       "   0.9993947508039663,\n",
       "   1.0,\n",
       "   1.0,\n",
       "   1.0,\n",
       "   1.0,\n",
       "   1.0,\n",
       "   1.0,\n",
       "   0.9998970643054343,\n",
       "   1.0,\n",
       "   1.0,\n",
       "   1.0,\n",
       "   1.0,\n",
       "   1.0,\n",
       "   0.9982971988934062,\n",
       "   1.0,\n",
       "   1.0,\n",
       "   0.9829073944098097,\n",
       "   1.0,\n",
       "   1.0,\n",
       "   0.8654494064181838,\n",
       "   0.9803509639149777,\n",
       "   0.9618060695780902,\n",
       "   0.977187237842665,\n",
       "   1.0,\n",
       "   0.981309604904632,\n",
       "   1.0,\n",
       "   1.0,\n",
       "   1.0,\n",
       "   1.0,\n",
       "   1.0,\n",
       "   1.0,\n",
       "   1.0,\n",
       "   1.0,\n",
       "   1.0,\n",
       "   0.9990798558229262,\n",
       "   0.9994695479625634,\n",
       "   1.0]},\n",
       " 1.25: {'unmasked': [0.8854382332643201,\n",
       "   0.8780738591999516,\n",
       "   1.0,\n",
       "   0.735345216785068,\n",
       "   1.0,\n",
       "   0.729783700838711,\n",
       "   1.0,\n",
       "   0.9119542477609286,\n",
       "   1.0,\n",
       "   1.0,\n",
       "   0.8019185339050935,\n",
       "   0.7706516312806507,\n",
       "   0.9110192044548885,\n",
       "   0.8787989108181259,\n",
       "   0.560562015503876,\n",
       "   1.0,\n",
       "   0.7301720425232903,\n",
       "   0.6361574119735675,\n",
       "   1.0,\n",
       "   1.0,\n",
       "   0.8909716378791168,\n",
       "   1.0,\n",
       "   1.0,\n",
       "   1.0,\n",
       "   1.0,\n",
       "   0.8981101549634888,\n",
       "   0.7157248326229124,\n",
       "   0.9545657298322907,\n",
       "   1.0,\n",
       "   0.756476683937824,\n",
       "   1.0,\n",
       "   0.7357519978863577,\n",
       "   0.6151025673060273,\n",
       "   0.858732682262094,\n",
       "   0.6400988351570773,\n",
       "   0.7976220418429175,\n",
       "   0.7503348513260113,\n",
       "   0.8113654860054493,\n",
       "   0.8682839912280702,\n",
       "   1.0,\n",
       "   0.9310344827586207,\n",
       "   0.839134524929445,\n",
       "   1.0,\n",
       "   1.0,\n",
       "   1.0,\n",
       "   0.7269029633933759,\n",
       "   0.7082192828836918,\n",
       "   0.699990120133913,\n",
       "   0.7848536387805285,\n",
       "   0.7256523337008453],\n",
       "  'masked': [1.0,\n",
       "   0.9150441103511024,\n",
       "   1.0,\n",
       "   0.9947371106757869,\n",
       "   1.0,\n",
       "   0.6823431992865939,\n",
       "   1.0,\n",
       "   0.9333439306130854,\n",
       "   1.0,\n",
       "   1.0,\n",
       "   0.9531154478324585,\n",
       "   0.8605264894108333,\n",
       "   0.9834717856348059,\n",
       "   0.8567246824337994,\n",
       "   0.998950406717397,\n",
       "   1.0,\n",
       "   0.7370043147729608,\n",
       "   1.0,\n",
       "   1.0,\n",
       "   1.0,\n",
       "   0.9982648465991056,\n",
       "   1.0,\n",
       "   1.0,\n",
       "   1.0,\n",
       "   1.0,\n",
       "   0.9980007554720989,\n",
       "   0.982802791137167,\n",
       "   0.9863302292363192,\n",
       "   1.0,\n",
       "   0.9848864429750709,\n",
       "   1.0,\n",
       "   0.9995896076303926,\n",
       "   0.7673390942558747,\n",
       "   0.9015277974047085,\n",
       "   0.9627145393568751,\n",
       "   0.8696514452873221,\n",
       "   0.9987021414665801,\n",
       "   0.899520948359857,\n",
       "   1.0,\n",
       "   1.0,\n",
       "   1.0,\n",
       "   1.0,\n",
       "   1.0,\n",
       "   1.0,\n",
       "   1.0,\n",
       "   0.9925373134328359,\n",
       "   0.9661892737017062,\n",
       "   0.940337233801801,\n",
       "   0.8899779989207294,\n",
       "   1.0]},\n",
       " 1.5: {'unmasked': [0.7041712403951701,\n",
       "   0.7085930894858532,\n",
       "   1.0,\n",
       "   0.6147875751567755,\n",
       "   1.0,\n",
       "   0.5660677890626338,\n",
       "   1.0,\n",
       "   0.7226648546733261,\n",
       "   1.0,\n",
       "   1.0,\n",
       "   0.6481048664921969,\n",
       "   0.6194223225959823,\n",
       "   0.8202002773517295,\n",
       "   0.7332185817774274,\n",
       "   0.5025132845038058,\n",
       "   1.0,\n",
       "   0.6367537834999357,\n",
       "   0.605211448099103,\n",
       "   1.0,\n",
       "   1.0,\n",
       "   0.7838878538363016,\n",
       "   1.0,\n",
       "   1.0,\n",
       "   1.0,\n",
       "   1.0,\n",
       "   0.7626438561837626,\n",
       "   0.5639567645025956,\n",
       "   0.8681524256090037,\n",
       "   0.8826473021301516,\n",
       "   0.6137672498098447,\n",
       "   1.0,\n",
       "   0.6746643070324955,\n",
       "   0.5232245825450943,\n",
       "   0.5020416004926972,\n",
       "   0.5297151495390817,\n",
       "   0.6990951990951991,\n",
       "   0.5122820919175911,\n",
       "   0.6422899200354169,\n",
       "   0.7511450381679389,\n",
       "   1.0,\n",
       "   0.7415329768270946,\n",
       "   0.6268996960486323,\n",
       "   1.0,\n",
       "   0.8946572580645161,\n",
       "   1.0,\n",
       "   0.5967976710334789,\n",
       "   0.59765677826269,\n",
       "   0.5706925130568352,\n",
       "   0.5070211180299821,\n",
       "   0.6106725607830754],\n",
       "  'masked': [1.0,\n",
       "   0.7742198432625966,\n",
       "   1.0,\n",
       "   0.882713113919482,\n",
       "   1.0,\n",
       "   0.5366493520121727,\n",
       "   1.0,\n",
       "   0.725202919692243,\n",
       "   1.0,\n",
       "   1.0,\n",
       "   0.8320094684198593,\n",
       "   0.6772793853467097,\n",
       "   0.9080345501227489,\n",
       "   0.6829660850247988,\n",
       "   0.9952941176470588,\n",
       "   1.0,\n",
       "   0.6615511055617899,\n",
       "   0.9986761980407731,\n",
       "   1.0,\n",
       "   1.0,\n",
       "   0.9914242756202596,\n",
       "   1.0,\n",
       "   1.0,\n",
       "   1.0,\n",
       "   1.0,\n",
       "   0.9014748068331719,\n",
       "   0.8432505652253156,\n",
       "   0.8926453604731789,\n",
       "   0.9977810673733891,\n",
       "   0.7776724021135346,\n",
       "   1.0,\n",
       "   0.9141801820488069,\n",
       "   0.6082988730705865,\n",
       "   0.6775057672715997,\n",
       "   0.8442144615665177,\n",
       "   0.7697096767292099,\n",
       "   0.7735635437305407,\n",
       "   0.9016491395793499,\n",
       "   0.8704470198675497,\n",
       "   1.0,\n",
       "   0.9278579356270811,\n",
       "   0.7263450834879406,\n",
       "   1.0,\n",
       "   0.9983644859813084,\n",
       "   1.0,\n",
       "   0.9895833333333335,\n",
       "   0.8746516290704331,\n",
       "   0.8604257915776333,\n",
       "   0.6320006352121101,\n",
       "   0.9997711146715496]}}"
      ]
     },
     "execution_count": 16,
     "metadata": {},
     "output_type": "execute_result"
    }
   ],
   "source": [
    "stats"
   ]
  },
  {
   "cell_type": "code",
   "execution_count": 17,
   "metadata": {},
   "outputs": [],
   "source": [
    "with open(\"data/recomposition_stats.json\", \"w\") as f:\n",
    "    json.dump(stats, f)"
   ]
  },
  {
   "cell_type": "code",
   "execution_count": 20,
   "metadata": {},
   "outputs": [],
   "source": [
    "df = pd.DataFrame(stats)"
   ]
  },
  {
   "cell_type": "code",
   "execution_count": 58,
   "metadata": {},
   "outputs": [],
   "source": [
    "df2 = df.unstack().apply(pd.Series).reset_index().melt(id_vars=[\"level_0\", \"level_1\"]).rename(columns={\"level_0\": \"ratio\",\"level_1\": \"method\",\"variable\": \"photo\", \"value\": \"score\"})"
   ]
  },
  {
   "cell_type": "code",
   "execution_count": 64,
   "metadata": {},
   "outputs": [
    {
     "data": {
      "text/html": [
       "<div>\n",
       "<style scoped>\n",
       "    .dataframe tbody tr th:only-of-type {\n",
       "        vertical-align: middle;\n",
       "    }\n",
       "\n",
       "    .dataframe tbody tr th {\n",
       "        vertical-align: top;\n",
       "    }\n",
       "\n",
       "    .dataframe thead th {\n",
       "        text-align: right;\n",
       "    }\n",
       "</style>\n",
       "<table border=\"1\" class=\"dataframe\">\n",
       "  <thead>\n",
       "    <tr style=\"text-align: right;\">\n",
       "      <th></th>\n",
       "      <th>ratio</th>\n",
       "      <th>method</th>\n",
       "      <th>photo</th>\n",
       "      <th>score</th>\n",
       "    </tr>\n",
       "  </thead>\n",
       "  <tbody>\n",
       "    <tr>\n",
       "      <th>0</th>\n",
       "      <td>0.500</td>\n",
       "      <td>masked</td>\n",
       "      <td>37</td>\n",
       "      <td>37</td>\n",
       "    </tr>\n",
       "    <tr>\n",
       "      <th>1</th>\n",
       "      <td>0.500</td>\n",
       "      <td>unmasked</td>\n",
       "      <td>16</td>\n",
       "      <td>16</td>\n",
       "    </tr>\n",
       "    <tr>\n",
       "      <th>2</th>\n",
       "      <td>0.750</td>\n",
       "      <td>masked</td>\n",
       "      <td>43</td>\n",
       "      <td>43</td>\n",
       "    </tr>\n",
       "    <tr>\n",
       "      <th>3</th>\n",
       "      <td>0.750</td>\n",
       "      <td>unmasked</td>\n",
       "      <td>17</td>\n",
       "      <td>17</td>\n",
       "    </tr>\n",
       "    <tr>\n",
       "      <th>4</th>\n",
       "      <td>0.875</td>\n",
       "      <td>masked</td>\n",
       "      <td>48</td>\n",
       "      <td>48</td>\n",
       "    </tr>\n",
       "    <tr>\n",
       "      <th>5</th>\n",
       "      <td>0.875</td>\n",
       "      <td>unmasked</td>\n",
       "      <td>23</td>\n",
       "      <td>23</td>\n",
       "    </tr>\n",
       "    <tr>\n",
       "      <th>6</th>\n",
       "      <td>1.125</td>\n",
       "      <td>masked</td>\n",
       "      <td>32</td>\n",
       "      <td>32</td>\n",
       "    </tr>\n",
       "    <tr>\n",
       "      <th>7</th>\n",
       "      <td>1.125</td>\n",
       "      <td>unmasked</td>\n",
       "      <td>22</td>\n",
       "      <td>22</td>\n",
       "    </tr>\n",
       "    <tr>\n",
       "      <th>8</th>\n",
       "      <td>1.250</td>\n",
       "      <td>masked</td>\n",
       "      <td>24</td>\n",
       "      <td>24</td>\n",
       "    </tr>\n",
       "    <tr>\n",
       "      <th>9</th>\n",
       "      <td>1.250</td>\n",
       "      <td>unmasked</td>\n",
       "      <td>18</td>\n",
       "      <td>18</td>\n",
       "    </tr>\n",
       "    <tr>\n",
       "      <th>10</th>\n",
       "      <td>1.500</td>\n",
       "      <td>masked</td>\n",
       "      <td>17</td>\n",
       "      <td>17</td>\n",
       "    </tr>\n",
       "    <tr>\n",
       "      <th>11</th>\n",
       "      <td>1.500</td>\n",
       "      <td>unmasked</td>\n",
       "      <td>16</td>\n",
       "      <td>16</td>\n",
       "    </tr>\n",
       "  </tbody>\n",
       "</table>\n",
       "</div>"
      ],
      "text/plain": [
       "    ratio    method  photo  score\n",
       "0   0.500    masked     37     37\n",
       "1   0.500  unmasked     16     16\n",
       "2   0.750    masked     43     43\n",
       "3   0.750  unmasked     17     17\n",
       "4   0.875    masked     48     48\n",
       "5   0.875  unmasked     23     23\n",
       "6   1.125    masked     32     32\n",
       "7   1.125  unmasked     22     22\n",
       "8   1.250    masked     24     24\n",
       "9   1.250  unmasked     18     18\n",
       "10  1.500    masked     17     17\n",
       "11  1.500  unmasked     16     16"
      ]
     },
     "execution_count": 64,
     "metadata": {},
     "output_type": "execute_result"
    }
   ],
   "source": [
    "df2[df2[\"score\"] == 1.].groupby([\"ratio\", \"method\"]).count().reset_index()"
   ]
  },
  {
   "cell_type": "code",
   "execution_count": 69,
   "metadata": {},
   "outputs": [
    {
     "data": {
      "text/plain": [
       "<AxesSubplot: xlabel='ratio', ylabel='score'>"
      ]
     },
     "execution_count": 69,
     "metadata": {},
     "output_type": "execute_result"
    },
    {
     "data": {
      "image/png": "[encoded data removed]",
      "text/plain": [
       "<Figure size 1080x864 with 1 Axes>"
      ]
     },
     "metadata": {},
     "output_type": "display_data"
    }
   ],
   "source": [
    "sns.barplot(data=df2[df2[\"score\"] >= 1.].groupby([\"ratio\", \"method\"]).count().reset_index(), x=\"ratio\", y=\"score\", hue=\"method\")"
   ]
  },
  {
   "cell_type": "code",
   "execution_count": 60,
   "metadata": {},
   "outputs": [
    {
     "data": {
      "image/png": "[encoded data removed]",
      "text/plain": [
       "<Figure size 1080x864 with 1 Axes>"
      ]
     },
     "metadata": {},
     "output_type": "display_data"
    }
   ],
   "source": [
    "gfg = sns.swarmplot(data=df2[df2[\"score\"] != 1.], x=\"ratio\", y=\"score\", hue=\"method\", dodge=True)\n",
    "# gfg.set(ylabel=\"wartość metryki\")"
   ]
  },
  {
   "cell_type": "code",
   "execution_count": 9,
   "metadata": {},
   "outputs": [
    {
     "data": {
      "text/plain": [
       "[[0.7514912712745581,\n",
       "  0.7707317073170732,\n",
       "  1.0,\n",
       "  0.5362904269918952,\n",
       "  0.7133928155537105,\n",
       "  1.0,\n",
       "  0.8967637348991917,\n",
       "  0.7432096696094822,\n",
       "  0.8493975903614458,\n",
       "  0.802165725047081,\n",
       "  1.0,\n",
       "  0.6770327672234155,\n",
       "  1.0,\n",
       "  0.680723113816639,\n",
       "  0.9217081850533808,\n",
       "  0.7215930538211827,\n",
       "  1.0,\n",
       "  0.5542924553595368,\n",
       "  0.7210191769015298,\n",
       "  0.9173789173789174,\n",
       "  0.7739932864903658,\n",
       "  1.0,\n",
       "  1.0,\n",
       "  0.836462918144209,\n",
       "  0.9134623486779798,\n",
       "  1.0,\n",
       "  1.0,\n",
       "  1.0,\n",
       "  0.8199261992619926,\n",
       "  0.7615473956915497,\n",
       "  0.9441955953714072,\n",
       "  1.0,\n",
       "  0.7436378024907326,\n",
       "  0.6863260817804041,\n",
       "  1.0,\n",
       "  0.7739760115463097,\n",
       "  0.8761537170666219,\n",
       "  0.612116090527372,\n",
       "  0.7819802140075763,\n",
       "  0.6476678284948295,\n",
       "  0.6610257933044387,\n",
       "  1.0,\n",
       "  0.9361128142244022,\n",
       "  0.9007307453168496,\n",
       "  1.0,\n",
       "  0.8187197417966648,\n",
       "  1.0,\n",
       "  0.9615384615384616,\n",
       "  0.746629627277522,\n",
       "  0.803742636017096],\n",
       " [0.7384624107041615,\n",
       "  0.92,\n",
       "  1.0,\n",
       "  0.4802105618736629,\n",
       "  0.9736876390280919,\n",
       "  1.0,\n",
       "  0.9642387564167884,\n",
       "  0.9347686801620868,\n",
       "  0.9942546114302994,\n",
       "  0.9994042743316702,\n",
       "  1.0,\n",
       "  0.8672876410583714,\n",
       "  1.0,\n",
       "  0.712320773591197,\n",
       "  0.9232142857142858,\n",
       "  0.9071445263118638,\n",
       "  1.0,\n",
       "  0.9619336758524054,\n",
       "  0.9964887137226801,\n",
       "  0.9989827060020345,\n",
       "  0.8977413579396777,\n",
       "  1.0,\n",
       "  1.0,\n",
       "  0.8787853707266794,\n",
       "  0.9834479165383286,\n",
       "  1.0,\n",
       "  1.0,\n",
       "  1.0,\n",
       "  0.947911227154047,\n",
       "  0.8797369716596475,\n",
       "  1.0,\n",
       "  1.0,\n",
       "  0.75793334396428,\n",
       "  0.996441172582501,\n",
       "  1.0,\n",
       "  0.7956255943485939,\n",
       "  1.0,\n",
       "  0.6491921320688444,\n",
       "  0.9307793413734121,\n",
       "  0.9110664538498983,\n",
       "  0.9648279393820611,\n",
       "  1.0,\n",
       "  1.0,\n",
       "  1.0,\n",
       "  1.0,\n",
       "  0.9999404797333491,\n",
       "  1.0,\n",
       "  1.0,\n",
       "  0.9589479169964277,\n",
       "  0.978151735841052]]"
      ]
     },
     "execution_count": 9,
     "metadata": {},
     "output_type": "execute_result"
    }
   ],
   "source": [
    "stats"
   ]
  },
  {
   "cell_type": "code",
   "execution_count": 10,
   "metadata": {},
   "outputs": [
    {
     "data": {
      "text/plain": [
       "[Text(59.125, 0.5, 'wartość metryki')]"
      ]
     },
     "execution_count": 10,
     "metadata": {},
     "output_type": "execute_result"
    },
    {
     "data": {
      "image/png": "[encoded data removed]",
      "text/plain": [
       "<Figure size 720x576 with 1 Axes>"
      ]
     },
     "metadata": {},
     "output_type": "display_data"
    }
   ],
   "source": [
    "stats = [[0.7514912712745581,\n",
    "  0.7707317073170732,\n",
    "  1.0,\n",
    "  0.5362904269918952,\n",
    "  0.7133928155537105,\n",
    "  1.0,\n",
    "  0.8967637348991917,\n",
    "  0.7432096696094822,\n",
    "  0.8493975903614458,\n",
    "  0.802165725047081,\n",
    "  1.0,\n",
    "  0.6770327672234155,\n",
    "  1.0,\n",
    "  0.680723113816639,\n",
    "  0.9217081850533808,\n",
    "  0.7215930538211827,\n",
    "  1.0,\n",
    "  0.5542924553595368,\n",
    "  0.7210191769015298,\n",
    "  0.9173789173789174,\n",
    "  0.7739932864903658,\n",
    "  1.0,\n",
    "  1.0,\n",
    "  0.836462918144209,\n",
    "  0.9134623486779798,\n",
    "  1.0,\n",
    "  1.0,\n",
    "  1.0,\n",
    "  0.8199261992619926,\n",
    "  0.7615473956915497,\n",
    "  0.9441955953714072,\n",
    "  1.0,\n",
    "  0.7436378024907326,\n",
    "  0.6863260817804041,\n",
    "  1.0,\n",
    "  0.7739760115463097,\n",
    "  0.8761537170666219,\n",
    "  0.612116090527372,\n",
    "  0.7819802140075763,\n",
    "  0.6476678284948295,\n",
    "  0.6610257933044387,\n",
    "  1.0,\n",
    "  0.9361128142244022,\n",
    "  0.9007307453168496,\n",
    "  1.0,\n",
    "  0.8187197417966648,\n",
    "  1.0,\n",
    "  0.9615384615384616,\n",
    "  0.746629627277522,\n",
    "  0.803742636017096],\n",
    " [0.7384624107041615,\n",
    "  0.92,\n",
    "  1.0,\n",
    "  0.4802105618736629,\n",
    "  0.9736876390280919,\n",
    "  1.0,\n",
    "  0.9642387564167884,\n",
    "  0.9347686801620868,\n",
    "  0.9942546114302994,\n",
    "  0.9994042743316702,\n",
    "  1.0,\n",
    "  0.8672876410583714,\n",
    "  1.0,\n",
    "  0.712320773591197,\n",
    "  0.9232142857142858,\n",
    "  0.9071445263118638,\n",
    "  1.0,\n",
    "  0.9619336758524054,\n",
    "  0.9964887137226801,\n",
    "  0.9989827060020345,\n",
    "  0.8977413579396777,\n",
    "  1.0,\n",
    "  1.0,\n",
    "  0.8787853707266794,\n",
    "  0.9834479165383286,\n",
    "  1.0,\n",
    "  1.0,\n",
    "  1.0,\n",
    "  0.947911227154047,\n",
    "  0.8797369716596475,\n",
    "  1.0,\n",
    "  1.0,\n",
    "  0.75793334396428,\n",
    "  0.996441172582501,\n",
    "  1.0,\n",
    "  0.7956255943485939,\n",
    "  1.0,\n",
    "  0.6491921320688444,\n",
    "  0.9307793413734121,\n",
    "  0.9110664538498983,\n",
    "  0.9648279393820611,\n",
    "  1.0,\n",
    "  1.0,\n",
    "  1.0,\n",
    "  1.0,\n",
    "  0.9999404797333491,\n",
    "  1.0,\n",
    "  1.0,\n",
    "  0.9589479169964277,\n",
    "  0.978151735841052]]\n",
    "data = {\n",
    "  \"seam carving\": stats[0],\n",
    "  \"vision-stretcher\": stats[1]\n",
    "}\n",
    "gfg = sns.swarmplot(data=data)\n",
    "gfg.set(ylabel=\"wartość metryki\")"
   ]
  },
  {
   "attachments": {},
   "cell_type": "markdown",
   "metadata": {},
   "source": [
    "3"
   ]
  },
  {
   "cell_type": "code",
   "execution_count": 3,
   "metadata": {},
   "outputs": [],
   "source": [
    "with open(\"data/chunk4_dataset.pkl\", \"rb\") as f:\n",
    "    ds = pickle.load(f)"
   ]
  },
  {
   "cell_type": "code",
   "execution_count": 4,
   "metadata": {},
   "outputs": [],
   "source": [
    "BATCH_SIZE = 128\n",
    "\n",
    "train_len = int(len(ds) * 0.8)\n",
    "val_len = len(ds) - train_len\n",
    "train_ds, val_ds = random_split(ds, (train_len, val_len))\n",
    "train_dl = DataLoader(train_ds, BATCH_SIZE, shuffle=True, pin_memory=True)\n",
    "val_dl = DataLoader(val_ds, BATCH_SIZE, pin_memory=True)"
   ]
  },
  {
   "cell_type": "code",
   "execution_count": 6,
   "metadata": {},
   "outputs": [],
   "source": [
    "model = OutpainterNet().to(device)"
   ]
  },
  {
   "cell_type": "code",
   "execution_count": 6,
   "metadata": {},
   "outputs": [
    {
     "name": "stderr",
     "output_type": "stream",
     "text": [
      "100%|██████████| 39375/39375 [01:31<00:00, 428.53it/s]\n",
      "  2%|▏         | 1/50 [01:42<1:23:43, 102.53s/it]"
     ]
    },
    {
     "name": "stdout",
     "output_type": "stream",
     "text": [
      "Epoch 0: train loss = 0.012, val loss = 0.011\n"
     ]
    },
    {
     "name": "stderr",
     "output_type": "stream",
     "text": [
      "100%|██████████| 39375/39375 [01:28<00:00, 446.28it/s]\n",
      "  4%|▍         | 2/50 [03:21<1:20:17, 100.36s/it]"
     ]
    },
    {
     "name": "stdout",
     "output_type": "stream",
     "text": [
      "Epoch 1: train loss = 0.011, val loss = 0.011\n"
     ]
    },
    {
     "name": "stderr",
     "output_type": "stream",
     "text": [
      "100%|██████████| 39375/39375 [01:28<00:00, 443.66it/s]\n",
      "  6%|▌         | 3/50 [05:00<1:18:19, 99.99s/it] "
     ]
    },
    {
     "name": "stdout",
     "output_type": "stream",
     "text": [
      "Epoch 2: train loss = 0.011, val loss = 0.011\n"
     ]
    },
    {
     "name": "stderr",
     "output_type": "stream",
     "text": [
      "100%|██████████| 39375/39375 [01:30<00:00, 437.45it/s]\n",
      "  8%|▊         | 4/50 [06:41<1:16:50, 100.23s/it]"
     ]
    },
    {
     "name": "stdout",
     "output_type": "stream",
     "text": [
      "Epoch 3: train loss = 0.011, val loss = 0.011\n"
     ]
    },
    {
     "name": "stderr",
     "output_type": "stream",
     "text": [
      "100%|██████████| 39375/39375 [01:30<00:00, 434.69it/s]\n",
      " 10%|█         | 5/50 [08:22<1:15:25, 100.56s/it]"
     ]
    },
    {
     "name": "stdout",
     "output_type": "stream",
     "text": [
      "Epoch 4: train loss = 0.011, val loss = 0.011\n"
     ]
    },
    {
     "name": "stderr",
     "output_type": "stream",
     "text": [
      "100%|██████████| 39375/39375 [01:30<00:00, 432.89it/s]\n",
      " 12%|█▏        | 6/50 [10:04<1:13:59, 100.89s/it]"
     ]
    },
    {
     "name": "stdout",
     "output_type": "stream",
     "text": [
      "Epoch 5: train loss = 0.011, val loss = 0.011\n"
     ]
    },
    {
     "name": "stderr",
     "output_type": "stream",
     "text": [
      "100%|██████████| 39375/39375 [01:30<00:00, 436.74it/s]\n",
      " 14%|█▍        | 7/50 [11:44<1:12:16, 100.85s/it]"
     ]
    },
    {
     "name": "stdout",
     "output_type": "stream",
     "text": [
      "Epoch 6: train loss = 0.011, val loss = 0.011\n"
     ]
    },
    {
     "name": "stderr",
     "output_type": "stream",
     "text": [
      "100%|██████████| 39375/39375 [01:30<00:00, 435.13it/s]\n",
      " 16%|█▌        | 8/50 [13:26<1:10:38, 100.91s/it]"
     ]
    },
    {
     "name": "stdout",
     "output_type": "stream",
     "text": [
      "Epoch 7: train loss = 0.011, val loss = 0.011\n"
     ]
    },
    {
     "name": "stderr",
     "output_type": "stream",
     "text": [
      "100%|██████████| 39375/39375 [01:30<00:00, 437.18it/s]\n",
      " 18%|█▊        | 9/50 [15:06<1:08:53, 100.81s/it]"
     ]
    },
    {
     "name": "stdout",
     "output_type": "stream",
     "text": [
      "Epoch 8: train loss = 0.011, val loss = 0.011\n"
     ]
    },
    {
     "name": "stderr",
     "output_type": "stream",
     "text": [
      "100%|██████████| 39375/39375 [01:32<00:00, 423.82it/s]\n",
      " 20%|██        | 10/50 [16:50<1:07:45, 101.63s/it]"
     ]
    },
    {
     "name": "stdout",
     "output_type": "stream",
     "text": [
      "Epoch 9: train loss = 0.011, val loss = 0.011\n"
     ]
    },
    {
     "name": "stderr",
     "output_type": "stream",
     "text": [
      "100%|██████████| 39375/39375 [01:29<00:00, 437.74it/s]\n",
      " 22%|██▏       | 11/50 [18:30<1:05:50, 101.30s/it]"
     ]
    },
    {
     "name": "stdout",
     "output_type": "stream",
     "text": [
      "Epoch 10: train loss = 0.011, val loss = 0.011\n"
     ]
    },
    {
     "name": "stderr",
     "output_type": "stream",
     "text": [
      "100%|██████████| 39375/39375 [01:29<00:00, 437.54it/s]\n",
      " 24%|██▍       | 12/50 [20:11<1:04:00, 101.07s/it]"
     ]
    },
    {
     "name": "stdout",
     "output_type": "stream",
     "text": [
      "Epoch 11: train loss = 0.011, val loss = 0.011\n"
     ]
    },
    {
     "name": "stderr",
     "output_type": "stream",
     "text": [
      "100%|██████████| 39375/39375 [01:29<00:00, 437.61it/s]\n",
      " 26%|██▌       | 13/50 [21:51<1:02:14, 100.93s/it]"
     ]
    },
    {
     "name": "stdout",
     "output_type": "stream",
     "text": [
      "Epoch 12: train loss = 0.011, val loss = 0.011\n"
     ]
    },
    {
     "name": "stderr",
     "output_type": "stream",
     "text": [
      "100%|██████████| 39375/39375 [01:29<00:00, 439.32it/s]\n",
      " 28%|██▊       | 14/50 [23:31<1:00:24, 100.69s/it]"
     ]
    },
    {
     "name": "stdout",
     "output_type": "stream",
     "text": [
      "Epoch 13: train loss = 0.011, val loss = 0.011\n"
     ]
    },
    {
     "name": "stderr",
     "output_type": "stream",
     "text": [
      "100%|██████████| 39375/39375 [01:29<00:00, 437.73it/s]\n",
      " 30%|███       | 15/50 [25:12<58:43, 100.67s/it]  "
     ]
    },
    {
     "name": "stdout",
     "output_type": "stream",
     "text": [
      "Epoch 14: train loss = 0.011, val loss = 0.011\n"
     ]
    },
    {
     "name": "stderr",
     "output_type": "stream",
     "text": [
      "100%|██████████| 39375/39375 [01:29<00:00, 441.22it/s]\n",
      " 32%|███▏      | 16/50 [26:52<56:54, 100.42s/it]"
     ]
    },
    {
     "name": "stdout",
     "output_type": "stream",
     "text": [
      "Epoch 15: train loss = 0.011, val loss = 0.011\n"
     ]
    },
    {
     "name": "stderr",
     "output_type": "stream",
     "text": [
      "100%|██████████| 39375/39375 [01:29<00:00, 439.82it/s]\n",
      " 34%|███▍      | 17/50 [28:32<55:10, 100.33s/it]"
     ]
    },
    {
     "name": "stdout",
     "output_type": "stream",
     "text": [
      "Epoch 16: train loss = 0.011, val loss = 0.011\n"
     ]
    },
    {
     "name": "stderr",
     "output_type": "stream",
     "text": [
      "100%|██████████| 39375/39375 [01:30<00:00, 436.53it/s]\n",
      " 36%|███▌      | 18/50 [30:13<53:35, 100.47s/it]"
     ]
    },
    {
     "name": "stdout",
     "output_type": "stream",
     "text": [
      "Epoch 17: train loss = 0.011, val loss = 0.011\n"
     ]
    },
    {
     "name": "stderr",
     "output_type": "stream",
     "text": [
      "100%|██████████| 39375/39375 [01:28<00:00, 443.53it/s]\n",
      " 38%|███▊      | 19/50 [31:52<51:44, 100.15s/it]"
     ]
    },
    {
     "name": "stdout",
     "output_type": "stream",
     "text": [
      "Epoch 18: train loss = 0.011, val loss = 0.011\n"
     ]
    },
    {
     "name": "stderr",
     "output_type": "stream",
     "text": [
      "100%|██████████| 39375/39375 [01:29<00:00, 441.77it/s]\n",
      " 40%|████      | 20/50 [33:32<50:00, 100.00s/it]"
     ]
    },
    {
     "name": "stdout",
     "output_type": "stream",
     "text": [
      "Epoch 19: train loss = 0.011, val loss = 0.011\n"
     ]
    },
    {
     "name": "stderr",
     "output_type": "stream",
     "text": [
      "100%|██████████| 39375/39375 [01:30<00:00, 434.93it/s]\n",
      " 42%|████▏     | 21/50 [35:13<48:29, 100.34s/it]"
     ]
    },
    {
     "name": "stdout",
     "output_type": "stream",
     "text": [
      "Epoch 20: train loss = 0.011, val loss = 0.011\n"
     ]
    },
    {
     "name": "stderr",
     "output_type": "stream",
     "text": [
      "100%|██████████| 39375/39375 [01:29<00:00, 440.74it/s]\n",
      " 44%|████▍     | 22/50 [36:53<46:45, 100.19s/it]"
     ]
    },
    {
     "name": "stdout",
     "output_type": "stream",
     "text": [
      "Epoch 21: train loss = 0.011, val loss = 0.010\n"
     ]
    },
    {
     "name": "stderr",
     "output_type": "stream",
     "text": [
      "100%|██████████| 39375/39375 [01:29<00:00, 440.81it/s]\n",
      " 46%|████▌     | 23/50 [38:33<45:02, 100.10s/it]"
     ]
    },
    {
     "name": "stdout",
     "output_type": "stream",
     "text": [
      "Epoch 22: train loss = 0.011, val loss = 0.011\n"
     ]
    },
    {
     "name": "stderr",
     "output_type": "stream",
     "text": [
      "100%|██████████| 39375/39375 [01:29<00:00, 439.49it/s]\n",
      " 48%|████▊     | 24/50 [40:13<43:22, 100.11s/it]"
     ]
    },
    {
     "name": "stdout",
     "output_type": "stream",
     "text": [
      "Epoch 23: train loss = 0.010, val loss = 0.010\n"
     ]
    },
    {
     "name": "stderr",
     "output_type": "stream",
     "text": [
      "100%|██████████| 39375/39375 [01:29<00:00, 437.53it/s]\n",
      " 50%|█████     | 25/50 [41:53<41:45, 100.24s/it]"
     ]
    },
    {
     "name": "stdout",
     "output_type": "stream",
     "text": [
      "Epoch 24: train loss = 0.010, val loss = 0.010\n"
     ]
    },
    {
     "name": "stderr",
     "output_type": "stream",
     "text": [
      "100%|██████████| 39375/39375 [01:28<00:00, 443.79it/s]\n",
      " 52%|█████▏    | 26/50 [43:33<39:58, 99.95s/it] "
     ]
    },
    {
     "name": "stdout",
     "output_type": "stream",
     "text": [
      "Epoch 25: train loss = 0.010, val loss = 0.010\n"
     ]
    },
    {
     "name": "stderr",
     "output_type": "stream",
     "text": [
      "100%|██████████| 39375/39375 [01:29<00:00, 441.18it/s]\n",
      " 54%|█████▍    | 27/50 [45:12<38:17, 99.91s/it]"
     ]
    },
    {
     "name": "stdout",
     "output_type": "stream",
     "text": [
      "Epoch 26: train loss = 0.010, val loss = 0.010\n"
     ]
    },
    {
     "name": "stderr",
     "output_type": "stream",
     "text": [
      "100%|██████████| 39375/39375 [01:29<00:00, 438.71it/s]\n",
      " 56%|█████▌    | 28/50 [46:53<36:40, 100.02s/it]"
     ]
    },
    {
     "name": "stdout",
     "output_type": "stream",
     "text": [
      "Epoch 27: train loss = 0.010, val loss = 0.010\n"
     ]
    },
    {
     "name": "stderr",
     "output_type": "stream",
     "text": [
      "100%|██████████| 39375/39375 [01:30<00:00, 435.78it/s]\n",
      " 58%|█████▊    | 29/50 [48:34<35:07, 100.33s/it]"
     ]
    },
    {
     "name": "stdout",
     "output_type": "stream",
     "text": [
      "Epoch 28: train loss = 0.010, val loss = 0.010\n"
     ]
    },
    {
     "name": "stderr",
     "output_type": "stream",
     "text": [
      "100%|██████████| 39375/39375 [01:30<00:00, 434.22it/s]\n",
      " 60%|██████    | 30/50 [50:15<33:30, 100.51s/it]"
     ]
    },
    {
     "name": "stdout",
     "output_type": "stream",
     "text": [
      "Epoch 29: train loss = 0.010, val loss = 0.010\n"
     ]
    },
    {
     "name": "stderr",
     "output_type": "stream",
     "text": [
      "100%|██████████| 39375/39375 [01:25<00:00, 460.69it/s]\n",
      " 62%|██████▏   | 31/50 [51:51<31:22, 99.10s/it] "
     ]
    },
    {
     "name": "stdout",
     "output_type": "stream",
     "text": [
      "Epoch 30: train loss = 0.010, val loss = 0.010\n"
     ]
    },
    {
     "name": "stderr",
     "output_type": "stream",
     "text": [
      "100%|██████████| 39375/39375 [01:25<00:00, 459.25it/s]\n",
      " 64%|██████▍   | 32/50 [53:27<29:27, 98.17s/it]"
     ]
    },
    {
     "name": "stdout",
     "output_type": "stream",
     "text": [
      "Epoch 31: train loss = 0.010, val loss = 0.010\n"
     ]
    },
    {
     "name": "stderr",
     "output_type": "stream",
     "text": [
      "100%|██████████| 39375/39375 [01:27<00:00, 451.33it/s]\n",
      " 66%|██████▌   | 33/50 [55:04<27:46, 98.00s/it]"
     ]
    },
    {
     "name": "stdout",
     "output_type": "stream",
     "text": [
      "Epoch 32: train loss = 0.010, val loss = 0.011\n"
     ]
    },
    {
     "name": "stderr",
     "output_type": "stream",
     "text": [
      "100%|██████████| 39375/39375 [01:26<00:00, 453.45it/s]\n",
      " 68%|██████▊   | 34/50 [56:41<26:04, 97.76s/it]"
     ]
    },
    {
     "name": "stdout",
     "output_type": "stream",
     "text": [
      "Epoch 33: train loss = 0.010, val loss = 0.010\n"
     ]
    },
    {
     "name": "stderr",
     "output_type": "stream",
     "text": [
      "100%|██████████| 39375/39375 [01:28<00:00, 442.76it/s]\n",
      " 70%|███████   | 35/50 [58:21<24:34, 98.28s/it]"
     ]
    },
    {
     "name": "stdout",
     "output_type": "stream",
     "text": [
      "Epoch 34: train loss = 0.010, val loss = 0.010\n"
     ]
    },
    {
     "name": "stderr",
     "output_type": "stream",
     "text": [
      "100%|██████████| 39375/39375 [01:29<00:00, 438.23it/s]\n",
      " 72%|███████▏  | 36/50 [1:00:01<23:05, 98.94s/it]"
     ]
    },
    {
     "name": "stdout",
     "output_type": "stream",
     "text": [
      "Epoch 35: train loss = 0.010, val loss = 0.010\n"
     ]
    },
    {
     "name": "stderr",
     "output_type": "stream",
     "text": [
      "100%|██████████| 39375/39375 [01:29<00:00, 439.22it/s]\n",
      " 74%|███████▍  | 37/50 [1:01:41<21:30, 99.25s/it]"
     ]
    },
    {
     "name": "stdout",
     "output_type": "stream",
     "text": [
      "Epoch 36: train loss = 0.010, val loss = 0.010\n"
     ]
    },
    {
     "name": "stderr",
     "output_type": "stream",
     "text": [
      "100%|██████████| 39375/39375 [01:29<00:00, 437.79it/s]\n",
      " 76%|███████▌  | 38/50 [1:03:22<19:55, 99.66s/it]"
     ]
    },
    {
     "name": "stdout",
     "output_type": "stream",
     "text": [
      "Epoch 37: train loss = 0.010, val loss = 0.010\n"
     ]
    },
    {
     "name": "stderr",
     "output_type": "stream",
     "text": [
      "100%|██████████| 39375/39375 [01:28<00:00, 443.79it/s]\n",
      " 78%|███████▊  | 39/50 [1:05:01<18:13, 99.42s/it]"
     ]
    },
    {
     "name": "stdout",
     "output_type": "stream",
     "text": [
      "Epoch 38: train loss = 0.010, val loss = 0.010\n"
     ]
    },
    {
     "name": "stderr",
     "output_type": "stream",
     "text": [
      "100%|██████████| 39375/39375 [01:28<00:00, 442.92it/s]\n",
      " 80%|████████  | 40/50 [1:06:40<16:34, 99.45s/it]"
     ]
    },
    {
     "name": "stdout",
     "output_type": "stream",
     "text": [
      "Epoch 39: train loss = 0.010, val loss = 0.010\n"
     ]
    },
    {
     "name": "stderr",
     "output_type": "stream",
     "text": [
      "100%|██████████| 39375/39375 [01:28<00:00, 444.13it/s]\n",
      " 82%|████████▏ | 41/50 [1:08:20<14:54, 99.41s/it]"
     ]
    },
    {
     "name": "stdout",
     "output_type": "stream",
     "text": [
      "Epoch 40: train loss = 0.010, val loss = 0.010\n"
     ]
    },
    {
     "name": "stderr",
     "output_type": "stream",
     "text": [
      "100%|██████████| 39375/39375 [01:28<00:00, 443.73it/s]\n",
      " 84%|████████▍ | 42/50 [1:09:59<13:14, 99.37s/it]"
     ]
    },
    {
     "name": "stdout",
     "output_type": "stream",
     "text": [
      "Epoch 41: train loss = 0.010, val loss = 0.010\n"
     ]
    },
    {
     "name": "stderr",
     "output_type": "stream",
     "text": [
      "100%|██████████| 39375/39375 [01:28<00:00, 444.70it/s]\n",
      " 86%|████████▌ | 43/50 [1:11:38<11:35, 99.30s/it]"
     ]
    },
    {
     "name": "stdout",
     "output_type": "stream",
     "text": [
      "Epoch 42: train loss = 0.010, val loss = 0.010\n"
     ]
    },
    {
     "name": "stderr",
     "output_type": "stream",
     "text": [
      "100%|██████████| 39375/39375 [01:28<00:00, 443.77it/s]\n",
      " 88%|████████▊ | 44/50 [1:13:17<09:55, 99.32s/it]"
     ]
    },
    {
     "name": "stdout",
     "output_type": "stream",
     "text": [
      "Epoch 43: train loss = 0.010, val loss = 0.010\n"
     ]
    },
    {
     "name": "stderr",
     "output_type": "stream",
     "text": [
      "100%|██████████| 39375/39375 [01:28<00:00, 443.58it/s]\n",
      " 90%|█████████ | 45/50 [1:14:57<08:16, 99.31s/it]"
     ]
    },
    {
     "name": "stdout",
     "output_type": "stream",
     "text": [
      "Epoch 44: train loss = 0.010, val loss = 0.010\n"
     ]
    },
    {
     "name": "stderr",
     "output_type": "stream",
     "text": [
      "100%|██████████| 39375/39375 [01:28<00:00, 444.68it/s]\n",
      " 92%|█████████▏| 46/50 [1:16:36<06:37, 99.26s/it]"
     ]
    },
    {
     "name": "stdout",
     "output_type": "stream",
     "text": [
      "Epoch 45: train loss = 0.010, val loss = 0.010\n"
     ]
    },
    {
     "name": "stderr",
     "output_type": "stream",
     "text": [
      "100%|██████████| 39375/39375 [01:28<00:00, 445.85it/s]\n",
      " 94%|█████████▍| 47/50 [1:18:15<04:57, 99.16s/it]"
     ]
    },
    {
     "name": "stdout",
     "output_type": "stream",
     "text": [
      "Epoch 46: train loss = 0.010, val loss = 0.010\n"
     ]
    },
    {
     "name": "stderr",
     "output_type": "stream",
     "text": [
      "100%|██████████| 39375/39375 [01:28<00:00, 443.96it/s]\n",
      " 96%|█████████▌| 48/50 [1:19:54<03:18, 99.21s/it]"
     ]
    },
    {
     "name": "stdout",
     "output_type": "stream",
     "text": [
      "Epoch 47: train loss = 0.010, val loss = 0.010\n"
     ]
    },
    {
     "name": "stderr",
     "output_type": "stream",
     "text": [
      "100%|██████████| 39375/39375 [01:28<00:00, 444.04it/s]\n",
      " 98%|█████████▊| 49/50 [1:21:33<01:39, 99.18s/it]"
     ]
    },
    {
     "name": "stdout",
     "output_type": "stream",
     "text": [
      "Epoch 48: train loss = 0.010, val loss = 0.010\n"
     ]
    },
    {
     "name": "stderr",
     "output_type": "stream",
     "text": [
      "100%|██████████| 39375/39375 [01:28<00:00, 447.18it/s]\n",
      "100%|██████████| 50/50 [1:23:11<00:00, 99.84s/it]"
     ]
    },
    {
     "name": "stdout",
     "output_type": "stream",
     "text": [
      "Epoch 49: train loss = 0.010, val loss = 0.010\n"
     ]
    },
    {
     "name": "stderr",
     "output_type": "stream",
     "text": [
      "\n"
     ]
    }
   ],
   "source": [
    "loss_fn = nn.MSELoss()\n",
    "optimizer = torch.optim.Adam(model.parameters())\n",
    "train(model, loss_fn, optimizer, train_dl, val_dl, device=device, print_metrics=True, epochs=50)\n",
    "torch.save(model.state_dict(), \"outpainter_net/state.pt\")"
   ]
  },
  {
   "cell_type": "code",
   "execution_count": 15,
   "metadata": {},
   "outputs": [
    {
     "data": {
      "text/plain": [
       "[Text(0.5, 0, 'epoch')]"
      ]
     },
     "execution_count": 15,
     "metadata": {},
     "output_type": "execute_result"
    },
    {
     "data": {
      "image/png": "[encoded data removed]",
      "text/plain": [
       "<Figure size 720x576 with 1 Axes>"
      ]
     },
     "metadata": {},
     "output_type": "display_data"
    }
   ],
   "source": [
    "train_loss = [\n",
    "    0.012,\n",
    "    0.011,\n",
    "    0.011,\n",
    "    0.011,\n",
    "    0.011,\n",
    "    0.011,\n",
    "    0.011,\n",
    "    0.011,\n",
    "    0.011,\n",
    "    0.011,\n",
    "    0.011,\n",
    "    0.011,\n",
    "    0.011,\n",
    "    0.011,\n",
    "    0.011,\n",
    "    0.011,\n",
    "    0.011,\n",
    "    0.011,\n",
    "    0.011,\n",
    "    0.011,\n",
    "    0.011,\n",
    "    0.011,\n",
    "    0.011,\n",
    "    0.010,\n",
    "    0.010,\n",
    "    0.010,\n",
    "    0.010,\n",
    "    0.010,\n",
    "    0.010,\n",
    "    0.010,\n",
    "    0.010,\n",
    "    0.010,\n",
    "    0.010,\n",
    "    0.010,\n",
    "    0.010,\n",
    "    0.010,\n",
    "    0.010,\n",
    "    0.010,\n",
    "    0.010,\n",
    "    0.010,\n",
    "    0.010,\n",
    "    0.010,\n",
    "    0.010,\n",
    "    0.010,\n",
    "    0.010,\n",
    "    0.010,\n",
    "    0.010,\n",
    "    0.010,\n",
    "    0.010,\n",
    "    0.010,\n",
    "]\n",
    "val_loss = [\n",
    "    0.011,\n",
    "    0.011,\n",
    "    0.011,\n",
    "    0.011,\n",
    "    0.011,\n",
    "    0.011,\n",
    "    0.011,\n",
    "    0.011,\n",
    "    0.011,\n",
    "    0.011,\n",
    "    0.011,\n",
    "    0.011,\n",
    "    0.011,\n",
    "    0.011,\n",
    "    0.011,\n",
    "    0.011,\n",
    "    0.011,\n",
    "    0.011,\n",
    "    0.011,\n",
    "    0.011,\n",
    "    0.011,\n",
    "    0.010,\n",
    "    0.011,\n",
    "    0.010,\n",
    "    0.010,\n",
    "    0.010,\n",
    "    0.010,\n",
    "    0.010,\n",
    "    0.010,\n",
    "    0.010,\n",
    "    0.010,\n",
    "    0.010,\n",
    "    0.011,\n",
    "    0.010,\n",
    "    0.010,\n",
    "    0.010,\n",
    "    0.010,\n",
    "    0.010,\n",
    "    0.010,\n",
    "    0.010,\n",
    "    0.010,\n",
    "    0.010,\n",
    "    0.010,\n",
    "    0.010,\n",
    "    0.010,\n",
    "    0.010,\n",
    "    0.010,\n",
    "    0.010,\n",
    "    0.010,\n",
    "    0.010,\n",
    "]\n",
    "data = {\n",
    "    \"train loss\": train_loss,\n",
    "    \"validation loss\": val_loss\n",
    "}\n",
    "plot = sns.lineplot(data)\n",
    "plot.set(xlabel=\"epoch\")"
   ]
  },
  {
   "cell_type": "code",
   "execution_count": 9,
   "metadata": {},
   "outputs": [
    {
     "data": {
      "text/plain": [
       "[Text(0.5, 0, 'epoch')]"
      ]
     },
     "execution_count": 9,
     "metadata": {},
     "output_type": "execute_result"
    },
    {
     "data": {
      "image/png": "[encoded data removed]",
      "text/plain": [
       "<Figure size 720x576 with 1 Axes>"
      ]
     },
     "metadata": {},
     "output_type": "display_data"
    }
   ],
   "source": [
    "train_loss = [\n",
    "    0.020,\n",
    "    0.018,\n",
    "    0.018,\n",
    "    0.017,\n",
    "    0.017,\n",
    "    0.017,\n",
    "    0.017,\n",
    "    0.017,\n",
    "    0.017,\n",
    "    0.017,\n",
    "    0.017,\n",
    "    0.017,\n",
    "    0.017,\n",
    "    0.017,\n",
    "    0.017,\n",
    "    0.017,\n",
    "    0.017,\n",
    "    0.017,\n",
    "    0.017,\n",
    "    0.017,\n",
    "    0.016,\n",
    "    0.016,\n",
    "    0.016,\n",
    "    0.016,\n",
    "    0.016,\n",
    "    0.016,\n",
    "    0.016,\n",
    "    0.016,\n",
    "    0.016,\n",
    "    0.016,\n",
    "    0.016,\n",
    "    0.016,\n",
    "    0.016,\n",
    "    0.016,\n",
    "    0.016,\n",
    "    0.016,\n",
    "    0.016,\n",
    "    0.016,\n",
    "    0.016,\n",
    "    0.016,\n",
    "    0.016,\n",
    "    0.016,\n",
    "    0.016,\n",
    "    0.016,\n",
    "    0.016,\n",
    "    0.016,\n",
    "    0.016,\n",
    "    0.016,\n",
    "    0.016,\n",
    "    0.016,\n",
    "]\n",
    "val_loss = [\n",
    "    0.019,\n",
    "    0.018,\n",
    "    0.018,\n",
    "    0.017,\n",
    "    0.017,\n",
    "    0.017,\n",
    "    0.017,\n",
    "    0.017,\n",
    "    0.017,\n",
    "    0.017,\n",
    "    0.017,\n",
    "    0.017,\n",
    "    0.017,\n",
    "    0.017,\n",
    "    0.017,\n",
    "    0.017,\n",
    "    0.017,\n",
    "    0.017,\n",
    "    0.016,\n",
    "    0.017,\n",
    "    0.016,\n",
    "    0.016,\n",
    "    0.017,\n",
    "    0.016,\n",
    "    0.017,\n",
    "    0.016,\n",
    "    0.016,\n",
    "    0.016,\n",
    "    0.016,\n",
    "    0.016,\n",
    "    0.016,\n",
    "    0.016,\n",
    "    0.017,\n",
    "    0.016,\n",
    "    0.016,\n",
    "    0.016,\n",
    "    0.016,\n",
    "    0.016,\n",
    "    0.016,\n",
    "    0.016,\n",
    "    0.016,\n",
    "    0.016,\n",
    "    0.016,\n",
    "    0.016,\n",
    "    0.016,\n",
    "    0.016,\n",
    "    0.016,\n",
    "    0.016,\n",
    "    0.016,\n",
    "    0.016,\n",
    "]\n",
    "data = {\n",
    "    \"train loss\": train_loss,\n",
    "    \"validation loss\": val_loss\n",
    "}\n",
    "plot = sns.lineplot(data)\n",
    "plot.set(xlabel=\"epoch\")"
   ]
  },
  {
   "cell_type": "code",
   "execution_count": 10,
   "metadata": {},
   "outputs": [
    {
     "data": {
      "text/plain": [
       "[Text(0.5, 0, 'epoch')]"
      ]
     },
     "execution_count": 10,
     "metadata": {},
     "output_type": "execute_result"
    },
    {
     "data": {
      "image/png": "[encoded data removed]",
      "text/plain": [
       "<Figure size 720x576 with 1 Axes>"
      ]
     },
     "metadata": {},
     "output_type": "display_data"
    }
   ],
   "source": [
    "train_loss = [\n",
    "    0.028,\n",
    "    0.024,\n",
    "    0.024,\n",
    "    0.023,\n",
    "    0.023,\n",
    "    0.022,\n",
    "    0.022,\n",
    "    0.022,\n",
    "    0.022,\n",
    "    0.022,\n",
    "    0.022,\n",
    "    0.022,\n",
    "    0.022,\n",
    "    0.022,\n",
    "    0.022,\n",
    "    0.022,\n",
    "    0.022,\n",
    "    0.022,\n",
    "    0.022,\n",
    "    0.022,\n",
    "    0.022,\n",
    "    0.022,\n",
    "    0.022,\n",
    "    0.022,\n",
    "    0.022,\n",
    "    0.022,\n",
    "    0.022,\n",
    "    0.022,\n",
    "    0.022,\n",
    "    0.022,\n",
    "    0.022,\n",
    "    0.022,\n",
    "    0.022,\n",
    "    0.022,\n",
    "    0.022,\n",
    "    0.022,\n",
    "    0.022,\n",
    "    0.022,\n",
    "    0.022,\n",
    "    0.022,\n",
    "    0.022,\n",
    "    0.022,\n",
    "    0.022,\n",
    "    0.022,\n",
    "    0.022,\n",
    "    0.022,\n",
    "    0.022,\n",
    "    0.022,\n",
    "    0.022,\n",
    "    0.022,\n",
    "]\n",
    "val_loss = [\n",
    "    0.025,\n",
    "    0.024,\n",
    "    0.023,\n",
    "    0.023,\n",
    "    0.023,\n",
    "    0.022,\n",
    "    0.022,\n",
    "    0.022,\n",
    "    0.022,\n",
    "    0.023,\n",
    "    0.022,\n",
    "    0.022,\n",
    "    0.022,\n",
    "    0.023,\n",
    "    0.022,\n",
    "    0.022,\n",
    "    0.022,\n",
    "    0.022,\n",
    "    0.022,\n",
    "    0.022,\n",
    "    0.022,\n",
    "    0.022,\n",
    "    0.022,\n",
    "    0.022,\n",
    "    0.022,\n",
    "    0.022,\n",
    "    0.022,\n",
    "    0.022,\n",
    "    0.022,\n",
    "    0.022,\n",
    "    0.022,\n",
    "    0.022,\n",
    "    0.022,\n",
    "    0.022,\n",
    "    0.022,\n",
    "    0.022,\n",
    "    0.022,\n",
    "    0.022,\n",
    "    0.022,\n",
    "    0.022,\n",
    "    0.022,\n",
    "    0.022,\n",
    "    0.022,\n",
    "    0.022,\n",
    "    0.022,\n",
    "    0.022,\n",
    "    0.022,\n",
    "    0.022,\n",
    "    0.022,\n",
    "    0.021,\n",
    "]\n",
    "data = {\n",
    "    \"train loss\": train_loss,\n",
    "    \"validation loss\": val_loss\n",
    "}\n",
    "plot = sns.lineplot(data)\n",
    "plot.set(xlabel=\"epoch\")"
   ]
  },
  {
   "cell_type": "code",
   "execution_count": 38,
   "metadata": {},
   "outputs": [
    {
     "data": {
      "text/html": [
       "<div>\n",
       "<style scoped>\n",
       "    .dataframe tbody tr th:only-of-type {\n",
       "        vertical-align: middle;\n",
       "    }\n",
       "\n",
       "    .dataframe tbody tr th {\n",
       "        vertical-align: top;\n",
       "    }\n",
       "\n",
       "    .dataframe thead th {\n",
       "        text-align: right;\n",
       "    }\n",
       "</style>\n",
       "<table border=\"1\" class=\"dataframe\">\n",
       "  <thead>\n",
       "    <tr style=\"text-align: right;\">\n",
       "      <th></th>\n",
       "      <th>pxl loss</th>\n",
       "      <th>adv loss</th>\n",
       "      <th>D loss</th>\n",
       "    </tr>\n",
       "    <tr>\n",
       "      <th>batch</th>\n",
       "      <th></th>\n",
       "      <th></th>\n",
       "      <th></th>\n",
       "    </tr>\n",
       "  </thead>\n",
       "  <tbody>\n",
       "    <tr>\n",
       "      <th>1</th>\n",
       "      <td>0.3992</td>\n",
       "      <td>2.1848</td>\n",
       "      <td>1.6137</td>\n",
       "    </tr>\n",
       "    <tr>\n",
       "      <th>2</th>\n",
       "      <td>0.4033</td>\n",
       "      <td>10.6560</td>\n",
       "      <td>9.5202</td>\n",
       "    </tr>\n",
       "    <tr>\n",
       "      <th>4</th>\n",
       "      <td>0.4003</td>\n",
       "      <td>2.4134</td>\n",
       "      <td>1.4148</td>\n",
       "    </tr>\n",
       "    <tr>\n",
       "      <th>8</th>\n",
       "      <td>0.2662</td>\n",
       "      <td>0.5178</td>\n",
       "      <td>0.2956</td>\n",
       "    </tr>\n",
       "    <tr>\n",
       "      <th>16</th>\n",
       "      <td>0.2054</td>\n",
       "      <td>0.7107</td>\n",
       "      <td>0.2878</td>\n",
       "    </tr>\n",
       "    <tr>\n",
       "      <th>32</th>\n",
       "      <td>0.1781</td>\n",
       "      <td>0.7793</td>\n",
       "      <td>0.1080</td>\n",
       "    </tr>\n",
       "    <tr>\n",
       "      <th>64</th>\n",
       "      <td>0.1808</td>\n",
       "      <td>0.9877</td>\n",
       "      <td>0.0655</td>\n",
       "    </tr>\n",
       "    <tr>\n",
       "      <th>128</th>\n",
       "      <td>0.1597</td>\n",
       "      <td>0.7204</td>\n",
       "      <td>0.0745</td>\n",
       "    </tr>\n",
       "    <tr>\n",
       "      <th>256</th>\n",
       "      <td>0.1580</td>\n",
       "      <td>0.9923</td>\n",
       "      <td>0.0411</td>\n",
       "    </tr>\n",
       "    <tr>\n",
       "      <th>512</th>\n",
       "      <td>0.1388</td>\n",
       "      <td>0.5913</td>\n",
       "      <td>0.0896</td>\n",
       "    </tr>\n",
       "    <tr>\n",
       "      <th>1024</th>\n",
       "      <td>0.1771</td>\n",
       "      <td>1.0207</td>\n",
       "      <td>0.0096</td>\n",
       "    </tr>\n",
       "    <tr>\n",
       "      <th>2048</th>\n",
       "      <td>0.1682</td>\n",
       "      <td>1.1435</td>\n",
       "      <td>0.0100</td>\n",
       "    </tr>\n",
       "    <tr>\n",
       "      <th>4096</th>\n",
       "      <td>0.1001</td>\n",
       "      <td>1.0273</td>\n",
       "      <td>0.0019</td>\n",
       "    </tr>\n",
       "    <tr>\n",
       "      <th>8192</th>\n",
       "      <td>0.1102</td>\n",
       "      <td>1.0157</td>\n",
       "      <td>0.0038</td>\n",
       "    </tr>\n",
       "    <tr>\n",
       "      <th>16384</th>\n",
       "      <td>0.1268</td>\n",
       "      <td>0.9288</td>\n",
       "      <td>0.0348</td>\n",
       "    </tr>\n",
       "    <tr>\n",
       "      <th>32768</th>\n",
       "      <td>0.1111</td>\n",
       "      <td>1.0082</td>\n",
       "      <td>0.0002</td>\n",
       "    </tr>\n",
       "    <tr>\n",
       "      <th>65536</th>\n",
       "      <td>0.1071</td>\n",
       "      <td>0.9854</td>\n",
       "      <td>0.0003</td>\n",
       "    </tr>\n",
       "    <tr>\n",
       "      <th>131072</th>\n",
       "      <td>0.0724</td>\n",
       "      <td>0.9995</td>\n",
       "      <td>0.0030</td>\n",
       "    </tr>\n",
       "    <tr>\n",
       "      <th>262144</th>\n",
       "      <td>0.0931</td>\n",
       "      <td>1.0084</td>\n",
       "      <td>0.0002</td>\n",
       "    </tr>\n",
       "    <tr>\n",
       "      <th>450865</th>\n",
       "      <td>0.0858</td>\n",
       "      <td>0.9984</td>\n",
       "      <td>0.0025</td>\n",
       "    </tr>\n",
       "  </tbody>\n",
       "</table>\n",
       "</div>"
      ],
      "text/plain": [
       "        pxl loss  adv loss  D loss\n",
       "batch                             \n",
       "1         0.3992    2.1848  1.6137\n",
       "2         0.4033   10.6560  9.5202\n",
       "4         0.4003    2.4134  1.4148\n",
       "8         0.2662    0.5178  0.2956\n",
       "16        0.2054    0.7107  0.2878\n",
       "32        0.1781    0.7793  0.1080\n",
       "64        0.1808    0.9877  0.0655\n",
       "128       0.1597    0.7204  0.0745\n",
       "256       0.1580    0.9923  0.0411\n",
       "512       0.1388    0.5913  0.0896\n",
       "1024      0.1771    1.0207  0.0096\n",
       "2048      0.1682    1.1435  0.0100\n",
       "4096      0.1001    1.0273  0.0019\n",
       "8192      0.1102    1.0157  0.0038\n",
       "16384     0.1268    0.9288  0.0348\n",
       "32768     0.1111    1.0082  0.0002\n",
       "65536     0.1071    0.9854  0.0003\n",
       "131072    0.0724    0.9995  0.0030\n",
       "262144    0.0931    1.0084  0.0002\n",
       "450865    0.0858    0.9984  0.0025"
      ]
     },
     "execution_count": 38,
     "metadata": {},
     "output_type": "execute_result"
    }
   ],
   "source": [
    "\n",
    "df"
   ]
  },
  {
   "cell_type": "code",
   "execution_count": 44,
   "metadata": {},
   "outputs": [
    {
     "data": {
      "image/png": "[encoded data removed]",
      "text/plain": [
       "<Figure size 720x576 with 1 Axes>"
      ]
     },
     "metadata": {},
     "output_type": "display_data"
    }
   ],
   "source": [
    "batches = [\n",
    "    1,\n",
    "    2,\n",
    "    4,\n",
    "    8,\n",
    "    16,\n",
    "    32,\n",
    "    64,\n",
    "    128,\n",
    "    256,\n",
    "    512,\n",
    "    1024,\n",
    "    2048,\n",
    "    4096,\n",
    "    8192,\n",
    "    16384,\n",
    "    32768,\n",
    "    65536,\n",
    "    131072,\n",
    "    262144,\n",
    "    450865\n",
    "]\n",
    "loss_pxl = [\n",
    "    0.3992,\n",
    "    0.4033,\n",
    "    0.4003,\n",
    "    0.2662,\n",
    "    0.2054,\n",
    "    0.1781,\n",
    "    0.1808,\n",
    "    0.1597,\n",
    "    0.1580,\n",
    "    0.1388,\n",
    "    0.1771,\n",
    "    0.1682,\n",
    "    0.1001,\n",
    "    0.1102,\n",
    "    0.1268,\n",
    "    0.1111,\n",
    "    0.1071,\n",
    "    0.0724,\n",
    "    0.0931,\n",
    "    0.0858\n",
    "]\n",
    "loss_adv = [\n",
    "    2.1848,\n",
    "    10.6560,\n",
    "    2.4134,\n",
    "    0.5178,\n",
    "    0.7107,\n",
    "    0.7793,\n",
    "    0.9877,\n",
    "    0.7204,\n",
    "    0.9923,\n",
    "    0.5913,\n",
    "    1.0207,\n",
    "    1.1435,\n",
    "    1.0273,\n",
    "    1.0157,\n",
    "    0.9288,\n",
    "    1.0082,\n",
    "    0.9854,\n",
    "    0.9995,\n",
    "    1.0084,\n",
    "    0.9984\n",
    "]\n",
    "loss_D = [\n",
    "    1.6137,\n",
    "    9.5202,\n",
    "    1.4148,\n",
    "    0.2956,\n",
    "    0.2878,\n",
    "    0.1080,\n",
    "    0.0655,\n",
    "    0.0745,\n",
    "    0.0411,\n",
    "    0.0896,\n",
    "    0.0096,\n",
    "    0.0100,\n",
    "    0.0019,\n",
    "    0.0038,\n",
    "    0.0348,\n",
    "    0.0002,\n",
    "    0.0003,\n",
    "    0.0030,\n",
    "    0.0002,\n",
    "    0.0025\n",
    "]\n",
    "\n",
    "data = {\n",
    "    \"batch\": batches,\n",
    "    \"pxl loss\": loss_pxl,\n",
    "    \"adv loss\": loss_adv,\n",
    "    \"D loss\": loss_D\n",
    "}\n",
    "\n",
    "df = pd.DataFrame(data)\n",
    "df = df.set_index(\"batch\")\n",
    "\n",
    "sns.lineplot(df)\n",
    "plt.yscale(\"log\")\n",
    "plt.xscale(\"log\")"
   ]
  },
  {
   "cell_type": "code",
   "execution_count": 7,
   "metadata": {},
   "outputs": [],
   "source": [
    "import glob\n",
    "from typing import Any, Callable, Optional\n",
    "\n",
    "\n",
    "def outpaint(model: nn.Module, batch: torch.Tensor, target_size: List[int]):\n",
    "    if model.__class__ == OutpainterNet:\n",
    "        return model.image_outpaint(batch, target_size)\n",
    "    elif model.__class__ == outpainting.CEGenerator:\n",
    "        outs = model(resize(batch, [128, 128]))\n",
    "        return resize(outs, target_size)\n",
    "\n",
    "@torch.no_grad()\n",
    "def model_test(model: nn.Module, dl: DataLoader, input_size: List[int]):\n",
    "    loss_fn = nn.MSELoss()\n",
    "    total_loss = 0\n",
    "    count = 0\n",
    "    for batch in tqdm(dl):\n",
    "        batch = batch.to(device)\n",
    "        X = center_crop(batch, input_size)\n",
    "        preds = outpaint(model, X, [256, 256])\n",
    "        loss = loss_fn(preds, batch)\n",
    "        total_loss += loss\n",
    "        count += 1\n",
    "    return total_loss.item() / count\n",
    "\n",
    "def pil_loader(path: str) -> Image.Image:\n",
    "    # open path as file to avoid ResourceWarning (https://github.com/python-pillow/Pillow/issues/835)\n",
    "    with open(path, \"rb\") as f:\n",
    "        img = Image.open(f)\n",
    "        return img.convert(\"RGB\")\n",
    "\n",
    "class BasicDataset(torchvision.datasets.VisionDataset):\n",
    "    def __init__(self, root: str, transforms: Optional[Callable] = None, transform: Optional[Callable] = None, target_transform: Optional[Callable] = None) -> None:\n",
    "        super().__init__(root, transforms, transform, target_transform)\n",
    "        self.files = sorted(glob.glob(\"%s/**/*.jpg\" % root, recursive=True))\n",
    "    \n",
    "    def __getitem__(self, index: int) -> Any:\n",
    "        return self.transform(pil_loader(self.files[index]))\n",
    "    \n",
    "    def __len__(self) -> int:\n",
    "        return len(self.files)"
   ]
  },
  {
   "cell_type": "code",
   "execution_count": 8,
   "metadata": {},
   "outputs": [],
   "source": [
    "batch_size = 256"
   ]
  },
  {
   "cell_type": "code",
   "execution_count": 14,
   "metadata": {},
   "outputs": [],
   "source": [
    "model.load_state_dict(torch.load(\"outpainter_net/state.pt\"))\n",
    "model.eval()\n",
    "\n",
    "test_ds = BasicDataset(\"data/test_256/\", transform=transforms)\n",
    "test_dl = DataLoader(test_ds, batch_size, pin_memory=True)"
   ]
  },
  {
   "cell_type": "code",
   "execution_count": 10,
   "metadata": {},
   "outputs": [
    {
     "name": "stderr",
     "output_type": "stream",
     "text": [
      "100%|██████████| 1284/1284 [31:08<00:00,  1.46s/it]\n"
     ]
    },
    {
     "data": {
      "text/plain": [
       "0.05175549516053957"
      ]
     },
     "execution_count": 10,
     "metadata": {},
     "output_type": "execute_result"
    }
   ],
   "source": [
    "model_test(model, test_dl, [171, 171])"
   ]
  },
  {
   "cell_type": "code",
   "execution_count": 15,
   "metadata": {},
   "outputs": [
    {
     "name": "stderr",
     "output_type": "stream",
     "text": [
      "100%|██████████| 1284/1284 [16:25<00:00,  1.30it/s]\n"
     ]
    },
    {
     "data": {
      "text/plain": [
       "0.04353831935894452"
      ]
     },
     "execution_count": 15,
     "metadata": {},
     "output_type": "execute_result"
    }
   ],
   "source": [
    "model_test(model, test_dl, [192, 192])"
   ]
  },
  {
   "cell_type": "code",
   "execution_count": 11,
   "metadata": {},
   "outputs": [],
   "source": [
    "model2 = outpainting.load_model('generator_final.pt').to(device)\n",
    "model2.eval()\n",
    "\n",
    "transforms2 = torchvision.transforms.Compose([\n",
    "    torchvision.transforms.PILToTensor()\n",
    "])\n",
    "test_ds = BasicDataset(\"data/test_256/\", transform=transforms)\n",
    "test_dl = DataLoader(test_ds, batch_size, pin_memory=True)"
   ]
  },
  {
   "cell_type": "code",
   "execution_count": 12,
   "metadata": {},
   "outputs": [
    {
     "name": "stderr",
     "output_type": "stream",
     "text": [
      "100%|██████████| 1284/1284 [19:38<00:00,  1.09it/s]\n"
     ]
    },
    {
     "data": {
      "text/plain": [
       "0.07265227605992017"
      ]
     },
     "execution_count": 12,
     "metadata": {},
     "output_type": "execute_result"
    }
   ],
   "source": [
    "model_test(model2, test_dl, [171, 171])"
   ]
  },
  {
   "cell_type": "code",
   "execution_count": 13,
   "metadata": {},
   "outputs": [
    {
     "name": "stderr",
     "output_type": "stream",
     "text": [
      "100%|██████████| 1284/1284 [15:46<00:00,  1.36it/s]\n"
     ]
    },
    {
     "data": {
      "text/plain": [
       "0.0657205017184914"
      ]
     },
     "execution_count": 13,
     "metadata": {},
     "output_type": "execute_result"
    }
   ],
   "source": [
    "model_test(model2, test_dl, [192, 192])"
   ]
  },
  {
   "attachments": {},
   "cell_type": "markdown",
   "metadata": {},
   "source": [
    "4"
   ]
  },
  {
   "cell_type": "code",
   "execution_count": null,
   "metadata": {},
   "outputs": [],
   "source": [
    "opn4 = OutpainterNet(chunk_size=4).to(device)\n",
    "opn4.load_state_dict(torch.load(\"ne\"))"
   ]
  },
  {
   "cell_type": "code",
   "execution_count": 40,
   "metadata": {},
   "outputs": [
    {
     "name": "stdout",
     "output_type": "stream",
     "text": [
      "Input size: (256, 256, 3)\n",
      "Output size: (192, 192, 3)\n",
      "Blended size: (384, 384, 3)\n",
      "Input size: (256, 256, 3)\n",
      "Output size: (192, 192, 3)\n",
      "Blended size: (384, 384, 3)\n",
      "Input size: (256, 256, 3)\n",
      "Output size: (192, 192, 3)\n",
      "Blended size: (384, 384, 3)\n",
      "Input size: (256, 256, 3)\n",
      "Output size: (192, 192, 3)\n",
      "Blended size: (384, 384, 3)\n",
      "Input size: (256, 256, 3)\n",
      "Output size: (192, 192, 3)\n",
      "Blended size: (384, 384, 3)\n",
      "Input size: (256, 256, 3)\n",
      "Output size: (192, 192, 3)\n",
      "Blended size: (384, 384, 3)\n",
      "Input size: (256, 256, 3)\n",
      "Output size: (192, 192, 3)\n",
      "Blended size: (384, 384, 3)\n",
      "Input size: (256, 256, 3)\n",
      "Output size: (192, 192, 3)\n",
      "Blended size: (384, 384, 3)\n",
      "Input size: (256, 256, 3)\n",
      "Output size: (192, 192, 3)\n",
      "Blended size: (384, 384, 3)\n",
      "Input size: (256, 256, 3)\n",
      "Output size: (192, 192, 3)\n",
      "Blended size: (384, 384, 3)\n"
     ]
    }
   ],
   "source": [
    "samples = random.sample(range(len(test_ds)), 10)\n",
    "samples = torch.stack([test_ds[i] for i in samples]).to(device)\n",
    "samples1 = outpaint(model, samples, [384, 384])\n",
    "samples1 = []\n",
    "for i, sample in enumerate(samples):\n",
    "    samples1.append(model.image_outpaint(sample.to(device).unsqueeze(0), (384, 384)).squeeze())\n",
    "samples2 = []\n",
    "for i, sample in enumerate(samples):\n",
    "    samples2.append(outpainting.perform_outpaint(model2.cpu(), sample.transpose(0, 2).cpu().numpy())[1])"
   ]
  },
  {
   "cell_type": "code",
   "execution_count": 42,
   "metadata": {},
   "outputs": [],
   "source": [
    "for i, sample in enumerate(samples1):\n",
    "    back_to_pil(sample).save(\"data/experiments/3/mine_\" + str(i) + \".png\")\n",
    "for i, sample in enumerate(samples2):\n",
    "    Image.fromarray((sample * 256).astype(np.uint8)).rotate(-90).save(\"data/experiments/3/ref_\" + str(i) + \".png\")"
   ]
  },
  {
   "cell_type": "code",
   "execution_count": 23,
   "metadata": {},
   "outputs": [],
   "source": [
    "pred = model.image_outpaint(test_ds[2].to(device).unsqueeze(0), (384, 384)).squeeze()"
   ]
  },
  {
   "cell_type": "code",
   "execution_count": null,
   "metadata": {},
   "outputs": [],
   "source": [
    "pred = Image.fromarray(((test_ds[2]) * 256).astype(np.uint8))"
   ]
  },
  {
   "cell_type": "code",
   "execution_count": 24,
   "metadata": {},
   "outputs": [
    {
     "data": {
      "image/png": "[encoded data removed]",
      "text/plain": [
       "<PIL.Image.Image image mode=RGB size=384x384 at 0x7FD7226EA5B0>"
      ]
     },
     "metadata": {},
     "output_type": "display_data"
    }
   ],
   "source": [
    "display(back_to_pil(pred))"
   ]
  }
 ],
 "metadata": {
  "kernelspec": {
   "display_name": "vision-stretcher",
   "language": "python",
   "name": "python3"
  },
  "language_info": {
   "codemirror_mode": {
    "name": "ipython",
    "version": 3
   },
   "file_extension": ".py",
   "mimetype": "text/x-python",
   "name": "python",
   "nbconvert_exporter": "python",
   "pygments_lexer": "ipython3",
   "version": "3.9.12"
  },
  "orig_nbformat": 4,
  "vscode": {
   "interpreter": {
    "hash": "083d3712760fdb628befe5d1b12c121e979c76aa443ff9a7fd57a6967e239b12"
   }
  }
 },
 "nbformat": 4,
 "nbformat_minor": 2
}
