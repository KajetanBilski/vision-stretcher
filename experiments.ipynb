{
 "cells": [
  {
   "cell_type": "code",
   "execution_count": 1,
   "metadata": {},
   "outputs": [
    {
     "name": "stderr",
     "output_type": "stream",
     "text": [
      "/home/proto/miniconda3/envs/vision-stretcher/lib/python3.9/site-packages/skimage/io/manage_plugins.py:23: UserWarning: Your installed pillow version is < 8.1.2. Several security issues (CVE-2021-27921, CVE-2021-25290, CVE-2021-25291, CVE-2021-25293, and more) have been fixed in pillow 8.1.2 or higher. We recommend to upgrade this library.\n",
      "  from .collection import imread_collection_wrapper\n"
     ]
    }
   ],
   "source": [
    "import json\n",
    "import torch\n",
    "from torch import nn\n",
    "import torchvision\n",
    "from stacker_net.train import MyDataset\n",
    "import random\n",
    "import numpy as np\n",
    "from main import *\n",
    "from PIL import Image\n",
    "from metrics.foreground_metric3 import foreground_score\n",
    "import pickle\n",
    "from torch.utils.data import DataLoader, random_split\n",
    "from outpainter_net.net import OutpainterNet\n",
    "from outpainter_net.train import train\n",
    "from tqdm import tqdm\n",
    "import sys\n",
    "from torchvision.transforms.functional import center_crop, resize\n",
    "import seaborn as sns\n",
    "import pandas as pd\n",
    "import matplotlib.pyplot as plt\n",
    "\n",
    "sns.set(rc={'figure.figsize':(10,8)})\n",
    "\n",
    "sys.path.insert(0, \"/mnt/c/Users/proto/repos/image-outpainting\")\n",
    "import outpainting\n",
    "\n",
    "device = torch.device('cuda') if torch.cuda.is_available() else torch.device('cpu')"
   ]
  },
  {
   "cell_type": "code",
   "execution_count": 2,
   "metadata": {},
   "outputs": [],
   "source": [
    "selection_filename = 'data/selected_images.json'\n",
    "with open(selection_filename, 'r') as f:\n",
    "        paths = json.load(f)\n",
    "transforms = torchvision.transforms.Compose([\n",
    "    torchvision.transforms.PILToTensor(),\n",
    "    torchvision.transforms.ConvertImageDtype(torch.float32)\n",
    "])\n",
    "img_ds = MyDataset('data/data_256', paths, transform=transforms)"
   ]
  },
  {
   "attachments": {},
   "cell_type": "markdown",
   "metadata": {},
   "source": [
    "1"
   ]
  },
  {
   "cell_type": "code",
   "execution_count": 3,
   "metadata": {},
   "outputs": [],
   "source": [
    "back_to_pil = torchvision.transforms.ToPILImage()\n",
    "images = [np.array(back_to_pil(img_ds[i])) for i in random.sample(range(len(img_ds)), 10)]\n",
    "base_dims = np.array((256, 256))\n",
    "dims = np.array([\n",
    "    [256, 288],\n",
    "    [256, 384],\n",
    "    [288, 256],\n",
    "    [256, 224],\n",
    "    [256, 128],\n",
    "    [224, 256],\n",
    "    [288, 288],\n",
    "    [224, 224]\n",
    "])\n",
    "save_dir = \"data/experiments/1/\"\n",
    "predictor, coi = init_detectron()"
   ]
  },
  {
   "cell_type": "code",
   "execution_count": 10,
   "metadata": {},
   "outputs": [
    {
     "name": "stderr",
     "output_type": "stream",
     "text": [
      "0it [00:00, ?it/s]/home/proto/miniconda3/envs/vision-stretcher/lib/python3.9/site-packages/detectron2/structures/image_list.py:88: UserWarning: __floordiv__ is deprecated, and its behavior will change in a future version of pytorch. It currently rounds toward 0 (like the 'trunc' function NOT 'floor'). This results in incorrect rounding for negative values. To keep the current behavior, use torch.div(a, b, rounding_mode='trunc'), or for actual floor division, use torch.div(a, b, rounding_mode='floor').\n",
      "  max_size = (max_size + (stride - 1)) // stride * stride\n",
      "/home/proto/miniconda3/envs/vision-stretcher/lib/python3.9/site-packages/torch/functional.py:445: UserWarning: torch.meshgrid: in an upcoming release, it will be required to pass the indexing argument. (Triggered internally at  /opt/conda/conda-bld/pytorch_1639180487213/work/aten/src/ATen/native/TensorShape.cpp:2157.)\n",
      "  return _VF.meshgrid(tensors, **kwargs)  # type: ignore[attr-defined]\n",
      "/home/proto/miniconda3/envs/vision-stretcher/lib/python3.9/site-packages/detectron2/structures/image_list.py:88: UserWarning: __floordiv__ is deprecated, and its behavior will change in a future version of pytorch. It currently rounds toward 0 (like the 'trunc' function NOT 'floor'). This results in incorrect rounding for negative values. To keep the current behavior, use torch.div(a, b, rounding_mode='trunc'), or for actual floor division, use torch.div(a, b, rounding_mode='floor').\n",
      "  max_size = (max_size + (stride - 1)) // stride * stride\n",
      "/home/proto/miniconda3/envs/vision-stretcher/lib/python3.9/site-packages/detectron2/structures/image_list.py:88: UserWarning: __floordiv__ is deprecated, and its behavior will change in a future version of pytorch. It currently rounds toward 0 (like the 'trunc' function NOT 'floor'). This results in incorrect rounding for negative values. To keep the current behavior, use torch.div(a, b, rounding_mode='trunc'), or for actual floor division, use torch.div(a, b, rounding_mode='floor').\n",
      "  max_size = (max_size + (stride - 1)) // stride * stride\n",
      "/home/proto/miniconda3/envs/vision-stretcher/lib/python3.9/site-packages/detectron2/structures/image_list.py:88: UserWarning: __floordiv__ is deprecated, and its behavior will change in a future version of pytorch. It currently rounds toward 0 (like the 'trunc' function NOT 'floor'). This results in incorrect rounding for negative values. To keep the current behavior, use torch.div(a, b, rounding_mode='trunc'), or for actual floor division, use torch.div(a, b, rounding_mode='floor').\n",
      "  max_size = (max_size + (stride - 1)) // stride * stride\n",
      "10it [20:22, 122.20s/it]\n"
     ]
    }
   ],
   "source": [
    "\n",
    "for idx, img in tqdm(enumerate(images)):\n",
    "    Image.fromarray(img).save(save_dir + str(idx) + \"_og.png\")\n",
    "    for idx2, dim in enumerate(dims):\n",
    "        mask = create_mask(predictor, coi, img)\n",
    "        output1, mask1 = resize(img, dim, mask, True)\n",
    "        output2, mask2 = resize(img, dim, mask)\n",
    "        Image.fromarray(output1.astype(np.uint8)).save(save_dir + str(idx) + \"_\" + str(idx2) + \"_base.png\")\n",
    "        Image.fromarray(output2.astype(np.uint8)).save(save_dir + str(idx) + \"_\" + str(idx2) + \"_mine.png\")"
   ]
  },
  {
   "attachments": {},
   "cell_type": "markdown",
   "metadata": {},
   "source": [
    "2"
   ]
  },
  {
   "cell_type": "code",
   "execution_count": 8,
   "metadata": {},
   "outputs": [
    {
     "name": "stderr",
     "output_type": "stream",
     "text": [
      "/home/proto/miniconda3/envs/vision-stretcher/lib/python3.9/site-packages/detectron2/structures/image_list.py:88: UserWarning: __floordiv__ is deprecated, and its behavior will change in a future version of pytorch. It currently rounds toward 0 (like the 'trunc' function NOT 'floor'). This results in incorrect rounding for negative values. To keep the current behavior, use torch.div(a, b, rounding_mode='trunc'), or for actual floor division, use torch.div(a, b, rounding_mode='floor').\n",
      "  max_size = (max_size + (stride - 1)) // stride * stride\n",
      "/home/proto/miniconda3/envs/vision-stretcher/lib/python3.9/site-packages/detectron2/structures/image_list.py:88: UserWarning: __floordiv__ is deprecated, and its behavior will change in a future version of pytorch. It currently rounds toward 0 (like the 'trunc' function NOT 'floor'). This results in incorrect rounding for negative values. To keep the current behavior, use torch.div(a, b, rounding_mode='trunc'), or for actual floor division, use torch.div(a, b, rounding_mode='floor').\n",
      "  max_size = (max_size + (stride - 1)) // stride * stride\n",
      "/home/proto/miniconda3/envs/vision-stretcher/lib/python3.9/site-packages/detectron2/structures/image_list.py:88: UserWarning: __floordiv__ is deprecated, and its behavior will change in a future version of pytorch. It currently rounds toward 0 (like the 'trunc' function NOT 'floor'). This results in incorrect rounding for negative values. To keep the current behavior, use torch.div(a, b, rounding_mode='trunc'), or for actual floor division, use torch.div(a, b, rounding_mode='floor').\n",
      "  max_size = (max_size + (stride - 1)) // stride * stride\n",
      "/home/proto/miniconda3/envs/vision-stretcher/lib/python3.9/site-packages/detectron2/structures/image_list.py:88: UserWarning: __floordiv__ is deprecated, and its behavior will change in a future version of pytorch. It currently rounds toward 0 (like the 'trunc' function NOT 'floor'). This results in incorrect rounding for negative values. To keep the current behavior, use torch.div(a, b, rounding_mode='trunc'), or for actual floor division, use torch.div(a, b, rounding_mode='floor').\n",
      "  max_size = (max_size + (stride - 1)) // stride * stride\n",
      "/home/proto/miniconda3/envs/vision-stretcher/lib/python3.9/site-packages/detectron2/structures/image_list.py:88: UserWarning: __floordiv__ is deprecated, and its behavior will change in a future version of pytorch. It currently rounds toward 0 (like the 'trunc' function NOT 'floor'). This results in incorrect rounding for negative values. To keep the current behavior, use torch.div(a, b, rounding_mode='trunc'), or for actual floor division, use torch.div(a, b, rounding_mode='floor').\n",
      "  max_size = (max_size + (stride - 1)) // stride * stride\n",
      "/home/proto/miniconda3/envs/vision-stretcher/lib/python3.9/site-packages/detectron2/structures/image_list.py:88: UserWarning: __floordiv__ is deprecated, and its behavior will change in a future version of pytorch. It currently rounds toward 0 (like the 'trunc' function NOT 'floor'). This results in incorrect rounding for negative values. To keep the current behavior, use torch.div(a, b, rounding_mode='trunc'), or for actual floor division, use torch.div(a, b, rounding_mode='floor').\n",
      "  max_size = (max_size + (stride - 1)) // stride * stride\n",
      "/home/proto/miniconda3/envs/vision-stretcher/lib/python3.9/site-packages/detectron2/structures/image_list.py:88: UserWarning: __floordiv__ is deprecated, and its behavior will change in a future version of pytorch. It currently rounds toward 0 (like the 'trunc' function NOT 'floor'). This results in incorrect rounding for negative values. To keep the current behavior, use torch.div(a, b, rounding_mode='trunc'), or for actual floor division, use torch.div(a, b, rounding_mode='floor').\n",
      "  max_size = (max_size + (stride - 1)) // stride * stride\n",
      "/home/proto/miniconda3/envs/vision-stretcher/lib/python3.9/site-packages/detectron2/structures/image_list.py:88: UserWarning: __floordiv__ is deprecated, and its behavior will change in a future version of pytorch. It currently rounds toward 0 (like the 'trunc' function NOT 'floor'). This results in incorrect rounding for negative values. To keep the current behavior, use torch.div(a, b, rounding_mode='trunc'), or for actual floor division, use torch.div(a, b, rounding_mode='floor').\n",
      "  max_size = (max_size + (stride - 1)) // stride * stride\n",
      "/home/proto/miniconda3/envs/vision-stretcher/lib/python3.9/site-packages/detectron2/structures/image_list.py:88: UserWarning: __floordiv__ is deprecated, and its behavior will change in a future version of pytorch. It currently rounds toward 0 (like the 'trunc' function NOT 'floor'). This results in incorrect rounding for negative values. To keep the current behavior, use torch.div(a, b, rounding_mode='trunc'), or for actual floor division, use torch.div(a, b, rounding_mode='floor').\n",
      "  max_size = (max_size + (stride - 1)) // stride * stride\n",
      "/home/proto/miniconda3/envs/vision-stretcher/lib/python3.9/site-packages/detectron2/structures/image_list.py:88: UserWarning: __floordiv__ is deprecated, and its behavior will change in a future version of pytorch. It currently rounds toward 0 (like the 'trunc' function NOT 'floor'). This results in incorrect rounding for negative values. To keep the current behavior, use torch.div(a, b, rounding_mode='trunc'), or for actual floor division, use torch.div(a, b, rounding_mode='floor').\n",
      "  max_size = (max_size + (stride - 1)) // stride * stride\n",
      "/home/proto/miniconda3/envs/vision-stretcher/lib/python3.9/site-packages/detectron2/structures/image_list.py:88: UserWarning: __floordiv__ is deprecated, and its behavior will change in a future version of pytorch. It currently rounds toward 0 (like the 'trunc' function NOT 'floor'). This results in incorrect rounding for negative values. To keep the current behavior, use torch.div(a, b, rounding_mode='trunc'), or for actual floor division, use torch.div(a, b, rounding_mode='floor').\n",
      "  max_size = (max_size + (stride - 1)) // stride * stride\n",
      "/home/proto/miniconda3/envs/vision-stretcher/lib/python3.9/site-packages/detectron2/structures/image_list.py:88: UserWarning: __floordiv__ is deprecated, and its behavior will change in a future version of pytorch. It currently rounds toward 0 (like the 'trunc' function NOT 'floor'). This results in incorrect rounding for negative values. To keep the current behavior, use torch.div(a, b, rounding_mode='trunc'), or for actual floor division, use torch.div(a, b, rounding_mode='floor').\n",
      "  max_size = (max_size + (stride - 1)) // stride * stride\n",
      "/home/proto/miniconda3/envs/vision-stretcher/lib/python3.9/site-packages/detectron2/structures/image_list.py:88: UserWarning: __floordiv__ is deprecated, and its behavior will change in a future version of pytorch. It currently rounds toward 0 (like the 'trunc' function NOT 'floor'). This results in incorrect rounding for negative values. To keep the current behavior, use torch.div(a, b, rounding_mode='trunc'), or for actual floor division, use torch.div(a, b, rounding_mode='floor').\n",
      "  max_size = (max_size + (stride - 1)) // stride * stride\n",
      "/home/proto/miniconda3/envs/vision-stretcher/lib/python3.9/site-packages/detectron2/structures/image_list.py:88: UserWarning: __floordiv__ is deprecated, and its behavior will change in a future version of pytorch. It currently rounds toward 0 (like the 'trunc' function NOT 'floor'). This results in incorrect rounding for negative values. To keep the current behavior, use torch.div(a, b, rounding_mode='trunc'), or for actual floor division, use torch.div(a, b, rounding_mode='floor').\n",
      "  max_size = (max_size + (stride - 1)) // stride * stride\n",
      "/home/proto/miniconda3/envs/vision-stretcher/lib/python3.9/site-packages/detectron2/structures/image_list.py:88: UserWarning: __floordiv__ is deprecated, and its behavior will change in a future version of pytorch. It currently rounds toward 0 (like the 'trunc' function NOT 'floor'). This results in incorrect rounding for negative values. To keep the current behavior, use torch.div(a, b, rounding_mode='trunc'), or for actual floor division, use torch.div(a, b, rounding_mode='floor').\n",
      "  max_size = (max_size + (stride - 1)) // stride * stride\n",
      "/home/proto/miniconda3/envs/vision-stretcher/lib/python3.9/site-packages/detectron2/structures/image_list.py:88: UserWarning: __floordiv__ is deprecated, and its behavior will change in a future version of pytorch. It currently rounds toward 0 (like the 'trunc' function NOT 'floor'). This results in incorrect rounding for negative values. To keep the current behavior, use torch.div(a, b, rounding_mode='trunc'), or for actual floor division, use torch.div(a, b, rounding_mode='floor').\n",
      "  max_size = (max_size + (stride - 1)) // stride * stride\n",
      "/home/proto/miniconda3/envs/vision-stretcher/lib/python3.9/site-packages/detectron2/structures/image_list.py:88: UserWarning: __floordiv__ is deprecated, and its behavior will change in a future version of pytorch. It currently rounds toward 0 (like the 'trunc' function NOT 'floor'). This results in incorrect rounding for negative values. To keep the current behavior, use torch.div(a, b, rounding_mode='trunc'), or for actual floor division, use torch.div(a, b, rounding_mode='floor').\n",
      "  max_size = (max_size + (stride - 1)) // stride * stride\n",
      "/home/proto/miniconda3/envs/vision-stretcher/lib/python3.9/site-packages/detectron2/structures/image_list.py:88: UserWarning: __floordiv__ is deprecated, and its behavior will change in a future version of pytorch. It currently rounds toward 0 (like the 'trunc' function NOT 'floor'). This results in incorrect rounding for negative values. To keep the current behavior, use torch.div(a, b, rounding_mode='trunc'), or for actual floor division, use torch.div(a, b, rounding_mode='floor').\n",
      "  max_size = (max_size + (stride - 1)) // stride * stride\n",
      "/home/proto/miniconda3/envs/vision-stretcher/lib/python3.9/site-packages/detectron2/structures/image_list.py:88: UserWarning: __floordiv__ is deprecated, and its behavior will change in a future version of pytorch. It currently rounds toward 0 (like the 'trunc' function NOT 'floor'). This results in incorrect rounding for negative values. To keep the current behavior, use torch.div(a, b, rounding_mode='trunc'), or for actual floor division, use torch.div(a, b, rounding_mode='floor').\n",
      "  max_size = (max_size + (stride - 1)) // stride * stride\n",
      "/home/proto/miniconda3/envs/vision-stretcher/lib/python3.9/site-packages/detectron2/structures/image_list.py:88: UserWarning: __floordiv__ is deprecated, and its behavior will change in a future version of pytorch. It currently rounds toward 0 (like the 'trunc' function NOT 'floor'). This results in incorrect rounding for negative values. To keep the current behavior, use torch.div(a, b, rounding_mode='trunc'), or for actual floor division, use torch.div(a, b, rounding_mode='floor').\n",
      "  max_size = (max_size + (stride - 1)) // stride * stride\n",
      "/home/proto/miniconda3/envs/vision-stretcher/lib/python3.9/site-packages/detectron2/structures/image_list.py:88: UserWarning: __floordiv__ is deprecated, and its behavior will change in a future version of pytorch. It currently rounds toward 0 (like the 'trunc' function NOT 'floor'). This results in incorrect rounding for negative values. To keep the current behavior, use torch.div(a, b, rounding_mode='trunc'), or for actual floor division, use torch.div(a, b, rounding_mode='floor').\n",
      "  max_size = (max_size + (stride - 1)) // stride * stride\n",
      "/home/proto/miniconda3/envs/vision-stretcher/lib/python3.9/site-packages/detectron2/structures/image_list.py:88: UserWarning: __floordiv__ is deprecated, and its behavior will change in a future version of pytorch. It currently rounds toward 0 (like the 'trunc' function NOT 'floor'). This results in incorrect rounding for negative values. To keep the current behavior, use torch.div(a, b, rounding_mode='trunc'), or for actual floor division, use torch.div(a, b, rounding_mode='floor').\n",
      "  max_size = (max_size + (stride - 1)) // stride * stride\n",
      "/home/proto/miniconda3/envs/vision-stretcher/lib/python3.9/site-packages/detectron2/structures/image_list.py:88: UserWarning: __floordiv__ is deprecated, and its behavior will change in a future version of pytorch. It currently rounds toward 0 (like the 'trunc' function NOT 'floor'). This results in incorrect rounding for negative values. To keep the current behavior, use torch.div(a, b, rounding_mode='trunc'), or for actual floor division, use torch.div(a, b, rounding_mode='floor').\n",
      "  max_size = (max_size + (stride - 1)) // stride * stride\n",
      "/home/proto/miniconda3/envs/vision-stretcher/lib/python3.9/site-packages/detectron2/structures/image_list.py:88: UserWarning: __floordiv__ is deprecated, and its behavior will change in a future version of pytorch. It currently rounds toward 0 (like the 'trunc' function NOT 'floor'). This results in incorrect rounding for negative values. To keep the current behavior, use torch.div(a, b, rounding_mode='trunc'), or for actual floor division, use torch.div(a, b, rounding_mode='floor').\n",
      "  max_size = (max_size + (stride - 1)) // stride * stride\n",
      "/home/proto/miniconda3/envs/vision-stretcher/lib/python3.9/site-packages/detectron2/structures/image_list.py:88: UserWarning: __floordiv__ is deprecated, and its behavior will change in a future version of pytorch. It currently rounds toward 0 (like the 'trunc' function NOT 'floor'). This results in incorrect rounding for negative values. To keep the current behavior, use torch.div(a, b, rounding_mode='trunc'), or for actual floor division, use torch.div(a, b, rounding_mode='floor').\n",
      "  max_size = (max_size + (stride - 1)) // stride * stride\n",
      "/home/proto/miniconda3/envs/vision-stretcher/lib/python3.9/site-packages/detectron2/structures/image_list.py:88: UserWarning: __floordiv__ is deprecated, and its behavior will change in a future version of pytorch. It currently rounds toward 0 (like the 'trunc' function NOT 'floor'). This results in incorrect rounding for negative values. To keep the current behavior, use torch.div(a, b, rounding_mode='trunc'), or for actual floor division, use torch.div(a, b, rounding_mode='floor').\n",
      "  max_size = (max_size + (stride - 1)) // stride * stride\n",
      "/home/proto/miniconda3/envs/vision-stretcher/lib/python3.9/site-packages/detectron2/structures/image_list.py:88: UserWarning: __floordiv__ is deprecated, and its behavior will change in a future version of pytorch. It currently rounds toward 0 (like the 'trunc' function NOT 'floor'). This results in incorrect rounding for negative values. To keep the current behavior, use torch.div(a, b, rounding_mode='trunc'), or for actual floor division, use torch.div(a, b, rounding_mode='floor').\n",
      "  max_size = (max_size + (stride - 1)) // stride * stride\n",
      "/home/proto/miniconda3/envs/vision-stretcher/lib/python3.9/site-packages/detectron2/structures/image_list.py:88: UserWarning: __floordiv__ is deprecated, and its behavior will change in a future version of pytorch. It currently rounds toward 0 (like the 'trunc' function NOT 'floor'). This results in incorrect rounding for negative values. To keep the current behavior, use torch.div(a, b, rounding_mode='trunc'), or for actual floor division, use torch.div(a, b, rounding_mode='floor').\n",
      "  max_size = (max_size + (stride - 1)) // stride * stride\n",
      "/home/proto/miniconda3/envs/vision-stretcher/lib/python3.9/site-packages/detectron2/structures/image_list.py:88: UserWarning: __floordiv__ is deprecated, and its behavior will change in a future version of pytorch. It currently rounds toward 0 (like the 'trunc' function NOT 'floor'). This results in incorrect rounding for negative values. To keep the current behavior, use torch.div(a, b, rounding_mode='trunc'), or for actual floor division, use torch.div(a, b, rounding_mode='floor').\n",
      "  max_size = (max_size + (stride - 1)) // stride * stride\n",
      "/home/proto/miniconda3/envs/vision-stretcher/lib/python3.9/site-packages/detectron2/structures/image_list.py:88: UserWarning: __floordiv__ is deprecated, and its behavior will change in a future version of pytorch. It currently rounds toward 0 (like the 'trunc' function NOT 'floor'). This results in incorrect rounding for negative values. To keep the current behavior, use torch.div(a, b, rounding_mode='trunc'), or for actual floor division, use torch.div(a, b, rounding_mode='floor').\n",
      "  max_size = (max_size + (stride - 1)) // stride * stride\n",
      "/home/proto/miniconda3/envs/vision-stretcher/lib/python3.9/site-packages/detectron2/structures/image_list.py:88: UserWarning: __floordiv__ is deprecated, and its behavior will change in a future version of pytorch. It currently rounds toward 0 (like the 'trunc' function NOT 'floor'). This results in incorrect rounding for negative values. To keep the current behavior, use torch.div(a, b, rounding_mode='trunc'), or for actual floor division, use torch.div(a, b, rounding_mode='floor').\n",
      "  max_size = (max_size + (stride - 1)) // stride * stride\n",
      "/home/proto/miniconda3/envs/vision-stretcher/lib/python3.9/site-packages/detectron2/structures/image_list.py:88: UserWarning: __floordiv__ is deprecated, and its behavior will change in a future version of pytorch. It currently rounds toward 0 (like the 'trunc' function NOT 'floor'). This results in incorrect rounding for negative values. To keep the current behavior, use torch.div(a, b, rounding_mode='trunc'), or for actual floor division, use torch.div(a, b, rounding_mode='floor').\n",
      "  max_size = (max_size + (stride - 1)) // stride * stride\n",
      "/home/proto/miniconda3/envs/vision-stretcher/lib/python3.9/site-packages/detectron2/structures/image_list.py:88: UserWarning: __floordiv__ is deprecated, and its behavior will change in a future version of pytorch. It currently rounds toward 0 (like the 'trunc' function NOT 'floor'). This results in incorrect rounding for negative values. To keep the current behavior, use torch.div(a, b, rounding_mode='trunc'), or for actual floor division, use torch.div(a, b, rounding_mode='floor').\n",
      "  max_size = (max_size + (stride - 1)) // stride * stride\n",
      "/home/proto/miniconda3/envs/vision-stretcher/lib/python3.9/site-packages/detectron2/structures/image_list.py:88: UserWarning: __floordiv__ is deprecated, and its behavior will change in a future version of pytorch. It currently rounds toward 0 (like the 'trunc' function NOT 'floor'). This results in incorrect rounding for negative values. To keep the current behavior, use torch.div(a, b, rounding_mode='trunc'), or for actual floor division, use torch.div(a, b, rounding_mode='floor').\n",
      "  max_size = (max_size + (stride - 1)) // stride * stride\n"
     ]
    }
   ],
   "source": [
    "images = [np.array(back_to_pil(img_ds[i])) for i in random.sample(range(len(img_ds)), 50)]\n",
    "stats = [[], []]\n",
    "for idx, img in enumerate(images):\n",
    "    mask = create_mask(predictor, coi, img)\n",
    "    output1, mask1 = resize(img, [256, 320], mask, True)\n",
    "    output2, mask2 = resize(img, [256, 320], mask)\n",
    "    stats[0].append(foreground_score(mask, mask1))\n",
    "    stats[1].append(foreground_score(mask, mask2))"
   ]
  },
  {
   "cell_type": "code",
   "execution_count": 9,
   "metadata": {},
   "outputs": [
    {
     "data": {
      "text/plain": [
       "[[0.7514912712745581,\n",
       "  0.7707317073170732,\n",
       "  1.0,\n",
       "  0.5362904269918952,\n",
       "  0.7133928155537105,\n",
       "  1.0,\n",
       "  0.8967637348991917,\n",
       "  0.7432096696094822,\n",
       "  0.8493975903614458,\n",
       "  0.802165725047081,\n",
       "  1.0,\n",
       "  0.6770327672234155,\n",
       "  1.0,\n",
       "  0.680723113816639,\n",
       "  0.9217081850533808,\n",
       "  0.7215930538211827,\n",
       "  1.0,\n",
       "  0.5542924553595368,\n",
       "  0.7210191769015298,\n",
       "  0.9173789173789174,\n",
       "  0.7739932864903658,\n",
       "  1.0,\n",
       "  1.0,\n",
       "  0.836462918144209,\n",
       "  0.9134623486779798,\n",
       "  1.0,\n",
       "  1.0,\n",
       "  1.0,\n",
       "  0.8199261992619926,\n",
       "  0.7615473956915497,\n",
       "  0.9441955953714072,\n",
       "  1.0,\n",
       "  0.7436378024907326,\n",
       "  0.6863260817804041,\n",
       "  1.0,\n",
       "  0.7739760115463097,\n",
       "  0.8761537170666219,\n",
       "  0.612116090527372,\n",
       "  0.7819802140075763,\n",
       "  0.6476678284948295,\n",
       "  0.6610257933044387,\n",
       "  1.0,\n",
       "  0.9361128142244022,\n",
       "  0.9007307453168496,\n",
       "  1.0,\n",
       "  0.8187197417966648,\n",
       "  1.0,\n",
       "  0.9615384615384616,\n",
       "  0.746629627277522,\n",
       "  0.803742636017096],\n",
       " [0.7384624107041615,\n",
       "  0.92,\n",
       "  1.0,\n",
       "  0.4802105618736629,\n",
       "  0.9736876390280919,\n",
       "  1.0,\n",
       "  0.9642387564167884,\n",
       "  0.9347686801620868,\n",
       "  0.9942546114302994,\n",
       "  0.9994042743316702,\n",
       "  1.0,\n",
       "  0.8672876410583714,\n",
       "  1.0,\n",
       "  0.712320773591197,\n",
       "  0.9232142857142858,\n",
       "  0.9071445263118638,\n",
       "  1.0,\n",
       "  0.9619336758524054,\n",
       "  0.9964887137226801,\n",
       "  0.9989827060020345,\n",
       "  0.8977413579396777,\n",
       "  1.0,\n",
       "  1.0,\n",
       "  0.8787853707266794,\n",
       "  0.9834479165383286,\n",
       "  1.0,\n",
       "  1.0,\n",
       "  1.0,\n",
       "  0.947911227154047,\n",
       "  0.8797369716596475,\n",
       "  1.0,\n",
       "  1.0,\n",
       "  0.75793334396428,\n",
       "  0.996441172582501,\n",
       "  1.0,\n",
       "  0.7956255943485939,\n",
       "  1.0,\n",
       "  0.6491921320688444,\n",
       "  0.9307793413734121,\n",
       "  0.9110664538498983,\n",
       "  0.9648279393820611,\n",
       "  1.0,\n",
       "  1.0,\n",
       "  1.0,\n",
       "  1.0,\n",
       "  0.9999404797333491,\n",
       "  1.0,\n",
       "  1.0,\n",
       "  0.9589479169964277,\n",
       "  0.978151735841052]]"
      ]
     },
     "execution_count": 9,
     "metadata": {},
     "output_type": "execute_result"
    }
   ],
   "source": [
    "stats"
   ]
  },
  {
   "cell_type": "code",
   "execution_count": 10,
   "metadata": {},
   "outputs": [
    {
     "data": {
      "text/plain": [
       "[Text(59.125, 0.5, 'wartość metryki')]"
      ]
     },
     "execution_count": 10,
     "metadata": {},
     "output_type": "execute_result"
    },
    {
     "data": {
      "image/png": "[encoded data removed]",
      "text/plain": [
       "<Figure size 720x576 with 1 Axes>"
      ]
     },
     "metadata": {},
     "output_type": "display_data"
    }
   ],
   "source": [
    "stats = [[0.7514912712745581,\n",
    "  0.7707317073170732,\n",
    "  1.0,\n",
    "  0.5362904269918952,\n",
    "  0.7133928155537105,\n",
    "  1.0,\n",
    "  0.8967637348991917,\n",
    "  0.7432096696094822,\n",
    "  0.8493975903614458,\n",
    "  0.802165725047081,\n",
    "  1.0,\n",
    "  0.6770327672234155,\n",
    "  1.0,\n",
    "  0.680723113816639,\n",
    "  0.9217081850533808,\n",
    "  0.7215930538211827,\n",
    "  1.0,\n",
    "  0.5542924553595368,\n",
    "  0.7210191769015298,\n",
    "  0.9173789173789174,\n",
    "  0.7739932864903658,\n",
    "  1.0,\n",
    "  1.0,\n",
    "  0.836462918144209,\n",
    "  0.9134623486779798,\n",
    "  1.0,\n",
    "  1.0,\n",
    "  1.0,\n",
    "  0.8199261992619926,\n",
    "  0.7615473956915497,\n",
    "  0.9441955953714072,\n",
    "  1.0,\n",
    "  0.7436378024907326,\n",
    "  0.6863260817804041,\n",
    "  1.0,\n",
    "  0.7739760115463097,\n",
    "  0.8761537170666219,\n",
    "  0.612116090527372,\n",
    "  0.7819802140075763,\n",
    "  0.6476678284948295,\n",
    "  0.6610257933044387,\n",
    "  1.0,\n",
    "  0.9361128142244022,\n",
    "  0.9007307453168496,\n",
    "  1.0,\n",
    "  0.8187197417966648,\n",
    "  1.0,\n",
    "  0.9615384615384616,\n",
    "  0.746629627277522,\n",
    "  0.803742636017096],\n",
    " [0.7384624107041615,\n",
    "  0.92,\n",
    "  1.0,\n",
    "  0.4802105618736629,\n",
    "  0.9736876390280919,\n",
    "  1.0,\n",
    "  0.9642387564167884,\n",
    "  0.9347686801620868,\n",
    "  0.9942546114302994,\n",
    "  0.9994042743316702,\n",
    "  1.0,\n",
    "  0.8672876410583714,\n",
    "  1.0,\n",
    "  0.712320773591197,\n",
    "  0.9232142857142858,\n",
    "  0.9071445263118638,\n",
    "  1.0,\n",
    "  0.9619336758524054,\n",
    "  0.9964887137226801,\n",
    "  0.9989827060020345,\n",
    "  0.8977413579396777,\n",
    "  1.0,\n",
    "  1.0,\n",
    "  0.8787853707266794,\n",
    "  0.9834479165383286,\n",
    "  1.0,\n",
    "  1.0,\n",
    "  1.0,\n",
    "  0.947911227154047,\n",
    "  0.8797369716596475,\n",
    "  1.0,\n",
    "  1.0,\n",
    "  0.75793334396428,\n",
    "  0.996441172582501,\n",
    "  1.0,\n",
    "  0.7956255943485939,\n",
    "  1.0,\n",
    "  0.6491921320688444,\n",
    "  0.9307793413734121,\n",
    "  0.9110664538498983,\n",
    "  0.9648279393820611,\n",
    "  1.0,\n",
    "  1.0,\n",
    "  1.0,\n",
    "  1.0,\n",
    "  0.9999404797333491,\n",
    "  1.0,\n",
    "  1.0,\n",
    "  0.9589479169964277,\n",
    "  0.978151735841052]]\n",
    "data = {\n",
    "  \"seam carving\": stats[0],\n",
    "  \"vision-stretcher\": stats[1]\n",
    "}\n",
    "gfg = sns.swarmplot(data=data)\n",
    "gfg.set(ylabel=\"wartość metryki\")"
   ]
  },
  {
   "attachments": {},
   "cell_type": "markdown",
   "metadata": {},
   "source": [
    "3"
   ]
  },
  {
   "cell_type": "code",
   "execution_count": 3,
   "metadata": {},
   "outputs": [],
   "source": [
    "with open(\"data/chunk4_dataset.pkl\", \"rb\") as f:\n",
    "    ds = pickle.load(f)"
   ]
  },
  {
   "cell_type": "code",
   "execution_count": 4,
   "metadata": {},
   "outputs": [],
   "source": [
    "BATCH_SIZE = 128\n",
    "\n",
    "train_len = int(len(ds) * 0.8)\n",
    "val_len = len(ds) - train_len\n",
    "train_ds, val_ds = random_split(ds, (train_len, val_len))\n",
    "train_dl = DataLoader(train_ds, BATCH_SIZE, shuffle=True, pin_memory=True)\n",
    "val_dl = DataLoader(val_ds, BATCH_SIZE, pin_memory=True)"
   ]
  },
  {
   "cell_type": "code",
   "execution_count": 6,
   "metadata": {},
   "outputs": [],
   "source": [
    "model = OutpainterNet().to(device)"
   ]
  },
  {
   "cell_type": "code",
   "execution_count": 6,
   "metadata": {},
   "outputs": [
    {
     "name": "stderr",
     "output_type": "stream",
     "text": [
      "100%|██████████| 39375/39375 [01:31<00:00, 428.53it/s]\n",
      "  2%|▏         | 1/50 [01:42<1:23:43, 102.53s/it]"
     ]
    },
    {
     "name": "stdout",
     "output_type": "stream",
     "text": [
      "Epoch 0: train loss = 0.012, val loss = 0.011\n"
     ]
    },
    {
     "name": "stderr",
     "output_type": "stream",
     "text": [
      "100%|██████████| 39375/39375 [01:28<00:00, 446.28it/s]\n",
      "  4%|▍         | 2/50 [03:21<1:20:17, 100.36s/it]"
     ]
    },
    {
     "name": "stdout",
     "output_type": "stream",
     "text": [
      "Epoch 1: train loss = 0.011, val loss = 0.011\n"
     ]
    },
    {
     "name": "stderr",
     "output_type": "stream",
     "text": [
      "100%|██████████| 39375/39375 [01:28<00:00, 443.66it/s]\n",
      "  6%|▌         | 3/50 [05:00<1:18:19, 99.99s/it] "
     ]
    },
    {
     "name": "stdout",
     "output_type": "stream",
     "text": [
      "Epoch 2: train loss = 0.011, val loss = 0.011\n"
     ]
    },
    {
     "name": "stderr",
     "output_type": "stream",
     "text": [
      "100%|██████████| 39375/39375 [01:30<00:00, 437.45it/s]\n",
      "  8%|▊         | 4/50 [06:41<1:16:50, 100.23s/it]"
     ]
    },
    {
     "name": "stdout",
     "output_type": "stream",
     "text": [
      "Epoch 3: train loss = 0.011, val loss = 0.011\n"
     ]
    },
    {
     "name": "stderr",
     "output_type": "stream",
     "text": [
      "100%|██████████| 39375/39375 [01:30<00:00, 434.69it/s]\n",
      " 10%|█         | 5/50 [08:22<1:15:25, 100.56s/it]"
     ]
    },
    {
     "name": "stdout",
     "output_type": "stream",
     "text": [
      "Epoch 4: train loss = 0.011, val loss = 0.011\n"
     ]
    },
    {
     "name": "stderr",
     "output_type": "stream",
     "text": [
      "100%|██████████| 39375/39375 [01:30<00:00, 432.89it/s]\n",
      " 12%|█▏        | 6/50 [10:04<1:13:59, 100.89s/it]"
     ]
    },
    {
     "name": "stdout",
     "output_type": "stream",
     "text": [
      "Epoch 5: train loss = 0.011, val loss = 0.011\n"
     ]
    },
    {
     "name": "stderr",
     "output_type": "stream",
     "text": [
      "100%|██████████| 39375/39375 [01:30<00:00, 436.74it/s]\n",
      " 14%|█▍        | 7/50 [11:44<1:12:16, 100.85s/it]"
     ]
    },
    {
     "name": "stdout",
     "output_type": "stream",
     "text": [
      "Epoch 6: train loss = 0.011, val loss = 0.011\n"
     ]
    },
    {
     "name": "stderr",
     "output_type": "stream",
     "text": [
      "100%|██████████| 39375/39375 [01:30<00:00, 435.13it/s]\n",
      " 16%|█▌        | 8/50 [13:26<1:10:38, 100.91s/it]"
     ]
    },
    {
     "name": "stdout",
     "output_type": "stream",
     "text": [
      "Epoch 7: train loss = 0.011, val loss = 0.011\n"
     ]
    },
    {
     "name": "stderr",
     "output_type": "stream",
     "text": [
      "100%|██████████| 39375/39375 [01:30<00:00, 437.18it/s]\n",
      " 18%|█▊        | 9/50 [15:06<1:08:53, 100.81s/it]"
     ]
    },
    {
     "name": "stdout",
     "output_type": "stream",
     "text": [
      "Epoch 8: train loss = 0.011, val loss = 0.011\n"
     ]
    },
    {
     "name": "stderr",
     "output_type": "stream",
     "text": [
      "100%|██████████| 39375/39375 [01:32<00:00, 423.82it/s]\n",
      " 20%|██        | 10/50 [16:50<1:07:45, 101.63s/it]"
     ]
    },
    {
     "name": "stdout",
     "output_type": "stream",
     "text": [
      "Epoch 9: train loss = 0.011, val loss = 0.011\n"
     ]
    },
    {
     "name": "stderr",
     "output_type": "stream",
     "text": [
      "100%|██████████| 39375/39375 [01:29<00:00, 437.74it/s]\n",
      " 22%|██▏       | 11/50 [18:30<1:05:50, 101.30s/it]"
     ]
    },
    {
     "name": "stdout",
     "output_type": "stream",
     "text": [
      "Epoch 10: train loss = 0.011, val loss = 0.011\n"
     ]
    },
    {
     "name": "stderr",
     "output_type": "stream",
     "text": [
      "100%|██████████| 39375/39375 [01:29<00:00, 437.54it/s]\n",
      " 24%|██▍       | 12/50 [20:11<1:04:00, 101.07s/it]"
     ]
    },
    {
     "name": "stdout",
     "output_type": "stream",
     "text": [
      "Epoch 11: train loss = 0.011, val loss = 0.011\n"
     ]
    },
    {
     "name": "stderr",
     "output_type": "stream",
     "text": [
      "100%|██████████| 39375/39375 [01:29<00:00, 437.61it/s]\n",
      " 26%|██▌       | 13/50 [21:51<1:02:14, 100.93s/it]"
     ]
    },
    {
     "name": "stdout",
     "output_type": "stream",
     "text": [
      "Epoch 12: train loss = 0.011, val loss = 0.011\n"
     ]
    },
    {
     "name": "stderr",
     "output_type": "stream",
     "text": [
      "100%|██████████| 39375/39375 [01:29<00:00, 439.32it/s]\n",
      " 28%|██▊       | 14/50 [23:31<1:00:24, 100.69s/it]"
     ]
    },
    {
     "name": "stdout",
     "output_type": "stream",
     "text": [
      "Epoch 13: train loss = 0.011, val loss = 0.011\n"
     ]
    },
    {
     "name": "stderr",
     "output_type": "stream",
     "text": [
      "100%|██████████| 39375/39375 [01:29<00:00, 437.73it/s]\n",
      " 30%|███       | 15/50 [25:12<58:43, 100.67s/it]  "
     ]
    },
    {
     "name": "stdout",
     "output_type": "stream",
     "text": [
      "Epoch 14: train loss = 0.011, val loss = 0.011\n"
     ]
    },
    {
     "name": "stderr",
     "output_type": "stream",
     "text": [
      "100%|██████████| 39375/39375 [01:29<00:00, 441.22it/s]\n",
      " 32%|███▏      | 16/50 [26:52<56:54, 100.42s/it]"
     ]
    },
    {
     "name": "stdout",
     "output_type": "stream",
     "text": [
      "Epoch 15: train loss = 0.011, val loss = 0.011\n"
     ]
    },
    {
     "name": "stderr",
     "output_type": "stream",
     "text": [
      "100%|██████████| 39375/39375 [01:29<00:00, 439.82it/s]\n",
      " 34%|███▍      | 17/50 [28:32<55:10, 100.33s/it]"
     ]
    },
    {
     "name": "stdout",
     "output_type": "stream",
     "text": [
      "Epoch 16: train loss = 0.011, val loss = 0.011\n"
     ]
    },
    {
     "name": "stderr",
     "output_type": "stream",
     "text": [
      "100%|██████████| 39375/39375 [01:30<00:00, 436.53it/s]\n",
      " 36%|███▌      | 18/50 [30:13<53:35, 100.47s/it]"
     ]
    },
    {
     "name": "stdout",
     "output_type": "stream",
     "text": [
      "Epoch 17: train loss = 0.011, val loss = 0.011\n"
     ]
    },
    {
     "name": "stderr",
     "output_type": "stream",
     "text": [
      "100%|██████████| 39375/39375 [01:28<00:00, 443.53it/s]\n",
      " 38%|███▊      | 19/50 [31:52<51:44, 100.15s/it]"
     ]
    },
    {
     "name": "stdout",
     "output_type": "stream",
     "text": [
      "Epoch 18: train loss = 0.011, val loss = 0.011\n"
     ]
    },
    {
     "name": "stderr",
     "output_type": "stream",
     "text": [
      "100%|██████████| 39375/39375 [01:29<00:00, 441.77it/s]\n",
      " 40%|████      | 20/50 [33:32<50:00, 100.00s/it]"
     ]
    },
    {
     "name": "stdout",
     "output_type": "stream",
     "text": [
      "Epoch 19: train loss = 0.011, val loss = 0.011\n"
     ]
    },
    {
     "name": "stderr",
     "output_type": "stream",
     "text": [
      "100%|██████████| 39375/39375 [01:30<00:00, 434.93it/s]\n",
      " 42%|████▏     | 21/50 [35:13<48:29, 100.34s/it]"
     ]
    },
    {
     "name": "stdout",
     "output_type": "stream",
     "text": [
      "Epoch 20: train loss = 0.011, val loss = 0.011\n"
     ]
    },
    {
     "name": "stderr",
     "output_type": "stream",
     "text": [
      "100%|██████████| 39375/39375 [01:29<00:00, 440.74it/s]\n",
      " 44%|████▍     | 22/50 [36:53<46:45, 100.19s/it]"
     ]
    },
    {
     "name": "stdout",
     "output_type": "stream",
     "text": [
      "Epoch 21: train loss = 0.011, val loss = 0.010\n"
     ]
    },
    {
     "name": "stderr",
     "output_type": "stream",
     "text": [
      "100%|██████████| 39375/39375 [01:29<00:00, 440.81it/s]\n",
      " 46%|████▌     | 23/50 [38:33<45:02, 100.10s/it]"
     ]
    },
    {
     "name": "stdout",
     "output_type": "stream",
     "text": [
      "Epoch 22: train loss = 0.011, val loss = 0.011\n"
     ]
    },
    {
     "name": "stderr",
     "output_type": "stream",
     "text": [
      "100%|██████████| 39375/39375 [01:29<00:00, 439.49it/s]\n",
      " 48%|████▊     | 24/50 [40:13<43:22, 100.11s/it]"
     ]
    },
    {
     "name": "stdout",
     "output_type": "stream",
     "text": [
      "Epoch 23: train loss = 0.010, val loss = 0.010\n"
     ]
    },
    {
     "name": "stderr",
     "output_type": "stream",
     "text": [
      "100%|██████████| 39375/39375 [01:29<00:00, 437.53it/s]\n",
      " 50%|█████     | 25/50 [41:53<41:45, 100.24s/it]"
     ]
    },
    {
     "name": "stdout",
     "output_type": "stream",
     "text": [
      "Epoch 24: train loss = 0.010, val loss = 0.010\n"
     ]
    },
    {
     "name": "stderr",
     "output_type": "stream",
     "text": [
      "100%|██████████| 39375/39375 [01:28<00:00, 443.79it/s]\n",
      " 52%|█████▏    | 26/50 [43:33<39:58, 99.95s/it] "
     ]
    },
    {
     "name": "stdout",
     "output_type": "stream",
     "text": [
      "Epoch 25: train loss = 0.010, val loss = 0.010\n"
     ]
    },
    {
     "name": "stderr",
     "output_type": "stream",
     "text": [
      "100%|██████████| 39375/39375 [01:29<00:00, 441.18it/s]\n",
      " 54%|█████▍    | 27/50 [45:12<38:17, 99.91s/it]"
     ]
    },
    {
     "name": "stdout",
     "output_type": "stream",
     "text": [
      "Epoch 26: train loss = 0.010, val loss = 0.010\n"
     ]
    },
    {
     "name": "stderr",
     "output_type": "stream",
     "text": [
      "100%|██████████| 39375/39375 [01:29<00:00, 438.71it/s]\n",
      " 56%|█████▌    | 28/50 [46:53<36:40, 100.02s/it]"
     ]
    },
    {
     "name": "stdout",
     "output_type": "stream",
     "text": [
      "Epoch 27: train loss = 0.010, val loss = 0.010\n"
     ]
    },
    {
     "name": "stderr",
     "output_type": "stream",
     "text": [
      "100%|██████████| 39375/39375 [01:30<00:00, 435.78it/s]\n",
      " 58%|█████▊    | 29/50 [48:34<35:07, 100.33s/it]"
     ]
    },
    {
     "name": "stdout",
     "output_type": "stream",
     "text": [
      "Epoch 28: train loss = 0.010, val loss = 0.010\n"
     ]
    },
    {
     "name": "stderr",
     "output_type": "stream",
     "text": [
      "100%|██████████| 39375/39375 [01:30<00:00, 434.22it/s]\n",
      " 60%|██████    | 30/50 [50:15<33:30, 100.51s/it]"
     ]
    },
    {
     "name": "stdout",
     "output_type": "stream",
     "text": [
      "Epoch 29: train loss = 0.010, val loss = 0.010\n"
     ]
    },
    {
     "name": "stderr",
     "output_type": "stream",
     "text": [
      "100%|██████████| 39375/39375 [01:25<00:00, 460.69it/s]\n",
      " 62%|██████▏   | 31/50 [51:51<31:22, 99.10s/it] "
     ]
    },
    {
     "name": "stdout",
     "output_type": "stream",
     "text": [
      "Epoch 30: train loss = 0.010, val loss = 0.010\n"
     ]
    },
    {
     "name": "stderr",
     "output_type": "stream",
     "text": [
      "100%|██████████| 39375/39375 [01:25<00:00, 459.25it/s]\n",
      " 64%|██████▍   | 32/50 [53:27<29:27, 98.17s/it]"
     ]
    },
    {
     "name": "stdout",
     "output_type": "stream",
     "text": [
      "Epoch 31: train loss = 0.010, val loss = 0.010\n"
     ]
    },
    {
     "name": "stderr",
     "output_type": "stream",
     "text": [
      "100%|██████████| 39375/39375 [01:27<00:00, 451.33it/s]\n",
      " 66%|██████▌   | 33/50 [55:04<27:46, 98.00s/it]"
     ]
    },
    {
     "name": "stdout",
     "output_type": "stream",
     "text": [
      "Epoch 32: train loss = 0.010, val loss = 0.011\n"
     ]
    },
    {
     "name": "stderr",
     "output_type": "stream",
     "text": [
      "100%|██████████| 39375/39375 [01:26<00:00, 453.45it/s]\n",
      " 68%|██████▊   | 34/50 [56:41<26:04, 97.76s/it]"
     ]
    },
    {
     "name": "stdout",
     "output_type": "stream",
     "text": [
      "Epoch 33: train loss = 0.010, val loss = 0.010\n"
     ]
    },
    {
     "name": "stderr",
     "output_type": "stream",
     "text": [
      "100%|██████████| 39375/39375 [01:28<00:00, 442.76it/s]\n",
      " 70%|███████   | 35/50 [58:21<24:34, 98.28s/it]"
     ]
    },
    {
     "name": "stdout",
     "output_type": "stream",
     "text": [
      "Epoch 34: train loss = 0.010, val loss = 0.010\n"
     ]
    },
    {
     "name": "stderr",
     "output_type": "stream",
     "text": [
      "100%|██████████| 39375/39375 [01:29<00:00, 438.23it/s]\n",
      " 72%|███████▏  | 36/50 [1:00:01<23:05, 98.94s/it]"
     ]
    },
    {
     "name": "stdout",
     "output_type": "stream",
     "text": [
      "Epoch 35: train loss = 0.010, val loss = 0.010\n"
     ]
    },
    {
     "name": "stderr",
     "output_type": "stream",
     "text": [
      "100%|██████████| 39375/39375 [01:29<00:00, 439.22it/s]\n",
      " 74%|███████▍  | 37/50 [1:01:41<21:30, 99.25s/it]"
     ]
    },
    {
     "name": "stdout",
     "output_type": "stream",
     "text": [
      "Epoch 36: train loss = 0.010, val loss = 0.010\n"
     ]
    },
    {
     "name": "stderr",
     "output_type": "stream",
     "text": [
      "100%|██████████| 39375/39375 [01:29<00:00, 437.79it/s]\n",
      " 76%|███████▌  | 38/50 [1:03:22<19:55, 99.66s/it]"
     ]
    },
    {
     "name": "stdout",
     "output_type": "stream",
     "text": [
      "Epoch 37: train loss = 0.010, val loss = 0.010\n"
     ]
    },
    {
     "name": "stderr",
     "output_type": "stream",
     "text": [
      "100%|██████████| 39375/39375 [01:28<00:00, 443.79it/s]\n",
      " 78%|███████▊  | 39/50 [1:05:01<18:13, 99.42s/it]"
     ]
    },
    {
     "name": "stdout",
     "output_type": "stream",
     "text": [
      "Epoch 38: train loss = 0.010, val loss = 0.010\n"
     ]
    },
    {
     "name": "stderr",
     "output_type": "stream",
     "text": [
      "100%|██████████| 39375/39375 [01:28<00:00, 442.92it/s]\n",
      " 80%|████████  | 40/50 [1:06:40<16:34, 99.45s/it]"
     ]
    },
    {
     "name": "stdout",
     "output_type": "stream",
     "text": [
      "Epoch 39: train loss = 0.010, val loss = 0.010\n"
     ]
    },
    {
     "name": "stderr",
     "output_type": "stream",
     "text": [
      "100%|██████████| 39375/39375 [01:28<00:00, 444.13it/s]\n",
      " 82%|████████▏ | 41/50 [1:08:20<14:54, 99.41s/it]"
     ]
    },
    {
     "name": "stdout",
     "output_type": "stream",
     "text": [
      "Epoch 40: train loss = 0.010, val loss = 0.010\n"
     ]
    },
    {
     "name": "stderr",
     "output_type": "stream",
     "text": [
      "100%|██████████| 39375/39375 [01:28<00:00, 443.73it/s]\n",
      " 84%|████████▍ | 42/50 [1:09:59<13:14, 99.37s/it]"
     ]
    },
    {
     "name": "stdout",
     "output_type": "stream",
     "text": [
      "Epoch 41: train loss = 0.010, val loss = 0.010\n"
     ]
    },
    {
     "name": "stderr",
     "output_type": "stream",
     "text": [
      "100%|██████████| 39375/39375 [01:28<00:00, 444.70it/s]\n",
      " 86%|████████▌ | 43/50 [1:11:38<11:35, 99.30s/it]"
     ]
    },
    {
     "name": "stdout",
     "output_type": "stream",
     "text": [
      "Epoch 42: train loss = 0.010, val loss = 0.010\n"
     ]
    },
    {
     "name": "stderr",
     "output_type": "stream",
     "text": [
      "100%|██████████| 39375/39375 [01:28<00:00, 443.77it/s]\n",
      " 88%|████████▊ | 44/50 [1:13:17<09:55, 99.32s/it]"
     ]
    },
    {
     "name": "stdout",
     "output_type": "stream",
     "text": [
      "Epoch 43: train loss = 0.010, val loss = 0.010\n"
     ]
    },
    {
     "name": "stderr",
     "output_type": "stream",
     "text": [
      "100%|██████████| 39375/39375 [01:28<00:00, 443.58it/s]\n",
      " 90%|█████████ | 45/50 [1:14:57<08:16, 99.31s/it]"
     ]
    },
    {
     "name": "stdout",
     "output_type": "stream",
     "text": [
      "Epoch 44: train loss = 0.010, val loss = 0.010\n"
     ]
    },
    {
     "name": "stderr",
     "output_type": "stream",
     "text": [
      "100%|██████████| 39375/39375 [01:28<00:00, 444.68it/s]\n",
      " 92%|█████████▏| 46/50 [1:16:36<06:37, 99.26s/it]"
     ]
    },
    {
     "name": "stdout",
     "output_type": "stream",
     "text": [
      "Epoch 45: train loss = 0.010, val loss = 0.010\n"
     ]
    },
    {
     "name": "stderr",
     "output_type": "stream",
     "text": [
      "100%|██████████| 39375/39375 [01:28<00:00, 445.85it/s]\n",
      " 94%|█████████▍| 47/50 [1:18:15<04:57, 99.16s/it]"
     ]
    },
    {
     "name": "stdout",
     "output_type": "stream",
     "text": [
      "Epoch 46: train loss = 0.010, val loss = 0.010\n"
     ]
    },
    {
     "name": "stderr",
     "output_type": "stream",
     "text": [
      "100%|██████████| 39375/39375 [01:28<00:00, 443.96it/s]\n",
      " 96%|█████████▌| 48/50 [1:19:54<03:18, 99.21s/it]"
     ]
    },
    {
     "name": "stdout",
     "output_type": "stream",
     "text": [
      "Epoch 47: train loss = 0.010, val loss = 0.010\n"
     ]
    },
    {
     "name": "stderr",
     "output_type": "stream",
     "text": [
      "100%|██████████| 39375/39375 [01:28<00:00, 444.04it/s]\n",
      " 98%|█████████▊| 49/50 [1:21:33<01:39, 99.18s/it]"
     ]
    },
    {
     "name": "stdout",
     "output_type": "stream",
     "text": [
      "Epoch 48: train loss = 0.010, val loss = 0.010\n"
     ]
    },
    {
     "name": "stderr",
     "output_type": "stream",
     "text": [
      "100%|██████████| 39375/39375 [01:28<00:00, 447.18it/s]\n",
      "100%|██████████| 50/50 [1:23:11<00:00, 99.84s/it]"
     ]
    },
    {
     "name": "stdout",
     "output_type": "stream",
     "text": [
      "Epoch 49: train loss = 0.010, val loss = 0.010\n"
     ]
    },
    {
     "name": "stderr",
     "output_type": "stream",
     "text": [
      "\n"
     ]
    }
   ],
   "source": [
    "loss_fn = nn.MSELoss()\n",
    "optimizer = torch.optim.Adam(model.parameters())\n",
    "train(model, loss_fn, optimizer, train_dl, val_dl, device=device, print_metrics=True, epochs=50)\n",
    "torch.save(model.state_dict(), \"outpainter_net/state.pt\")"
   ]
  },
  {
   "cell_type": "code",
   "execution_count": 15,
   "metadata": {},
   "outputs": [
    {
     "data": {
      "text/plain": [
       "[Text(0.5, 0, 'epoch')]"
      ]
     },
     "execution_count": 15,
     "metadata": {},
     "output_type": "execute_result"
    },
    {
     "data": {
      "image/png": "[encoded data removed]",
      "text/plain": [
       "<Figure size 720x576 with 1 Axes>"
      ]
     },
     "metadata": {},
     "output_type": "display_data"
    }
   ],
   "source": [
    "train_loss = [\n",
    "    0.012,\n",
    "    0.011,\n",
    "    0.011,\n",
    "    0.011,\n",
    "    0.011,\n",
    "    0.011,\n",
    "    0.011,\n",
    "    0.011,\n",
    "    0.011,\n",
    "    0.011,\n",
    "    0.011,\n",
    "    0.011,\n",
    "    0.011,\n",
    "    0.011,\n",
    "    0.011,\n",
    "    0.011,\n",
    "    0.011,\n",
    "    0.011,\n",
    "    0.011,\n",
    "    0.011,\n",
    "    0.011,\n",
    "    0.011,\n",
    "    0.011,\n",
    "    0.010,\n",
    "    0.010,\n",
    "    0.010,\n",
    "    0.010,\n",
    "    0.010,\n",
    "    0.010,\n",
    "    0.010,\n",
    "    0.010,\n",
    "    0.010,\n",
    "    0.010,\n",
    "    0.010,\n",
    "    0.010,\n",
    "    0.010,\n",
    "    0.010,\n",
    "    0.010,\n",
    "    0.010,\n",
    "    0.010,\n",
    "    0.010,\n",
    "    0.010,\n",
    "    0.010,\n",
    "    0.010,\n",
    "    0.010,\n",
    "    0.010,\n",
    "    0.010,\n",
    "    0.010,\n",
    "    0.010,\n",
    "    0.010,\n",
    "]\n",
    "val_loss = [\n",
    "    0.011,\n",
    "    0.011,\n",
    "    0.011,\n",
    "    0.011,\n",
    "    0.011,\n",
    "    0.011,\n",
    "    0.011,\n",
    "    0.011,\n",
    "    0.011,\n",
    "    0.011,\n",
    "    0.011,\n",
    "    0.011,\n",
    "    0.011,\n",
    "    0.011,\n",
    "    0.011,\n",
    "    0.011,\n",
    "    0.011,\n",
    "    0.011,\n",
    "    0.011,\n",
    "    0.011,\n",
    "    0.011,\n",
    "    0.010,\n",
    "    0.011,\n",
    "    0.010,\n",
    "    0.010,\n",
    "    0.010,\n",
    "    0.010,\n",
    "    0.010,\n",
    "    0.010,\n",
    "    0.010,\n",
    "    0.010,\n",
    "    0.010,\n",
    "    0.011,\n",
    "    0.010,\n",
    "    0.010,\n",
    "    0.010,\n",
    "    0.010,\n",
    "    0.010,\n",
    "    0.010,\n",
    "    0.010,\n",
    "    0.010,\n",
    "    0.010,\n",
    "    0.010,\n",
    "    0.010,\n",
    "    0.010,\n",
    "    0.010,\n",
    "    0.010,\n",
    "    0.010,\n",
    "    0.010,\n",
    "    0.010,\n",
    "]\n",
    "data = {\n",
    "    \"train loss\": train_loss,\n",
    "    \"validation loss\": val_loss\n",
    "}\n",
    "plot = sns.lineplot(data)\n",
    "plot.set(xlabel=\"epoch\")"
   ]
  },
  {
   "cell_type": "code",
   "execution_count": 38,
   "metadata": {},
   "outputs": [
    {
     "data": {
      "text/html": [
       "<div>\n",
       "<style scoped>\n",
       "    .dataframe tbody tr th:only-of-type {\n",
       "        vertical-align: middle;\n",
       "    }\n",
       "\n",
       "    .dataframe tbody tr th {\n",
       "        vertical-align: top;\n",
       "    }\n",
       "\n",
       "    .dataframe thead th {\n",
       "        text-align: right;\n",
       "    }\n",
       "</style>\n",
       "<table border=\"1\" class=\"dataframe\">\n",
       "  <thead>\n",
       "    <tr style=\"text-align: right;\">\n",
       "      <th></th>\n",
       "      <th>pxl loss</th>\n",
       "      <th>adv loss</th>\n",
       "      <th>D loss</th>\n",
       "    </tr>\n",
       "    <tr>\n",
       "      <th>batch</th>\n",
       "      <th></th>\n",
       "      <th></th>\n",
       "      <th></th>\n",
       "    </tr>\n",
       "  </thead>\n",
       "  <tbody>\n",
       "    <tr>\n",
       "      <th>1</th>\n",
       "      <td>0.3992</td>\n",
       "      <td>2.1848</td>\n",
       "      <td>1.6137</td>\n",
       "    </tr>\n",
       "    <tr>\n",
       "      <th>2</th>\n",
       "      <td>0.4033</td>\n",
       "      <td>10.6560</td>\n",
       "      <td>9.5202</td>\n",
       "    </tr>\n",
       "    <tr>\n",
       "      <th>4</th>\n",
       "      <td>0.4003</td>\n",
       "      <td>2.4134</td>\n",
       "      <td>1.4148</td>\n",
       "    </tr>\n",
       "    <tr>\n",
       "      <th>8</th>\n",
       "      <td>0.2662</td>\n",
       "      <td>0.5178</td>\n",
       "      <td>0.2956</td>\n",
       "    </tr>\n",
       "    <tr>\n",
       "      <th>16</th>\n",
       "      <td>0.2054</td>\n",
       "      <td>0.7107</td>\n",
       "      <td>0.2878</td>\n",
       "    </tr>\n",
       "    <tr>\n",
       "      <th>32</th>\n",
       "      <td>0.1781</td>\n",
       "      <td>0.7793</td>\n",
       "      <td>0.1080</td>\n",
       "    </tr>\n",
       "    <tr>\n",
       "      <th>64</th>\n",
       "      <td>0.1808</td>\n",
       "      <td>0.9877</td>\n",
       "      <td>0.0655</td>\n",
       "    </tr>\n",
       "    <tr>\n",
       "      <th>128</th>\n",
       "      <td>0.1597</td>\n",
       "      <td>0.7204</td>\n",
       "      <td>0.0745</td>\n",
       "    </tr>\n",
       "    <tr>\n",
       "      <th>256</th>\n",
       "      <td>0.1580</td>\n",
       "      <td>0.9923</td>\n",
       "      <td>0.0411</td>\n",
       "    </tr>\n",
       "    <tr>\n",
       "      <th>512</th>\n",
       "      <td>0.1388</td>\n",
       "      <td>0.5913</td>\n",
       "      <td>0.0896</td>\n",
       "    </tr>\n",
       "    <tr>\n",
       "      <th>1024</th>\n",
       "      <td>0.1771</td>\n",
       "      <td>1.0207</td>\n",
       "      <td>0.0096</td>\n",
       "    </tr>\n",
       "    <tr>\n",
       "      <th>2048</th>\n",
       "      <td>0.1682</td>\n",
       "      <td>1.1435</td>\n",
       "      <td>0.0100</td>\n",
       "    </tr>\n",
       "    <tr>\n",
       "      <th>4096</th>\n",
       "      <td>0.1001</td>\n",
       "      <td>1.0273</td>\n",
       "      <td>0.0019</td>\n",
       "    </tr>\n",
       "    <tr>\n",
       "      <th>8192</th>\n",
       "      <td>0.1102</td>\n",
       "      <td>1.0157</td>\n",
       "      <td>0.0038</td>\n",
       "    </tr>\n",
       "    <tr>\n",
       "      <th>16384</th>\n",
       "      <td>0.1268</td>\n",
       "      <td>0.9288</td>\n",
       "      <td>0.0348</td>\n",
       "    </tr>\n",
       "    <tr>\n",
       "      <th>32768</th>\n",
       "      <td>0.1111</td>\n",
       "      <td>1.0082</td>\n",
       "      <td>0.0002</td>\n",
       "    </tr>\n",
       "    <tr>\n",
       "      <th>65536</th>\n",
       "      <td>0.1071</td>\n",
       "      <td>0.9854</td>\n",
       "      <td>0.0003</td>\n",
       "    </tr>\n",
       "    <tr>\n",
       "      <th>131072</th>\n",
       "      <td>0.0724</td>\n",
       "      <td>0.9995</td>\n",
       "      <td>0.0030</td>\n",
       "    </tr>\n",
       "    <tr>\n",
       "      <th>262144</th>\n",
       "      <td>0.0931</td>\n",
       "      <td>1.0084</td>\n",
       "      <td>0.0002</td>\n",
       "    </tr>\n",
       "    <tr>\n",
       "      <th>450865</th>\n",
       "      <td>0.0858</td>\n",
       "      <td>0.9984</td>\n",
       "      <td>0.0025</td>\n",
       "    </tr>\n",
       "  </tbody>\n",
       "</table>\n",
       "</div>"
      ],
      "text/plain": [
       "        pxl loss  adv loss  D loss\n",
       "batch                             \n",
       "1         0.3992    2.1848  1.6137\n",
       "2         0.4033   10.6560  9.5202\n",
       "4         0.4003    2.4134  1.4148\n",
       "8         0.2662    0.5178  0.2956\n",
       "16        0.2054    0.7107  0.2878\n",
       "32        0.1781    0.7793  0.1080\n",
       "64        0.1808    0.9877  0.0655\n",
       "128       0.1597    0.7204  0.0745\n",
       "256       0.1580    0.9923  0.0411\n",
       "512       0.1388    0.5913  0.0896\n",
       "1024      0.1771    1.0207  0.0096\n",
       "2048      0.1682    1.1435  0.0100\n",
       "4096      0.1001    1.0273  0.0019\n",
       "8192      0.1102    1.0157  0.0038\n",
       "16384     0.1268    0.9288  0.0348\n",
       "32768     0.1111    1.0082  0.0002\n",
       "65536     0.1071    0.9854  0.0003\n",
       "131072    0.0724    0.9995  0.0030\n",
       "262144    0.0931    1.0084  0.0002\n",
       "450865    0.0858    0.9984  0.0025"
      ]
     },
     "execution_count": 38,
     "metadata": {},
     "output_type": "execute_result"
    }
   ],
   "source": [
    "\n",
    "df"
   ]
  },
  {
   "cell_type": "code",
   "execution_count": 44,
   "metadata": {},
   "outputs": [
    {
     "data": {
      "image/png": "[encoded data removed]",
      "text/plain": [
       "<Figure size 720x576 with 1 Axes>"
      ]
     },
     "metadata": {},
     "output_type": "display_data"
    }
   ],
   "source": [
    "batches = [\n",
    "    1,\n",
    "    2,\n",
    "    4,\n",
    "    8,\n",
    "    16,\n",
    "    32,\n",
    "    64,\n",
    "    128,\n",
    "    256,\n",
    "    512,\n",
    "    1024,\n",
    "    2048,\n",
    "    4096,\n",
    "    8192,\n",
    "    16384,\n",
    "    32768,\n",
    "    65536,\n",
    "    131072,\n",
    "    262144,\n",
    "    450865\n",
    "]\n",
    "loss_pxl = [\n",
    "    0.3992,\n",
    "    0.4033,\n",
    "    0.4003,\n",
    "    0.2662,\n",
    "    0.2054,\n",
    "    0.1781,\n",
    "    0.1808,\n",
    "    0.1597,\n",
    "    0.1580,\n",
    "    0.1388,\n",
    "    0.1771,\n",
    "    0.1682,\n",
    "    0.1001,\n",
    "    0.1102,\n",
    "    0.1268,\n",
    "    0.1111,\n",
    "    0.1071,\n",
    "    0.0724,\n",
    "    0.0931,\n",
    "    0.0858\n",
    "]\n",
    "loss_adv = [\n",
    "    2.1848,\n",
    "    10.6560,\n",
    "    2.4134,\n",
    "    0.5178,\n",
    "    0.7107,\n",
    "    0.7793,\n",
    "    0.9877,\n",
    "    0.7204,\n",
    "    0.9923,\n",
    "    0.5913,\n",
    "    1.0207,\n",
    "    1.1435,\n",
    "    1.0273,\n",
    "    1.0157,\n",
    "    0.9288,\n",
    "    1.0082,\n",
    "    0.9854,\n",
    "    0.9995,\n",
    "    1.0084,\n",
    "    0.9984\n",
    "]\n",
    "loss_D = [\n",
    "    1.6137,\n",
    "    9.5202,\n",
    "    1.4148,\n",
    "    0.2956,\n",
    "    0.2878,\n",
    "    0.1080,\n",
    "    0.0655,\n",
    "    0.0745,\n",
    "    0.0411,\n",
    "    0.0896,\n",
    "    0.0096,\n",
    "    0.0100,\n",
    "    0.0019,\n",
    "    0.0038,\n",
    "    0.0348,\n",
    "    0.0002,\n",
    "    0.0003,\n",
    "    0.0030,\n",
    "    0.0002,\n",
    "    0.0025\n",
    "]\n",
    "\n",
    "data = {\n",
    "    \"batch\": batches,\n",
    "    \"pxl loss\": loss_pxl,\n",
    "    \"adv loss\": loss_adv,\n",
    "    \"D loss\": loss_D\n",
    "}\n",
    "\n",
    "df = pd.DataFrame(data)\n",
    "df = df.set_index(\"batch\")\n",
    "\n",
    "sns.lineplot(df)\n",
    "plt.yscale(\"log\")\n",
    "plt.xscale(\"log\")"
   ]
  },
  {
   "cell_type": "code",
   "execution_count": 7,
   "metadata": {},
   "outputs": [],
   "source": [
    "import glob\n",
    "from typing import Any, Callable, Optional\n",
    "\n",
    "\n",
    "def outpaint(model: nn.Module, batch: torch.Tensor, target_size: List[int]):\n",
    "    if model.__class__ == OutpainterNet:\n",
    "        return model.image_outpaint(batch, target_size)\n",
    "    elif model.__class__ == outpainting.CEGenerator:\n",
    "        outs = model(resize(batch, [128, 128]))\n",
    "        return resize(outs, target_size)\n",
    "\n",
    "@torch.no_grad()\n",
    "def model_test(model: nn.Module, dl: DataLoader, input_size: List[int]):\n",
    "    loss_fn = nn.MSELoss()\n",
    "    total_loss = 0\n",
    "    count = 0\n",
    "    for batch in tqdm(dl):\n",
    "        batch = batch.to(device)\n",
    "        X = center_crop(batch, input_size)\n",
    "        preds = outpaint(model, X, [256, 256])\n",
    "        loss = loss_fn(preds, batch)\n",
    "        total_loss += loss\n",
    "        count += 1\n",
    "    return total_loss.item() / count\n",
    "\n",
    "def pil_loader(path: str) -> Image.Image:\n",
    "    # open path as file to avoid ResourceWarning (https://github.com/python-pillow/Pillow/issues/835)\n",
    "    with open(path, \"rb\") as f:\n",
    "        img = Image.open(f)\n",
    "        return img.convert(\"RGB\")\n",
    "\n",
    "class BasicDataset(torchvision.datasets.VisionDataset):\n",
    "    def __init__(self, root: str, transforms: Optional[Callable] = None, transform: Optional[Callable] = None, target_transform: Optional[Callable] = None) -> None:\n",
    "        super().__init__(root, transforms, transform, target_transform)\n",
    "        self.files = sorted(glob.glob(\"%s/**/*.jpg\" % root, recursive=True))\n",
    "    \n",
    "    def __getitem__(self, index: int) -> Any:\n",
    "        return self.transform(pil_loader(self.files[index]))\n",
    "    \n",
    "    def __len__(self) -> int:\n",
    "        return len(self.files)"
   ]
  },
  {
   "cell_type": "code",
   "execution_count": 8,
   "metadata": {},
   "outputs": [],
   "source": [
    "batch_size = 256"
   ]
  },
  {
   "cell_type": "code",
   "execution_count": 14,
   "metadata": {},
   "outputs": [],
   "source": [
    "model.load_state_dict(torch.load(\"outpainter_net/state.pt\"))\n",
    "model.eval()\n",
    "\n",
    "test_ds = BasicDataset(\"data/test_256/\", transform=transforms)\n",
    "test_dl = DataLoader(test_ds, batch_size, pin_memory=True)"
   ]
  },
  {
   "cell_type": "code",
   "execution_count": 10,
   "metadata": {},
   "outputs": [
    {
     "name": "stderr",
     "output_type": "stream",
     "text": [
      "100%|██████████| 1284/1284 [31:08<00:00,  1.46s/it]\n"
     ]
    },
    {
     "data": {
      "text/plain": [
       "0.05175549516053957"
      ]
     },
     "execution_count": 10,
     "metadata": {},
     "output_type": "execute_result"
    }
   ],
   "source": [
    "model_test(model, test_dl, [171, 171])"
   ]
  },
  {
   "cell_type": "code",
   "execution_count": 15,
   "metadata": {},
   "outputs": [
    {
     "name": "stderr",
     "output_type": "stream",
     "text": [
      "100%|██████████| 1284/1284 [16:25<00:00,  1.30it/s]\n"
     ]
    },
    {
     "data": {
      "text/plain": [
       "0.04353831935894452"
      ]
     },
     "execution_count": 15,
     "metadata": {},
     "output_type": "execute_result"
    }
   ],
   "source": [
    "model_test(model, test_dl, [192, 192])"
   ]
  },
  {
   "cell_type": "code",
   "execution_count": 11,
   "metadata": {},
   "outputs": [],
   "source": [
    "model2 = outpainting.load_model('generator_final.pt').to(device)\n",
    "model2.eval()\n",
    "\n",
    "transforms2 = torchvision.transforms.Compose([\n",
    "    torchvision.transforms.PILToTensor()\n",
    "])\n",
    "test_ds = BasicDataset(\"data/test_256/\", transform=transforms)\n",
    "test_dl = DataLoader(test_ds, batch_size, pin_memory=True)"
   ]
  },
  {
   "cell_type": "code",
   "execution_count": 12,
   "metadata": {},
   "outputs": [
    {
     "name": "stderr",
     "output_type": "stream",
     "text": [
      "100%|██████████| 1284/1284 [19:38<00:00,  1.09it/s]\n"
     ]
    },
    {
     "data": {
      "text/plain": [
       "0.07265227605992017"
      ]
     },
     "execution_count": 12,
     "metadata": {},
     "output_type": "execute_result"
    }
   ],
   "source": [
    "model_test(model2, test_dl, [171, 171])"
   ]
  },
  {
   "cell_type": "code",
   "execution_count": 13,
   "metadata": {},
   "outputs": [
    {
     "name": "stderr",
     "output_type": "stream",
     "text": [
      "100%|██████████| 1284/1284 [15:46<00:00,  1.36it/s]\n"
     ]
    },
    {
     "data": {
      "text/plain": [
       "0.0657205017184914"
      ]
     },
     "execution_count": 13,
     "metadata": {},
     "output_type": "execute_result"
    }
   ],
   "source": [
    "model_test(model2, test_dl, [192, 192])"
   ]
  },
  {
   "attachments": {},
   "cell_type": "markdown",
   "metadata": {},
   "source": [
    "4"
   ]
  },
  {
   "cell_type": "code",
   "execution_count": 40,
   "metadata": {},
   "outputs": [
    {
     "name": "stdout",
     "output_type": "stream",
     "text": [
      "Input size: (256, 256, 3)\n",
      "Output size: (192, 192, 3)\n",
      "Blended size: (384, 384, 3)\n",
      "Input size: (256, 256, 3)\n",
      "Output size: (192, 192, 3)\n",
      "Blended size: (384, 384, 3)\n",
      "Input size: (256, 256, 3)\n",
      "Output size: (192, 192, 3)\n",
      "Blended size: (384, 384, 3)\n",
      "Input size: (256, 256, 3)\n",
      "Output size: (192, 192, 3)\n",
      "Blended size: (384, 384, 3)\n",
      "Input size: (256, 256, 3)\n",
      "Output size: (192, 192, 3)\n",
      "Blended size: (384, 384, 3)\n",
      "Input size: (256, 256, 3)\n",
      "Output size: (192, 192, 3)\n",
      "Blended size: (384, 384, 3)\n",
      "Input size: (256, 256, 3)\n",
      "Output size: (192, 192, 3)\n",
      "Blended size: (384, 384, 3)\n",
      "Input size: (256, 256, 3)\n",
      "Output size: (192, 192, 3)\n",
      "Blended size: (384, 384, 3)\n",
      "Input size: (256, 256, 3)\n",
      "Output size: (192, 192, 3)\n",
      "Blended size: (384, 384, 3)\n",
      "Input size: (256, 256, 3)\n",
      "Output size: (192, 192, 3)\n",
      "Blended size: (384, 384, 3)\n"
     ]
    }
   ],
   "source": [
    "samples = random.sample(range(len(test_ds)), 10)\n",
    "samples = torch.stack([test_ds[i] for i in samples]).to(device)\n",
    "samples1 = outpaint(model, samples, [384, 384])\n",
    "samples1 = []\n",
    "for i, sample in enumerate(samples):\n",
    "    samples1.append(model.image_outpaint(sample.to(device).unsqueeze(0), (384, 384)).squeeze())\n",
    "samples2 = []\n",
    "for i, sample in enumerate(samples):\n",
    "    samples2.append(outpainting.perform_outpaint(model2.cpu(), sample.transpose(0, 2).cpu().numpy())[1])"
   ]
  },
  {
   "cell_type": "code",
   "execution_count": 42,
   "metadata": {},
   "outputs": [],
   "source": [
    "for i, sample in enumerate(samples1):\n",
    "    back_to_pil(sample).save(\"data/experiments/3/mine_\" + str(i) + \".png\")\n",
    "for i, sample in enumerate(samples2):\n",
    "    Image.fromarray((sample * 256).astype(np.uint8)).rotate(-90).save(\"data/experiments/3/ref_\" + str(i) + \".png\")"
   ]
  },
  {
   "cell_type": "code",
   "execution_count": 23,
   "metadata": {},
   "outputs": [],
   "source": [
    "pred = model.image_outpaint(test_ds[2].to(device).unsqueeze(0), (384, 384)).squeeze()"
   ]
  },
  {
   "cell_type": "code",
   "execution_count": null,
   "metadata": {},
   "outputs": [],
   "source": [
    "pred = Image.fromarray(((test_ds[2]) * 256).astype(np.uint8))"
   ]
  },
  {
   "cell_type": "code",
   "execution_count": 24,
   "metadata": {},
   "outputs": [
    {
     "data": {
      "image/png": "[encoded data removed]",
      "text/plain": [
       "<PIL.Image.Image image mode=RGB size=384x384 at 0x7FD7226EA5B0>"
      ]
     },
     "metadata": {},
     "output_type": "display_data"
    }
   ],
   "source": [
    "display(back_to_pil(pred))"
   ]
  }
 ],
 "metadata": {
  "kernelspec": {
   "display_name": "vision-stretcher",
   "language": "python",
   "name": "python3"
  },
  "language_info": {
   "codemirror_mode": {
    "name": "ipython",
    "version": 3
   },
   "file_extension": ".py",
   "mimetype": "text/x-python",
   "name": "python",
   "nbconvert_exporter": "python",
   "pygments_lexer": "ipython3",
   "version": "3.9.12"
  },
  "orig_nbformat": 4,
  "vscode": {
   "interpreter": {
    "hash": "083d3712760fdb628befe5d1b12c121e979c76aa443ff9a7fd57a6967e239b12"
   }
  }
 },
 "nbformat": 4,
 "nbformat_minor": 2
}
